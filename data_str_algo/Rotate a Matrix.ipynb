{
 "cells": [
  {
   "cell_type": "code",
   "execution_count": 186,
   "metadata": {},
   "outputs": [],
   "source": [
    "# Rotate Matrix\n",
    "# A matrix is a N x N list\n",
    "# rotate matrix rotates a matrix clock wise 90 degrees\n",
    "\n",
    "# rotate_mat: list of list of int --> void\n",
    "# rotate M clock-wise 90 degrees\n",
    "def rotate_mat(M):\n",
    "    N = len(M)\n",
    "    \n",
    "        \n",
    "    for n in range(0, N // 2):\n",
    "        for start in range(n, N-n-1):\n",
    "            i, j = n, start\n",
    "            temp = M[i][j]\n",
    "            \n",
    "            for k in range(0,4):\n",
    "                rot_i, rot_j = j, N-1-i\n",
    "                M[rot_i][rot_j], temp = temp, M[rot_i][rot_j]\n",
    "                i, j = rot_i, rot_j\n",
    "                "
   ]
  },
  {
   "cell_type": "code",
   "execution_count": 189,
   "metadata": {},
   "outputs": [],
   "source": [
    "import numpy as np\n",
    "\n",
    "def test():\n",
    "    for i in range(1,11):\n",
    "        x = np.arange(0, i **2)\n",
    "        x = x.reshape(i,i)\n",
    "        rotate_mat(x)\n",
    "        print(x)"
   ]
  },
  {
   "cell_type": "code",
   "execution_count": 190,
   "metadata": {},
   "outputs": [
    {
     "name": "stdout",
     "output_type": "stream",
     "text": [
      "[[0]]\n",
      "[[2 0]\n",
      " [3 1]]\n",
      "[[6 3 0]\n",
      " [7 4 1]\n",
      " [8 5 2]]\n",
      "[[12  8  4  0]\n",
      " [13  9  5  1]\n",
      " [14 10  6  2]\n",
      " [15 11  7  3]]\n",
      "[[20 15 10  5  0]\n",
      " [21 16 11  6  1]\n",
      " [22 17 12  7  2]\n",
      " [23 18 13  8  3]\n",
      " [24 19 14  9  4]]\n",
      "[[30 24 18 12  6  0]\n",
      " [31 25 19 13  7  1]\n",
      " [32 26 20 14  8  2]\n",
      " [33 27 21 15  9  3]\n",
      " [34 28 22 16 10  4]\n",
      " [35 29 23 17 11  5]]\n",
      "[[42 35 28 21 14  7  0]\n",
      " [43 36 29 22 15  8  1]\n",
      " [44 37 30 23 16  9  2]\n",
      " [45 38 31 24 17 10  3]\n",
      " [46 39 32 25 18 11  4]\n",
      " [47 40 33 26 19 12  5]\n",
      " [48 41 34 27 20 13  6]]\n",
      "[[56 48 40 32 24 16  8  0]\n",
      " [57 49 41 33 25 17  9  1]\n",
      " [58 50 42 34 26 18 10  2]\n",
      " [59 51 43 35 27 19 11  3]\n",
      " [60 52 44 36 28 20 12  4]\n",
      " [61 53 45 37 29 21 13  5]\n",
      " [62 54 46 38 30 22 14  6]\n",
      " [63 55 47 39 31 23 15  7]]\n",
      "[[72 63 54 45 36 27 18  9  0]\n",
      " [73 64 55 46 37 28 19 10  1]\n",
      " [74 65 56 47 38 29 20 11  2]\n",
      " [75 66 57 48 39 30 21 12  3]\n",
      " [76 67 58 49 40 31 22 13  4]\n",
      " [77 68 59 50 41 32 23 14  5]\n",
      " [78 69 60 51 42 33 24 15  6]\n",
      " [79 70 61 52 43 34 25 16  7]\n",
      " [80 71 62 53 44 35 26 17  8]]\n",
      "[[90 80 70 60 50 40 30 20 10  0]\n",
      " [91 81 71 61 51 41 31 21 11  1]\n",
      " [92 82 72 62 52 42 32 22 12  2]\n",
      " [93 83 73 63 53 43 33 23 13  3]\n",
      " [94 84 74 64 54 44 34 24 14  4]\n",
      " [95 85 75 65 55 45 35 25 15  5]\n",
      " [96 86 76 66 56 46 36 26 16  6]\n",
      " [97 87 77 67 57 47 37 27 17  7]\n",
      " [98 88 78 68 58 48 38 28 18  8]\n",
      " [99 89 79 69 59 49 39 29 19  9]]\n"
     ]
    }
   ],
   "source": [
    "test()"
   ]
  },
  {
   "cell_type": "code",
   "execution_count": null,
   "metadata": {},
   "outputs": [],
   "source": []
  }
 ],
 "metadata": {
  "kernelspec": {
   "display_name": "Python 3",
   "language": "python",
   "name": "python3"
  },
  "language_info": {
   "codemirror_mode": {
    "name": "ipython",
    "version": 3
   },
   "file_extension": ".py",
   "mimetype": "text/x-python",
   "name": "python",
   "nbconvert_exporter": "python",
   "pygments_lexer": "ipython3",
   "version": "3.6.5"
  }
 },
 "nbformat": 4,
 "nbformat_minor": 2
}
