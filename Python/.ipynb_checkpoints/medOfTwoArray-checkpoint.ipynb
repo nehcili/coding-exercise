{
 "cells": [
  {
   "cell_type": "code",
   "execution_count": 28,
   "metadata": {},
   "outputs": [],
   "source": [
    "class Solution(object):    \n",
    "    def findMedianSortedArrays(self, nums1, nums2):\n",
    "        n = len(nums1)\n",
    "        m = len(nums2)\n",
    "        \n",
    "        if n < m:\n",
    "            return self.findMedianSortedArrays_(nums2, 0, m, nums1, 0, n)\n",
    "        else:\n",
    "            return self.findMedianSortedArrays_(nums1, 0, n, nums2, 0, m)\n",
    "        \n",
    "    def median(self, nums, start, end, mid):\n",
    "        if (start - end) % 2 == 1:\n",
    "            return nums[mid]\n",
    "        else:\n",
    "            return (nums[mid] + nums[mid-1]) / 2\n",
    "        \n",
    "    def median2(self, nums, start, end, mid, num):        \n",
    "        if (start - end) % 2 == 0:\n",
    "            if num <= nums[mid]:\n",
    "                return max(nums[mid-1], num)\n",
    "            else:\n",
    "                return nums[mid]\n",
    "        else:\n",
    "            if end-start== 1:\n",
    "                return (nums[mid] + num) /2\n",
    "            elif num <= nums[mid]:\n",
    "                return (nums[mid] + max(nums[mid-1], num)) /2\n",
    "            else:\n",
    "                return (nums[mid] + min(nums[mid+1], num)) /2\n",
    "            \n",
    "            \n",
    "    def findMedianSortedArrays_(self, nums1, nStart, nEnd, nums2, mStart, mEnd):       \n",
    "        nMid = (nStart + nEnd) // 2\n",
    "        mMid = (mStart + mEnd) // 2\n",
    "        \n",
    "        if mStart == mEnd:\n",
    "            return self.median(nums1, nStart, nEnd, nMid)\n",
    "        elif mStart == mEnd-1:\n",
    "            return self.median2(nums1, nStart, nEnd, nMid, nums2[mStart])\n",
    "        elif nums1[nMid] <= nums2[mMid]:\n",
    "            return self.findMedianSortedArrays_(nums1, nStart + mMid - mStart, nEnd,\n",
    "                                                nums2, mStart, mMid)\n",
    "        else:\n",
    "            return self.findMedianSortedArrays_(nums1, nStart, nMid+mStart-mMid,\n",
    "                                                nums2, mMid, mEnd)\n",
    "        \n",
    "    def findMedianSortedArraysBrute(self, nums1, nums2):\n",
    "        n = len(nums1) + len(nums2)\n",
    "        x = nums1 + nums2\n",
    "        x.sort()\n",
    "        return self.median(x, 0, n, n //2)"
   ]
  },
  {
   "cell_type": "code",
   "execution_count": 29,
   "metadata": {},
   "outputs": [],
   "source": [
    "x=Solution()"
   ]
  },
  {
   "cell_type": "code",
   "execution_count": 32,
   "metadata": {},
   "outputs": [
    {
     "data": {
      "text/plain": [
       "3.5"
      ]
     },
     "execution_count": 32,
     "metadata": {},
     "output_type": "execute_result"
    }
   ],
   "source": [
    "x.findMedianSortedArrays([1,2,3,4,7,9], [3,4,6])"
   ]
  },
  {
   "cell_type": "code",
   "execution_count": 33,
   "metadata": {},
   "outputs": [
    {
     "data": {
      "text/plain": [
       "4"
      ]
     },
     "execution_count": 33,
     "metadata": {},
     "output_type": "execute_result"
    }
   ],
   "source": [
    "x.findMedianSortedArraysBrute([1,2,3,4,7,9], [3,4,6])"
   ]
  },
  {
   "cell_type": "code",
   "execution_count": null,
   "metadata": {},
   "outputs": [],
   "source": []
  }
 ],
 "metadata": {
  "kernelspec": {
   "display_name": "Python 3",
   "language": "python",
   "name": "python3"
  },
  "language_info": {
   "codemirror_mode": {
    "name": "ipython",
    "version": 3
   },
   "file_extension": ".py",
   "mimetype": "text/x-python",
   "name": "python",
   "nbconvert_exporter": "python",
   "pygments_lexer": "ipython3",
   "version": "3.6.5"
  }
 },
 "nbformat": 4,
 "nbformat_minor": 2
}
