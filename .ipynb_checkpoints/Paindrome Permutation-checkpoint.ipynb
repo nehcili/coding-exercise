{
 "cells": [
  {
   "cell_type": "code",
   "execution_count": 1,
   "metadata": {},
   "outputs": [],
   "source": [
    "# write a function to check if an input is a permutation of a palindrome"
   ]
  },
  {
   "cell_type": "code",
   "execution_count": 42,
   "metadata": {},
   "outputs": [],
   "source": [
    "# has_palindrome: str --> bool\n",
    "# determine if there is a permuation of astring that\n",
    "# is a palindrome. A whitespace is ignored in \n",
    "# astring\n",
    "def has_palindrome(astring):\n",
    "    dic = {}\n",
    "    \n",
    "    for c in astring:\n",
    "        if c == ' ': # ignoring white space\n",
    "            continue\n",
    "        if c in dic:\n",
    "            if dic[c] == 1:\n",
    "                del dic[c]\n",
    "            else:\n",
    "                dic[c] = 1\n",
    "        else:\n",
    "            dic[c] = 1\n",
    "        \n",
    "        #print(dic)\n",
    "    \n",
    "    if len(dic) > 1:\n",
    "        return False\n",
    "    else:\n",
    "        return True\n",
    "    "
   ]
  },
  {
   "cell_type": "code",
   "execution_count": 47,
   "metadata": {},
   "outputs": [
    {
     "name": "stdout",
     "output_type": "stream",
     "text": [
      "True\n",
      "True\n",
      "True\n",
      "False\n"
     ]
    }
   ],
   "source": [
    "# examples\n",
    "print(has_palindrome(\"raarbbb\"))\n",
    "print(has_palindrome(\"race car\"))\n",
    "print(has_palindrome(\"1235411225533445243\"))\n",
    "print(has_palindrome(\"aaabbb\"))"
   ]
  },
  {
   "cell_type": "code",
   "execution_count": null,
   "metadata": {},
   "outputs": [],
   "source": []
  }
 ],
 "metadata": {
  "kernelspec": {
   "display_name": "Python 3",
   "language": "python",
   "name": "python3"
  },
  "language_info": {
   "codemirror_mode": {
    "name": "ipython",
    "version": 3
   },
   "file_extension": ".py",
   "mimetype": "text/x-python",
   "name": "python",
   "nbconvert_exporter": "python",
   "pygments_lexer": "ipython3",
   "version": "3.7.1"
  }
 },
 "nbformat": 4,
 "nbformat_minor": 2
}
