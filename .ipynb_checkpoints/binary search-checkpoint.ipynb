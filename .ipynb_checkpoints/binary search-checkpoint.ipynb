{
 "cells": [
  {
   "cell_type": "code",
   "execution_count": 1,
   "metadata": {},
   "outputs": [],
   "source": [
    "# warm up: binary search"
   ]
  },
  {
   "cell_type": "code",
   "execution_count": 106,
   "metadata": {},
   "outputs": [],
   "source": [
    "def binary_search(alist, key, start=0, end=-1):\n",
    "    if end == -1:\n",
    "        end = len(alist)-1\n",
    "    \n",
    "    while start <= end:\n",
    "        mid = (start + end) // 2\n",
    "        if key == alist[mid]:\n",
    "            return mid\n",
    "        if key < alist[mid]:\n",
    "            end = mid - 1\n",
    "        else:\n",
    "            start = mid + 1\n",
    "    \n",
    "    return None\n",
    "             \n",
    "    \n",
    "    "
   ]
  },
  {
   "cell_type": "code",
   "execution_count": 170,
   "metadata": {},
   "outputs": [
    {
     "name": "stdout",
     "output_type": "stream",
     "text": [
      "tests complete\n"
     ]
    }
   ],
   "source": [
    "def test(f):\n",
    "    for i in range(0, 20):\n",
    "        x = list(range(0, i))\n",
    "        for j in range(0, i):\n",
    "            if f(x, j) != j:\n",
    "                print(\"Case 1\", x, i, j)\n",
    "        for j in range(-i, 0):\n",
    "            if f(x, j) != None:\n",
    "                print(\"Case 2\", x, i, j)\n",
    "        for j in range(i+1, 2*i):\n",
    "            if f(x, j) != None:\n",
    "                print(\"Case 3\", x, i, j)\n",
    "    \n",
    "    print(\"tests complete\")\n",
    "            \n",
    "    \n",
    "test(binary_search)"
   ]
  },
  {
   "cell_type": "code",
   "execution_count": 150,
   "metadata": {},
   "outputs": [],
   "source": [
    "binary_search([0], 9)"
   ]
  },
  {
   "cell_type": "code",
   "execution_count": 151,
   "metadata": {},
   "outputs": [],
   "source": [
    "# Search in Rotated Array: Given a sorted array of n integers that has been rotated an unknown\n",
    "# number of times, write code to find an element in the array. You may assume that the array was\n",
    "# originally sorted in increasing order.\n",
    "# EXAMPLE\n",
    "# Input:findSin{15, 16, 19, 20, 25, 1, 3, 4, 5, 7, 10, 14 }\n",
    "# Output: 8 (the index of 5 in the array)"
   ]
  },
  {
   "cell_type": "code",
   "execution_count": 152,
   "metadata": {},
   "outputs": [],
   "source": [
    "def rotated_array_search(alist, key):\n",
    "    start = 0\n",
    "    end = len(alist)-1\n",
    "    \n",
    "    while start < end:\n",
    "        mid = (start + end) // 2\n",
    "        # print(start, mid, end)\n",
    "        if alist[mid] <= alist[-1]:\n",
    "            end = mid \n",
    "        else:\n",
    "            start = mid + 1\n",
    "        \n",
    "    ans = binary_search(alist, key, start=start)\n",
    "    if ans == None:\n",
    "        ans = binary_search(alist, key, end=start)\n",
    "    \n",
    "    return ans"
   ]
  },
  {
   "cell_type": "code",
   "execution_count": 168,
   "metadata": {},
   "outputs": [],
   "source": [
    "def test2():\n",
    "    x = [[0], \n",
    "         [0,1],\n",
    "         [0,1,2],\n",
    "         [3,0,1,2],\n",
    "         [3,4,0,1,2],\n",
    "         [3,4,0,1,2,2],\n",
    "         [3,4,5,0,1,2,3],\n",
    "         [5,1,2,3,4]]\n",
    "    y = [0, 0, 0, 1, 2, 2, 3, None]\n",
    "    for i in range(len(y)):\n",
    "        if rotated_array_search(x[i], 0) != y[i]:\n",
    "            print(\"Case \", i, \"mistake\")\n",
    "    print(\"tests complete\")"
   ]
  },
  {
   "cell_type": "code",
   "execution_count": 169,
   "metadata": {},
   "outputs": [
    {
     "name": "stdout",
     "output_type": "stream",
     "text": [
      "tests complete\n"
     ]
    }
   ],
   "source": [
    "test2()"
   ]
  }
 ],
 "metadata": {
  "kernelspec": {
   "display_name": "Python 3",
   "language": "python",
   "name": "python3"
  },
  "language_info": {
   "codemirror_mode": {
    "name": "ipython",
    "version": 3
   },
   "file_extension": ".py",
   "mimetype": "text/x-python",
   "name": "python",
   "nbconvert_exporter": "python",
   "pygments_lexer": "ipython3",
   "version": "3.6.5"
  }
 },
 "nbformat": 4,
 "nbformat_minor": 2
}
