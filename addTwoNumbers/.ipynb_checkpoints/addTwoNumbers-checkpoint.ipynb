{
 "cells": [
  {
   "cell_type": "code",
   "execution_count": 24,
   "metadata": {},
   "outputs": [],
   "source": [
    "import math\n",
    "\n",
    "# Definition for singly-linked list.\n",
    "class ListNode(object):\n",
    "    def __init__(self, x, rest=None):\n",
    "        self.val = x\n",
    "        self.next = rest\n",
    "    \n",
    "def ListNodeToNum(LNode):\n",
    "    n = LNode.val\n",
    "    curNode = LNode.next\n",
    "    i = 1\n",
    "\n",
    "    while curNode != None:\n",
    "        n = n+ (10 ** i) * curNode.val\n",
    "        curNode = curNode.next\n",
    "        i += 1\n",
    "\n",
    "    return n\n",
    "    #print(n)\n",
    "    \n",
    "def numToListNode(num):\n",
    "    if num == 0:\n",
    "        return ListNode(0)\n",
    "    else:\n",
    "        e = int(math.log10(num))\n",
    "        ans = ListNode(int(num/ 10 ** int(math.log10(num))))\n",
    "        num = num - ans.val * (10 ** e)\n",
    "        e -= 1\n",
    "        \n",
    "        while e >= 0:\n",
    "            if num > 0:\n",
    "                curNode = ListNode(int(num/ 10 ** e))\n",
    "            else:\n",
    "                curNode = ListNode(0)\n",
    "            \n",
    "            num = num - curNode.val * (10 ** e)\n",
    "            e -= 1\n",
    "            \n",
    "            curNode.next = ans\n",
    "            ans = curNode\n",
    "\n",
    "        return ans\n",
    "\n"
   ]
  },
  {
   "cell_type": "code",
   "execution_count": 29,
   "metadata": {},
   "outputs": [],
   "source": [
    "def test_numToListNode():\n",
    "    for i in range(0, 1000000):\n",
    "        if ListNodeToNum(numToListNode(i)) != i:\n",
    "            print('WTF')"
   ]
  },
  {
   "cell_type": "code",
   "execution_count": 30,
   "metadata": {},
   "outputs": [],
   "source": [
    "test_numToListNode()"
   ]
  },
  {
   "cell_type": "code",
   "execution_count": 90,
   "metadata": {},
   "outputs": [],
   "source": [
    "#class Solution:\n",
    "def addTwoNumbers(l1, l2, carrying=0):        \n",
    "    ans = ListNode(0)\n",
    "    cur_digit = ans\n",
    "\n",
    "    while l1 != None:\n",
    "        if l2 == None:\n",
    "            l2 = ListNode(0)\n",
    "\n",
    "        cur_sum = l1.val + l2.val + carrying\n",
    "        if cur_sum < 10:\n",
    "            new_digit = ListNode(cur_sum)\n",
    "            carrying = 0\n",
    "        else:\n",
    "            new_digit = ListNode(cur_sum % 10)\n",
    "            carrying = 1\n",
    "\n",
    "        l1 = l1.next\n",
    "        l2 = l2.next\n",
    "\n",
    "        cur_digit.next = new_digit\n",
    "        cur_digit = cur_digit.next\n",
    "\n",
    "\n",
    "    if l2 != None:\n",
    "        cur_digit.next = addTwoNumbers(l2, None, carrying=carrying)\n",
    "    elif carrying:\n",
    "        cur_digit.next = ListNode(1)\n",
    "\n",
    "    return ans.next\n",
    "          \n",
    "                "
   ]
  },
  {
   "cell_type": "code",
   "execution_count": 100,
   "metadata": {},
   "outputs": [],
   "source": [
    "def test_addTwoNumbers():\n",
    "    for i in range(0, 1000):\n",
    "        for j in range(0, 1000):\n",
    "            a = ListNodeToNum(addTwoNumbers(numToListNode(i), numToListNode(j))) \n",
    "            if a != i + j:\n",
    "                print(a)"
   ]
  },
  {
   "cell_type": "code",
   "execution_count": 101,
   "metadata": {},
   "outputs": [],
   "source": [
    "test_addTwoNumbers()"
   ]
  },
  {
   "cell_type": "code",
   "execution_count": 120,
   "metadata": {},
   "outputs": [],
   "source": [
    "# same program using lists\n",
    "\n",
    "def addTwoNumbers_list(l1, l2, carrying=0):        \n",
    "    ans = []\n",
    "\n",
    "    while l1 != []:\n",
    "        if l2 == []:\n",
    "            l2 = [0]\n",
    "\n",
    "        cur_sum = l1[0] + l2[0] + carrying\n",
    "        if cur_sum < 10:\n",
    "            carrying = 0\n",
    "        else:\n",
    "            cur_sum = cur_sum % 10\n",
    "            carrying = 1\n",
    "\n",
    "        l1 = l1[1:]\n",
    "        l2 = l2[1:]\n",
    "\n",
    "        ans.append(cur_sum)\n",
    "\n",
    "\n",
    "    if l2 != []:\n",
    "        ans = ans + addTwoNumbers_list(l2, [], carrying=carrying)\n",
    "    elif carrying:\n",
    "        ans.append(1)\n",
    "\n",
    "    return ans"
   ]
  },
  {
   "cell_type": "code",
   "execution_count": 123,
   "metadata": {},
   "outputs": [],
   "source": [
    "def test_addTwoNumbers_list():\n",
    "    print(addTwoNumbers_list([0], [0]))\n",
    "    print(addTwoNumbers_list([0], [9]))\n",
    "    print(addTwoNumbers_list([1], [9]))\n",
    "    print(addTwoNumbers_list([9], [1]))\n",
    "    print(addTwoNumbers_list([9, 1], [1]))\n",
    "    print(addTwoNumbers_list([1], [9, 1]))\n",
    "    print(addTwoNumbers_list([9, 9], [9, 9, 9]))\n",
    "    "
   ]
  },
  {
   "cell_type": "code",
   "execution_count": 124,
   "metadata": {},
   "outputs": [
    {
     "name": "stdout",
     "output_type": "stream",
     "text": [
      "[0]\n",
      "[9]\n",
      "[0, 1]\n",
      "[0, 1]\n",
      "[0, 2]\n",
      "[0, 2]\n",
      "[8, 9, 0, 1]\n"
     ]
    }
   ],
   "source": [
    "test_addTwoNumbers_list()"
   ]
  },
  {
   "cell_type": "code",
   "execution_count": null,
   "metadata": {},
   "outputs": [],
   "source": []
  }
 ],
 "metadata": {
  "kernelspec": {
   "display_name": "Python 3",
   "language": "python",
   "name": "python3"
  },
  "language_info": {
   "codemirror_mode": {
    "name": "ipython",
    "version": 3
   },
   "file_extension": ".py",
   "mimetype": "text/x-python",
   "name": "python",
   "nbconvert_exporter": "python",
   "pygments_lexer": "ipython3",
   "version": "3.6.5"
  }
 },
 "nbformat": 4,
 "nbformat_minor": 2
}
