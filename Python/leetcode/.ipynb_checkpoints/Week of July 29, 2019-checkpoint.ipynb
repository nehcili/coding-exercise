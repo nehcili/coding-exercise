{
 "cells": [
  {
   "cell_type": "markdown",
   "metadata": {},
   "source": [
    "# Week of July 8, 2019\n",
    "## Focus of the week: \n",
    "- graph for 2 days\n",
    "\n",
    "## Review:\n",
    "- Evaluate Division\n",
    "    - read the optimal solution online\n",
    "- Split Array Largest Sum\n",
    "    - Binary search + greedy (greedy is used to check if can divide into m parts with sum at most m)\n",
    "- Binary Tree Maximum Path Sum   \n",
    "    - need a nonlocal variable to store the max sum of the TWO substrees (use preorder traversal)\n",
    "    - just do usual recursion to find 2 things: \n",
    "        - largest path sum of the current subtree (this is the nonlocal var) (preorder traversal makes this the max sum of the TWO subtrees when returned to parent node)\n",
    "        - largest sum with a path starting at the current node and is in ONLY one of the subtrees (can be the empty path)\n",
    "- Remove Invalid Parentheses\n",
    "    - essentially recursion brute force\n",
    "    - can compute the number of ( and ) which needs to be removed. This optimize the algo a bit\n",
    "    - <b>read pro solutions</b>\n",
    "- Palindrome Pairs\n",
    "    - hashtable\n",
    "- Longest Substring Without Repeating Characters\n",
    "    - use start and end pointers\n",
    "\n",
    "    \n",
    "## Notes:\n",
    "- \n"
   ]
  },
  {
   "cell_type": "code",
   "execution_count": null,
   "metadata": {},
   "outputs": [],
   "source": []
  }
 ],
 "metadata": {
  "kernelspec": {
   "display_name": "Python 3",
   "language": "python",
   "name": "python3"
  },
  "language_info": {
   "codemirror_mode": {
    "name": "ipython",
    "version": 3
   },
   "file_extension": ".py",
   "mimetype": "text/x-python",
   "name": "python",
   "nbconvert_exporter": "python",
   "pygments_lexer": "ipython3",
   "version": "3.6.5"
  }
 },
 "nbformat": 4,
 "nbformat_minor": 2
}
