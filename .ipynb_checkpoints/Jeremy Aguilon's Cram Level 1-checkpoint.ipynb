{
 "cells": [
  {
   "cell_type": "markdown",
   "metadata": {},
   "source": [
    "# 1. Buying and Selling Stock\n",
    "Given a list of starting and ending days for a stock, maximize your profit"
   ]
  },
  {
   "cell_type": "code",
   "execution_count": 30,
   "metadata": {},
   "outputs": [],
   "source": [
    "def maxProfit(prices):\n",
    "    max_profit = 0\n",
    "    \n",
    "    start = 0\n",
    "    end = 0\n",
    "    \n",
    "    while end < len(prices):\n",
    "        if prices[end] - prices[start] > max_profit:\n",
    "            max_profit = prices[end] - prices[start]\n",
    "        if prices[end] < prices[start]:\n",
    "            start = end\n",
    "        \n",
    "        end += 1      \n",
    "    \n",
    "    return max_profit"
   ]
  },
  {
   "cell_type": "code",
   "execution_count": 31,
   "metadata": {},
   "outputs": [],
   "source": [
    "def test_maxProfit():\n",
    "    print(maxProfit([1]))\n",
    "    print(maxProfit([1,2]))\n",
    "    print(maxProfit([5,4,3,2,2]))\n",
    "    print(maxProfit([1,5,4,3,2,2]))\n",
    "    print(maxProfit([1,5,-1,5,-2,5]))\n",
    "    print(maxProfit([1,5,-1,6,-2,5]))\n",
    "    print(maxProfit([1,5,-2,4,-4,3]))"
   ]
  },
  {
   "cell_type": "code",
   "execution_count": 32,
   "metadata": {},
   "outputs": [
    {
     "name": "stdout",
     "output_type": "stream",
     "text": [
      "0\n",
      "1\n",
      "0\n",
      "4\n",
      "7\n",
      "7\n",
      "7\n"
     ]
    }
   ],
   "source": [
    "test_maxProfit()"
   ]
  },
  {
   "cell_type": "markdown",
   "metadata": {},
   "source": [
    "# 2. Range Sum Query\n",
    "Given an integer array nums, find the sum of the elements between indices i and j (i ≤ j), inclusive."
   ]
  },
  {
   "cell_type": "code",
   "execution_count": 23,
   "metadata": {},
   "outputs": [],
   "source": [
    "class NumArray(object):\n",
    "    def __init__(self, nums):\n",
    "        self.nums = nums\n",
    "        if nums != []:\n",
    "            self.cache = {0 : nums[0]}\n",
    "        self.max_ind = 0\n",
    "\n",
    "    def sumRange(self, i, j):\n",
    "        if self.nums == []:\n",
    "            return 0\n",
    "        elif i > j:\n",
    "            return 0\n",
    "        elif j <= self.max_ind:\n",
    "            return self.cache[j] - self.cache[i] + self.nums[i]\n",
    "        elif i < self.max_ind:\n",
    "            temp = self.max_ind\n",
    "            return self.sumRange(temp+1, j) +  self.sumRange(i, temp)\n",
    "        \n",
    "        sum_to_ind = self.cache[self.max_ind]\n",
    "        ind = self.max_ind+1\n",
    "        \n",
    "        while ind <= j:\n",
    "            sum_to_ind += self.nums[ind]\n",
    "            self.cache[ind] = sum_to_ind\n",
    "            ind += 1\n",
    "        \n",
    "        self.max_ind = j\n",
    "        \n",
    "        \n",
    "        \n",
    "        return self.cache[j] - self.cache[i] + self.nums[i]          \n",
    "            "
   ]
  },
  {
   "cell_type": "code",
   "execution_count": 24,
   "metadata": {},
   "outputs": [
    {
     "data": {
      "text/plain": [
       "3"
      ]
     },
     "execution_count": 24,
     "metadata": {},
     "output_type": "execute_result"
    }
   ],
   "source": [
    "x = NumArray([x for x in range(0,1000)])\n",
    "x.sumRange(0,0)\n",
    "x.sumRange(0,1)\n",
    "x.sumRange(0,2)"
   ]
  },
  {
   "cell_type": "code",
   "execution_count": 27,
   "metadata": {},
   "outputs": [],
   "source": [
    "def test_NumArray():\n",
    "    x = NumArray([])\n",
    "    print(x.sumRange(0,3))\n",
    "    \n",
    "    x = NumArray([x for x in range(0,1001)])\n",
    "    for i in range(0,10):\n",
    "        if x.sumRange(0, i) != i*(i+1) //2:\n",
    "            print('MISTAKE')"
   ]
  },
  {
   "cell_type": "code",
   "execution_count": 28,
   "metadata": {},
   "outputs": [
    {
     "name": "stdout",
     "output_type": "stream",
     "text": [
      "0\n"
     ]
    }
   ],
   "source": [
    "test_NumArray()"
   ]
  },
  {
   "cell_type": "code",
   "execution_count": null,
   "metadata": {},
   "outputs": [],
   "source": []
  }
 ],
 "metadata": {
  "kernelspec": {
   "display_name": "Python 3",
   "language": "python",
   "name": "python3"
  },
  "language_info": {
   "codemirror_mode": {
    "name": "ipython",
    "version": 3
   },
   "file_extension": ".py",
   "mimetype": "text/x-python",
   "name": "python",
   "nbconvert_exporter": "python",
   "pygments_lexer": "ipython3",
   "version": "3.6.5"
  }
 },
 "nbformat": 4,
 "nbformat_minor": 2
}
