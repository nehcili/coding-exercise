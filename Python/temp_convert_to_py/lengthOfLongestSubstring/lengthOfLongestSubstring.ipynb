{
 "cells": [
  {
   "cell_type": "code",
   "execution_count": 4,
   "metadata": {},
   "outputs": [],
   "source": [
    "# Goal: write a function lengthOfLongestSubstring\n",
    "# that find the length of the longest substring in a string without repetition\n",
    "# \n",
    "# for example:\n",
    "# lengthOfLongestSubstring('abc') == 3\n",
    "# lengthOfLongestSubstring('1111111') == 1\n",
    "# lengthOfLongestSubstring('112123123412345') == 5\n",
    "\n",
    "# check : list, int, int, char --> int\n",
    "# returns the index, between start and end,\n",
    "# where lst[index-1] == c\n",
    "# however, it returns start if there is no element, i.e. start = end\n",
    "# or if there is no element in in lst[start:end] that matches c\n",
    "# assuming lst has no repeated entries and start <= end\n",
    "def check(lst, start, end, c):\n",
    "    i = start\n",
    "\n",
    "    while i < end:\n",
    "        if lst[i] == c:\n",
    "            return i + 1\n",
    "        i += 1\n",
    "    \n",
    "    return start\n",
    "        \n",
    "# lengthOfLongestSubstring : string --> int\n",
    "# returns the length of the longest substring in s without repetition\n",
    "def lengthOfLongestSubstring(s):\n",
    "    start, end = 0, 1\n",
    "    \n",
    "    try:\n",
    "        c = s[start]\n",
    "        # the variable maxlen will be returned as a final answer, \n",
    "        # now initalized at 1\n",
    "        maxlen = 1 \n",
    "    except IndexError:\n",
    "        return 0\n",
    "    \n",
    "    while True:\n",
    "        try:\n",
    "            c = s[end]\n",
    "        except IndexError:\n",
    "            if end - start > maxlen:\n",
    "                maxlen = end - start\n",
    "            return maxlen\n",
    "        \n",
    "        # find the index of the element in s[start:end] that matches c\n",
    "        # if not such element, return start\n",
    "        new_start = check(s, start, end, c)\n",
    "        \n",
    "        # if there is repetition in s[start:end]\n",
    "        # move start to new_start\n",
    "        # and modify maxlen to the new, if any, maxlen\n",
    "        if new_start != start:\n",
    "            maxlen = end - start if (end - start) > maxlen else maxlen\n",
    "            start = new_start\n",
    "        \n",
    "        end += 1\n",
    "            \n",
    "            \n",
    "        "
   ]
  },
  {
   "cell_type": "code",
   "execution_count": 5,
   "metadata": {},
   "outputs": [],
   "source": [
    "def test_check():\n",
    "    print(check(\"abcdezg\", 2, 7, '1'))\n",
    "    print(lengthOfLongestSubstring('12345'))\n",
    "    print(lengthOfLongestSubstring('11111'))\n",
    "    print(lengthOfLongestSubstring('11211'))\n",
    "    print(lengthOfLongestSubstring('112123123412345'))"
   ]
  },
  {
   "cell_type": "code",
   "execution_count": 43,
   "metadata": {},
   "outputs": [
    {
     "name": "stdout",
     "output_type": "stream",
     "text": [
      "2\n",
      "5\n",
      "1\n",
      "2\n",
      "5\n"
     ]
    }
   ],
   "source": [
    "test_check()"
   ]
  },
  {
   "cell_type": "code",
   "execution_count": null,
   "metadata": {},
   "outputs": [],
   "source": []
  }
 ],
 "metadata": {
  "kernelspec": {
   "display_name": "Python 3",
   "language": "python",
   "name": "python3"
  },
  "language_info": {
   "codemirror_mode": {
    "name": "ipython",
    "version": 3
   },
   "file_extension": ".py",
   "mimetype": "text/x-python",
   "name": "python",
   "nbconvert_exporter": "python",
   "pygments_lexer": "ipython3",
   "version": "3.6.5"
  }
 },
 "nbformat": 4,
 "nbformat_minor": 2
}
