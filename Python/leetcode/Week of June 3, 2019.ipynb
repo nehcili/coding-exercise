{
 "cells": [
  {
   "cell_type": "markdown",
   "metadata": {},
   "source": [
    "# Week of June 3, 2019\n",
    "## item"
   ]
  },
  {
   "cell_type": "markdown",
   "metadata": {},
   "source": [
    "### June 3, 2019\n",
    "- Remove element\n",
    "- Swap Nodes in Pairs\n",
    "    - be very careful when doing surgery with linked lists. Run it with a piece of paper to see what's the problem\n",
    "- Spiral Matrix\n",
    "- Jump Game\n",
    "- Jump Game II"
   ]
  },
  {
   "cell_type": "code",
   "execution_count": 2,
   "metadata": {},
   "outputs": [],
   "source": [
    "# Definition for singly-linked list.\n",
    "class ListNode:\n",
    "    def __init__(self, x):\n",
    "        self.val = x\n",
    "        self.next = None\n",
    "    \n",
    "    def printList(self):\n",
    "        temp = self\n",
    "        ans = []\n",
    "        while temp != None:\n",
    "            ans.append(temp.val)\n",
    "            temp = temp.next\n",
    "        print(ans)\n",
    "\n",
    "def makeList(lst):\n",
    "    if lst == []:\n",
    "        return []\n",
    "    else:\n",
    "        ans = ListNode(lst[0])\n",
    "        temp = ans\n",
    "        for e in lst[1:]:\n",
    "            temp.next = ListNode(e)\n",
    "            temp = temp.next\n",
    "        return ans"
   ]
  },
  {
   "cell_type": "code",
   "execution_count": 135,
   "metadata": {},
   "outputs": [],
   "source": [
    "# Swap Nodes in Pairs\n",
    "class SNP:\n",
    "    def swapPairs(self, head: ListNode) -> ListNode:\n",
    "        first = head\n",
    "        if not first:\n",
    "            return head\n",
    "        if not first.next:\n",
    "            return head\n",
    "        head = first.next\n",
    "        prev = ListNode(-1)\n",
    "        \n",
    "        while first:\n",
    "            second = first.next\n",
    "            if second:\n",
    "                prev.next = second\n",
    "                prev = first\n",
    "                \n",
    "                second.next, first.next, first = first, None, second.next\n",
    "            else:\n",
    "                prev.next = first\n",
    "                break\n",
    "        \n",
    "        return head\n",
    "            \n",
    "x = SNP()"
   ]
  },
  {
   "cell_type": "code",
   "execution_count": 140,
   "metadata": {},
   "outputs": [],
   "source": [
    "a = x.swapPairs(makeList([1,2,3,4,5,6]))"
   ]
  },
  {
   "cell_type": "code",
   "execution_count": 141,
   "metadata": {},
   "outputs": [
    {
     "name": "stdout",
     "output_type": "stream",
     "text": [
      "[2, 1, 4, 3, 6, 5]\n"
     ]
    }
   ],
   "source": [
    "a.printList()"
   ]
  },
  {
   "cell_type": "code",
   "execution_count": 149,
   "metadata": {},
   "outputs": [],
   "source": [
    "# Spiral Matrix\n",
    "class SM:\n",
    "    def spiralOrder(self, matrix):\n",
    "        x = len(matrix)\n",
    "        if x <= 1:\n",
    "            return matrix\n",
    "        \n",
    "        y = len(matrix[0])\n",
    "        if y <= 0:\n",
    "            return []\n",
    "        \n",
    "        top, left = 0, 0\n",
    "        bottom, right = x, y\n",
    "        ans = []\n",
    "        \n",
    "        while top < bottom and left < right:\n",
    "            ans += matrix[top][left:right]\n",
    "            top += 1\n",
    "            \n",
    "            if top < bottom:\n",
    "                for i in range(top, bottom):\n",
    "                    ans.append(matrix[i][right-1])\n",
    "                right -= 1\n",
    "            else:\n",
    "                break\n",
    "            \n",
    "            if left < right:\n",
    "                temp = matrix[bottom-1][left:right]\n",
    "                temp.reverse()\n",
    "                ans += temp\n",
    "                bottom -= 1\n",
    "            else:\n",
    "                break\n",
    "            \n",
    "            if top < bottom:\n",
    "                for i in range(bottom-1, top-1, -1):\n",
    "                    ans.append(matrix[i][left])\n",
    "                left += 1\n",
    "            else:\n",
    "                break\n",
    "        \n",
    "        return ans\n",
    "    \n",
    "x = SM()"
   ]
  },
  {
   "cell_type": "code",
   "execution_count": 150,
   "metadata": {},
   "outputs": [
    {
     "data": {
      "text/plain": [
       "[1, 2, 3, 6, 9, 8, 7, 4, 5]"
      ]
     },
     "execution_count": 150,
     "metadata": {},
     "output_type": "execute_result"
    }
   ],
   "source": [
    "x.spiralOrder([\n",
    " [ 1, 2, 3 ],\n",
    " [ 4, 5, 6 ],\n",
    " [ 7, 8, 9 ]\n",
    "])"
   ]
  },
  {
   "cell_type": "code",
   "execution_count": 158,
   "metadata": {},
   "outputs": [],
   "source": [
    "# Jump Game\n",
    "class JG:\n",
    "    def canJump(self, nums):        \n",
    "        # find the min index such that in one jump\n",
    "        # one can get to position m\n",
    "        def minToPos(m):\n",
    "            i = 0\n",
    "            while i < m:\n",
    "                if nums[i] >= m-i:\n",
    "                    return i\n",
    "                i += 1\n",
    "            return -1\n",
    "        \n",
    "        n = len(nums)\n",
    "        if n <= 1:\n",
    "            return True\n",
    "        \n",
    "        index = minToPos(n-1)\n",
    "        print(index)\n",
    "        while index:\n",
    "            index = minToPos(index)\n",
    "            if index == -1:\n",
    "                return False\n",
    "        \n",
    "        return True\n",
    "\n",
    "x = JG()"
   ]
  },
  {
   "cell_type": "code",
   "execution_count": 159,
   "metadata": {},
   "outputs": [
    {
     "name": "stdout",
     "output_type": "stream",
     "text": [
      "0\n"
     ]
    },
    {
     "data": {
      "text/plain": [
       "True"
      ]
     },
     "execution_count": 159,
     "metadata": {},
     "output_type": "execute_result"
    }
   ],
   "source": [
    "x.canJump([2,0,0])"
   ]
  },
  {
   "cell_type": "markdown",
   "metadata": {},
   "source": [
    "### June 4, 2019\n",
    "- Plus One\n",
    "- Unique Paths\n",
    "- Merge Intervals \n",
    "    - sort first\n",
    "- Min Window Subsring\n",
    "    - MWS1 - sliding window technique\n",
    "    - MWS1 - how to actually write sliding window in practice "
   ]
  },
  {
   "cell_type": "code",
   "execution_count": 119,
   "metadata": {},
   "outputs": [],
   "source": [
    "# Merge Intervals\n",
    "class MI: self, intervals):\n",
    "        n = len(intervals)\n",
    "        if n <= 1:\n",
    "            return intervals\n",
    "        \n",
    "        intervals.sort()\n",
    "        ans = [intervals[0]]\n",
    "        \n",
    "        for interval in intervals:\n",
    "            #print(ans,interval)\n",
    "            a,b = ans[-1]\n",
    "            if b < interval[0]:\n",
    "                ans.append(interval)\n",
    "            elif b < interval[1]:\n",
    "                ans[-1] = [a, interval[1]]\n",
    "        \n",
    "        return ans\n",
    "    \n",
    "x = MI()"
   ]
  },
  {
   "cell_type": "code",
   "execution_count": 120,
   "metadata": {},
   "outputs": [
    {
     "data": {
      "text/plain": [
       "[[1, 6], [8, 10], [15, 18]]"
      ]
     },
     "execution_count": 120,
     "metadata": {},
     "output_type": "execute_result"
    }
   ],
   "source": [
    "x.merge([[1,3],[2,6],[8,10],[15,18]])"
   ]
  },
  {
   "cell_type": "code",
   "execution_count": 121,
   "metadata": {},
   "outputs": [],
   "source": [
    "# Min Window Subsring\n",
    "class MWS1:\n",
    "    def minWindow(self, s: str, t: str) -> str:\n",
    "        n, m = len(s), len(t)\n",
    "        if m > n:\n",
    "            return \"\"\n",
    "        \n",
    "        t_lst = list(t)\n",
    "        dic = {}\n",
    "        right = 0\n",
    "        while t_lst and right < n:\n",
    "            if s[right] in t:\n",
    "                if s[right] in dic:\n",
    "                    dic[s[right]][1] += 1\n",
    "                else:\n",
    "                    dic[s[right]] = [0,1]\n",
    "                \n",
    "                if s[right] in t_lst:\n",
    "                    t_lst.remove(s[right])\n",
    "                    dic[s[right]][0] += 1\n",
    "                #print(dic,t_lst)\n",
    "            right += 1\n",
    "        \n",
    "        if t_lst:\n",
    "            return ''\n",
    "        #print(s[0:right])\n",
    "        #print(dic)\n",
    "        \n",
    "        left = 0\n",
    "        while True:\n",
    "            if s[left] in t:\n",
    "                if dic[s[left]][1] > dic[s[left]][0]:\n",
    "                    dic[s[left]][1] -= 1\n",
    "                else:\n",
    "                    break\n",
    "            #print(dic,s[left:right])\n",
    "            left += 1\n",
    "        \n",
    "        \n",
    "        \n",
    "        #print(s[left:right])\n",
    "        \n",
    "        min_left = left\n",
    "        min_right = right\n",
    "        while right < n:\n",
    "            if s[right] in t:\n",
    "                dic[s[right]][1] += 1\n",
    "                while True:\n",
    "                    if s[left] in t:\n",
    "                        if dic[s[left]][1] > dic[s[left]][0]:\n",
    "                            dic[s[left]][1] -= 1\n",
    "                        else:\n",
    "                            break\n",
    "                    #print(dic,s[left:right])\n",
    "                    left += 1\n",
    "                \n",
    "                #print(dic, s[left:right])\n",
    "                #print('left and right:', left, right)\n",
    "                if min_right - min_left > right - left + 1:\n",
    "                    min_left = left\n",
    "                    min_right = right + 1\n",
    "            right += 1\n",
    "        \n",
    "        return s[min_left:min_right]\n",
    "            \n",
    "                    \n",
    "            \n",
    "                \n",
    "            \n",
    "            \n",
    "        \n",
    "            \n",
    "            \n",
    "            \n",
    "\n",
    "    \n",
    "x = MWS1()"
   ]
  },
  {
   "cell_type": "code",
   "execution_count": 122,
   "metadata": {},
   "outputs": [
    {
     "data": {
      "text/plain": [
       "'BANC'"
      ]
     },
     "execution_count": 122,
     "metadata": {},
     "output_type": "execute_result"
    }
   ],
   "source": [
    "x.minWindow(\"ADOBECODEBANC\", \"ABC\")"
   ]
  },
  {
   "cell_type": "code",
   "execution_count": 123,
   "metadata": {},
   "outputs": [],
   "source": [
    "class MWS2:\n",
    "    def minWindow(self, s: str, t: str) -> str:\n",
    "        \n",
    "        target_count_dict = collections.defaultdict(int)\n",
    "        for ch in t:\n",
    "            target_count_dict[ch] += 1\n",
    "        remain_missing = len(t)\n",
    "        start_pos, end_pos = 0, float('inf')\n",
    "        current_start = 0\n",
    "        \n",
    "        # Enumerate function makes current_end indexes from 1\n",
    "        for current_end, ch in enumerate(s, 1):\n",
    "            # Whenever we encounter a character, no matter ch in target or not, we minus 1 in count dictionary\n",
    "            # But, only when ch is in target, we minus the length of remain_missing\n",
    "            # When the remain_missing is 0, we find a potential solution.\n",
    "            if target_count_dict[ch] > 0:\n",
    "                remain_missing -= 1\n",
    "            target_count_dict[ch] -= 1\n",
    "            \n",
    "            if remain_missing == 0:\n",
    "                # Remove redundant character\n",
    "                # Try to find the fist position in s that makes target_count_dict value equals 0\n",
    "                # Which means we can't skip this character in s when returning answer\n",
    "                while target_count_dict[s[current_start]] < 0:\n",
    "                    target_count_dict[s[current_start]] += 1\n",
    "                    current_start += 1\n",
    "                if current_end - current_start < end_pos - start_pos:\n",
    "                    start_pos, end_pos = current_start, current_end\n",
    "                \n",
    "                # We need to add 1 to current_start, and the correspondence value in dictionary, is because\n",
    "                # this is the first character of the potential answer. So, in future iteration, when we encounter this character,\n",
    "                # We can remove this currently first character to try to find a shorter answer.\n",
    "                target_count_dict[s[current_start]] += 1\n",
    "                remain_missing += 1\n",
    "                current_start += 1\n",
    "        \n",
    "        return s[start_pos:end_pos] if end_pos != float('inf') else \"\""
   ]
  },
  {
   "cell_type": "markdown",
   "metadata": {},
   "source": [
    "### June 5, 2019\n",
    "- Count and say\n",
    "- Set Matrix Zero\n",
    "- Sort Colors\n",
    "- Wildcard matching"
   ]
  },
  {
   "cell_type": "code",
   "execution_count": 10,
   "metadata": {},
   "outputs": [],
   "source": [
    "# Sort Colors\n",
    "class SC:\n",
    "    def sortColors(self, nums):\n",
    "        n = len(nums)\n",
    "        if n <= 1:\n",
    "            return\n",
    "        \n",
    "        zero_ind = 0\n",
    "        cur = 1\n",
    "        two_ind = n-1\n",
    "        \n",
    "        while cur <= two_ind:\n",
    "            if nums[cur] == 0:\n",
    "                nums[zero_ind], nums[cur] = nums[cur], nums[zero_ind]\n",
    "                if zero_ind == cur:\n",
    "                    cur += 1\n",
    "                zero_ind += 1\n",
    "            elif nums[cur] == 2:\n",
    "                nums[two_ind], nums[cur] = nums[cur], nums[two_ind]\n",
    "                two_ind -= 1\n",
    "            else:\n",
    "                cur += 1\n",
    "            print(zero_ind, cur, two_ind)\n",
    "            print(nums)\n",
    "        \n",
    "        if nums[0] == 2:\n",
    "            nums[two_ind], nums[0] = nums[0], nums[two_ind]\n",
    "\n",
    "x = SC()"
   ]
  },
  {
   "cell_type": "code",
   "execution_count": 11,
   "metadata": {},
   "outputs": [
    {
     "name": "stdout",
     "output_type": "stream",
     "text": [
      "1 1 5\n",
      "[0, 2, 2, 1, 1, 0]\n",
      "1 1 4\n",
      "[0, 0, 2, 1, 1, 2]\n",
      "2 2 4\n",
      "[0, 0, 2, 1, 1, 2]\n",
      "2 2 3\n",
      "[0, 0, 1, 1, 2, 2]\n",
      "2 3 3\n",
      "[0, 0, 1, 1, 2, 2]\n",
      "2 4 3\n",
      "[0, 0, 1, 1, 2, 2]\n"
     ]
    }
   ],
   "source": [
    "x.sortColors([2,0,2,1,1,0])"
   ]
  },
  {
   "cell_type": "code",
   "execution_count": 48,
   "metadata": {},
   "outputs": [],
   "source": [
    "class WCM:\n",
    "    def isMatch(self, s: str, p: str) -> bool:\n",
    "        n = len(s)\n",
    "        m = len(p)\n",
    "        i = 0\n",
    "        j = 0\n",
    "        star = -1\n",
    "        last_match = -1\n",
    "        \n",
    "        while i < n:\n",
    "            if j < m and (s[i] == p[j] or p[j] == '?'):\n",
    "                    i += 1\n",
    "                    j += 1\n",
    "            elif j < m and p[j] == '*':\n",
    "                    star = j\n",
    "                    last_match = i\n",
    "                    j += 1\n",
    "            elif star > -1:\n",
    "                last_match += 1\n",
    "                i = last_match\n",
    "                j = star + 1\n",
    "            else:\n",
    "                return False\n",
    "\n",
    "            #print(i,j,star,last_match)\n",
    "        \n",
    "        while j < m:\n",
    "            if p[j] != '*':\n",
    "                return False\n",
    "            j += 1\n",
    "            \n",
    "        \n",
    "        return True\n",
    "\n",
    "x = WCM()"
   ]
  },
  {
   "cell_type": "code",
   "execution_count": 49,
   "metadata": {
    "scrolled": false
   },
   "outputs": [
    {
     "data": {
      "text/plain": [
       "False"
      ]
     },
     "execution_count": 49,
     "metadata": {},
     "output_type": "execute_result"
    }
   ],
   "source": [
    "x.isMatch(\"cb\", \"?a\")"
   ]
  },
  {
   "cell_type": "markdown",
   "metadata": {},
   "source": [
    "### June 7, 2019\n",
    "- Search Insert Position\n",
    "- Next permutation\n",
    "    - SC1 and SC2 super slow\n",
    "    - learn SC3"
   ]
  },
  {
   "cell_type": "code",
   "execution_count": 21,
   "metadata": {},
   "outputs": [],
   "source": [
    "# Search Insert Position\n",
    "class SIP:\n",
    "    def searchInsert(self, nums, target: int) -> int:\n",
    "        l = 0\n",
    "        r = len(nums)\n",
    "        \n",
    "        while l < r:\n",
    "            m = (l+r)//2\n",
    "            if nums[m] == target:\n",
    "                return m\n",
    "            elif nums[m] < target:\n",
    "                l = m + 1\n",
    "            else:\n",
    "                r = m\n",
    "        \n",
    "        return (l+r) // 2\n",
    "\n",
    "x = SIP()"
   ]
  },
  {
   "cell_type": "code",
   "execution_count": 22,
   "metadata": {},
   "outputs": [
    {
     "data": {
      "text/plain": [
       "2"
      ]
     },
     "execution_count": 22,
     "metadata": {},
     "output_type": "execute_result"
    }
   ],
   "source": [
    "x.searchInsert([1,3,5,6], 4)"
   ]
  },
  {
   "cell_type": "markdown",
   "metadata": {},
   "source": [
    "Given a set of candidate numbers (candidates) (without duplicates) and a target number (target), find all unique combinations in candidates where the candidate numbers sums to target.\n",
    "\n",
    "The same repeated number may be chosen from candidates unlimited number of times.\n",
    "\n",
    "Note:\n",
    "\n",
    "All numbers (including target) will be positive integers.\n",
    "The solution set must not contain duplicate combinations.\n",
    "Example 1:\n",
    "\n",
    "Input: candidates = [2,3,6,7], target = 7,\n",
    "A solution set is:\n",
    "[\n",
    "  [7],\n",
    "  [2,2,3]\n",
    "]\n",
    "Example 2:\n",
    "\n",
    "Input: candidates = [2,3,5], target = 8,\n",
    "A solution set is:\n",
    "[\n",
    "  [2,2,2,2],\n",
    "  [2,3,3],\n",
    "  [3,5]\n",
    "]"
   ]
  },
  {
   "cell_type": "code",
   "execution_count": 205,
   "metadata": {},
   "outputs": [],
   "source": [
    "class CS:\n",
    "    def combinationSum(self, candidates, target: int):\n",
    "        from collections import defaultdict\n",
    "        dic = defaultdict(list)\n",
    "        #candidates.sort()\n",
    "        #print(candidates)\n",
    "        n = len(candidates)\n",
    "\n",
    "        \n",
    "        def helper(current, cur_ind, cur_sum, cur_target):\n",
    "            #print(current, cur_sum, cur_target)\n",
    "            #print(dic)\n",
    "            \n",
    "            if cur_sum > 0 and cur_target == 0:\n",
    "                dic[cur_sum].append(current)\n",
    "                return\n",
    "            if cur_target < 0 or cur_ind < 0:\n",
    "                return\n",
    "            \n",
    "            if cur_target in dic and current:\n",
    "                for aSum in dic[cur_target]:\n",
    "                    #if current[-1] >= aSum[0]:\n",
    "                    dic[cur_sumtarget].append(aSum + current)\n",
    "                return\n",
    "            #print(dic)\n",
    "            \n",
    "            x = current.copy()\n",
    "            x.append(candidates[cur_ind])\n",
    "            helper(x, cur_ind, cur_sum +candidates[cur_ind], cur_target- candidates[cur_ind])\n",
    "            \n",
    "            y = current.copy()\n",
    "            helper(y, cur_ind-1, cur_sum , cur_target)\n",
    "                \n",
    "                    \n",
    "        helper([], n-1, 0, target)\n",
    "        print(dic[4])\n",
    "        return dic[target]\n",
    "    \n",
    "x = CS()"
   ]
  },
  {
   "cell_type": "code",
   "execution_count": 206,
   "metadata": {},
   "outputs": [
    {
     "name": "stdout",
     "output_type": "stream",
     "text": [
      "[]\n"
     ]
    },
    {
     "data": {
      "text/plain": [
       "[[4, 1, 1],\n",
       " [4, 2],\n",
       " [3, 3],\n",
       " [3, 1, 1, 1],\n",
       " [3, 1, 2],\n",
       " [1, 1, 1, 1, 1, 1],\n",
       " [1, 1, 1, 1, 2],\n",
       " [1, 1, 2, 2],\n",
       " [6],\n",
       " [2, 2, 2]]"
      ]
     },
     "execution_count": 206,
     "metadata": {},
     "output_type": "execute_result"
    }
   ],
   "source": [
    "x.combinationSum([2,6,1,3,4], 6)"
   ]
  },
  {
   "cell_type": "code",
   "execution_count": 17,
   "metadata": {},
   "outputs": [],
   "source": [
    "class CS2:\n",
    "    def combinationSum(self, candidates, target: int):\n",
    "        ans = []\n",
    "        \n",
    "        def helper(current, cur_ind, cur_sum, cur_target):\n",
    "            if cur_sum > 0 and cur_target == 0:\n",
    "                ans.append(current)\n",
    "                return\n",
    "            if cur_target < 0 or cur_ind < 0:\n",
    "                return\n",
    " \n",
    "            x = current.copy()\n",
    "            x.append(candidates[cur_ind])\n",
    "            helper(x, cur_ind, cur_sum +candidates[cur_ind], cur_target- candidates[cur_ind])\n",
    "            \n",
    "            y = current.copy()\n",
    "            helper(y, cur_ind-1, cur_sum , cur_target)\n",
    "                \n",
    "                    \n",
    "        helper([], len(candidates)-1, 0, target)\n",
    "        return ans\n",
    "    \n",
    "x = CS2()"
   ]
  },
  {
   "cell_type": "code",
   "execution_count": 18,
   "metadata": {},
   "outputs": [
    {
     "data": {
      "text/plain": [
       "[[6],\n",
       " [4, 2],\n",
       " [4, 1, 1],\n",
       " [3, 3],\n",
       " [3, 2, 1],\n",
       " [3, 1, 1, 1],\n",
       " [2, 2, 2],\n",
       " [2, 2, 1, 1],\n",
       " [2, 1, 1, 1, 1],\n",
       " [1, 1, 1, 1, 1, 1]]"
      ]
     },
     "execution_count": 18,
     "metadata": {},
     "output_type": "execute_result"
    }
   ],
   "source": [
    "x.combinationSum([1,2,3,4,6], 6)"
   ]
  },
  {
   "cell_type": "code",
   "execution_count": 4,
   "metadata": {},
   "outputs": [],
   "source": [
    "class SC3(object):\n",
    "    def combinationSum(self, candidates, target):\n",
    "        \"\"\"\n",
    "        :type candidates: List[int]\n",
    "        :type target: int\n",
    "        :rtype: List[List[int]]\n",
    "        \"\"\"\n",
    "        self.resList = []\n",
    "        candidates = sorted(candidates)\n",
    "        self.dfs(candidates,[],target,0)\n",
    "        return self.resList\n",
    "    def dfs(self, candidates, sublist, target, last):\n",
    "        if target == 0:\n",
    "            self.resList.append(sublist[:])\n",
    "        if target< candidates[0]:\n",
    "            return \n",
    "        for n in candidates:\n",
    "            if n > target:\n",
    "                return\n",
    "            if n < last:\n",
    "                continue\n",
    "            sublist.append(n)\n",
    "            print(sublist)\n",
    "            self.dfs(candidates,sublist,target - n, n)\n",
    "            sublist.pop()"
   ]
  },
  {
   "cell_type": "code",
   "execution_count": 5,
   "metadata": {},
   "outputs": [],
   "source": [
    "x = SC3()"
   ]
  },
  {
   "cell_type": "code",
   "execution_count": 8,
   "metadata": {},
   "outputs": [
    {
     "name": "stdout",
     "output_type": "stream",
     "text": [
      "[1]\n",
      "[1, 1]\n",
      "[1, 1, 1]\n",
      "[1, 1, 1, 1]\n",
      "[1, 1, 1, 1, 1]\n",
      "[1, 1, 1, 1, 1, 1]\n",
      "[1, 1, 1, 1, 1, 1, 1]\n",
      "[1, 1, 1, 1, 3]\n",
      "[1, 1, 1, 3]\n",
      "[1, 1, 1, 4]\n",
      "[1, 1, 3]\n",
      "[1, 1, 4]\n",
      "[1, 3]\n",
      "[1, 3, 3]\n",
      "[1, 4]\n",
      "[3]\n",
      "[3, 3]\n",
      "[3, 4]\n",
      "[4]\n",
      "[7]\n"
     ]
    },
    {
     "data": {
      "text/plain": [
       "[[1, 1, 1, 1, 1, 1, 1], [1, 1, 1, 1, 3], [1, 1, 1, 4], [1, 3, 3], [3, 4], [7]]"
      ]
     },
     "execution_count": 8,
     "metadata": {},
     "output_type": "execute_result"
    }
   ],
   "source": [
    "x.combinationSum([1,3,4,7], 7)"
   ]
  },
  {
   "cell_type": "code",
   "execution_count": null,
   "metadata": {},
   "outputs": [],
   "source": []
  },
  {
   "cell_type": "code",
   "execution_count": null,
   "metadata": {},
   "outputs": [],
   "source": []
  },
  {
   "cell_type": "markdown",
   "metadata": {},
   "source": [
    "Given a collection of candidate numbers (candidates) and a target number (target), find all unique combinations in candidates where the candidate numbers sums to target.\n",
    "\n",
    "Each number in candidates may only be used once in the combination.\n",
    "\n",
    "Note:\n",
    "\n",
    "All numbers (including target) will be positive integers.\n",
    "The solution set must not contain duplicate combinations.\n",
    "Example 1:\n",
    "\n",
    "Input: candidates = [10,1,2,7,6,1,5], target = 8,\n",
    "A solution set is:\n",
    "[\n",
    "  [1, 7],\n",
    "  [1, 2, 5],\n",
    "  [2, 6],\n",
    "  [1, 1, 6]\n",
    "]\n",
    "Example 2:\n",
    "\n",
    "Input: candidates = [2,5,2,1,2], target = 5,\n",
    "A solution set is:\n",
    "[\n",
    "  [1,2,2],\n",
    "  [5]\n",
    "]"
   ]
  },
  {
   "cell_type": "code",
   "execution_count": 5,
   "metadata": {},
   "outputs": [],
   "source": []
  },
  {
   "cell_type": "code",
   "execution_count": null,
   "metadata": {},
   "outputs": [],
   "source": []
  },
  {
   "cell_type": "code",
   "execution_count": null,
   "metadata": {},
   "outputs": [],
   "source": []
  }
 ],
 "metadata": {
  "kernelspec": {
   "display_name": "Python 3",
   "language": "python",
   "name": "python3"
  },
  "language_info": {
   "codemirror_mode": {
    "name": "ipython",
    "version": 3
   },
   "file_extension": ".py",
   "mimetype": "text/x-python",
   "name": "python",
   "nbconvert_exporter": "python",
   "pygments_lexer": "ipython3",
   "version": "3.6.5"
  }
 },
 "nbformat": 4,
 "nbformat_minor": 2
}
