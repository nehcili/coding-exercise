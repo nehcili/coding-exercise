{
 "cells": [
  {
   "cell_type": "markdown",
   "metadata": {},
   "source": [
    "# Week of May 20, 2019\n",
    "### May 23, 2019\n",
    "- Reverse integer (easy)\n",
    "- longest palindromic substring:\n",
    "    - O(n^3) brute force\n",
    "    - Dynamic Programming\n",
    "    - Manacher's algo O(n) n = len of input\n",
    "- Zigzag"
   ]
  },
  {
   "cell_type": "code",
   "execution_count": 28,
   "metadata": {},
   "outputs": [],
   "source": [
    "# longest palindromic substring\n",
    "# O(n^3) brute force\n",
    "class BrutelongestPalindrome:\n",
    "    def longestPalindrome(self, s: str) -> str:\n",
    "        if s == '':\n",
    "            return ''\n",
    "        \n",
    "        i = 0\n",
    "        n = len(s)\n",
    "        ans = s[0]\n",
    "        \n",
    "        while i < n and n-i > len(ans):\n",
    "            x = self.longestPalindromeAtStart(s[i:])\n",
    "            #print(x)\n",
    "            if len(x) > len(ans):\n",
    "                ans = x\n",
    "            i += 1\n",
    "            #print(n-i, len(ans))\n",
    "            print('longestPalindrome', i)\n",
    "        \n",
    "        return ans\n",
    "        \n",
    "        \n",
    "    \n",
    "    \n",
    "    def isPalindrome(self, s: str):\n",
    "        if s == '':\n",
    "            return True\n",
    "        elif s[0] != s[-1]:\n",
    "            return False\n",
    "        elif self.isPalindrome(s[1:-1]):\n",
    "            return True\n",
    "        else:\n",
    "            return False\n",
    "    \n",
    "    # assume that s is non-empty\n",
    "    def longestPalindromeAtStart(self, s: str):\n",
    "        i = len(s)-1\n",
    "        \n",
    "        while i > 0:\n",
    "            print('longestPalindromeAtStart', i)\n",
    "            if s[i] == s[0]:\n",
    "                if self.isPalindrome(s[:i+1]):\n",
    "                    return s[:i+1]\n",
    "            \n",
    "            i -= 1\n",
    "            \n",
    "        \n",
    "        return s[0]"
   ]
  },
  {
   "cell_type": "code",
   "execution_count": 29,
   "metadata": {},
   "outputs": [],
   "source": [
    "# longest palindromic substring\n",
    "# dynamic programming O(n^2)\n",
    "class DPlongestPalindrome:\n",
    "    def longestPalindrome(self, s: str) -> str:\n",
    "        n = len(s)\n",
    "        P = [[False for _ in range(n)] for _  in range(n)]\n",
    "        max_ind = (0,0)\n",
    "        max_len = 1\n",
    "        \n",
    "        for i in range(n):\n",
    "            P[i][i] = True\n",
    "            if i+1 < n:\n",
    "                if s[i] == s[i+1]:\n",
    "                    P[i][i+1] = True\n",
    "                    if max_len < 2:\n",
    "                        max_ind = (i, i+1)\n",
    "                        max_len = 2\n",
    "                else:\n",
    "                    P[i][i+1] = False\n",
    "        \n",
    "        \n",
    "        for i in range(2, n):\n",
    "            for j in range(n-i):\n",
    "                if P[j+1][i+j-1] and s[j] == s[i+j]:\n",
    "                    P[j][i+j] = True\n",
    "                    if i+1 > max_len:\n",
    "                        max_len = i+1\n",
    "                        max_ind = (j, i+j)\n",
    "        \n",
    "        #print(max_ind)\n",
    "        return s[max_ind[0]: max_ind[1]+1]\n",
    "        \n",
    "        "
   ]
  },
  {
   "cell_type": "code",
   "execution_count": 30,
   "metadata": {},
   "outputs": [],
   "source": [
    "# longest palindromic substring\n",
    "# Manacher's algo O(n)\n",
    "class Manacher:\n",
    "    def longestPalindrome(self, s: str) -> str:\n",
    "        pass\n",
    "        \n",
    "        "
   ]
  },
  {
   "cell_type": "markdown",
   "metadata": {},
   "source": [
    "### May 24, 2019\n",
    "- Palindrome Number\n",
    "- string to number (atoi): moral: don't be lazy and write code for exactly what it is intended for and don't use pre-programmed method to over kill things\n",
    "- Container With Most Water\n",
    "    - brute force O(n^2) (even with mostWater1)\n",
    "    - O(n) algo exists, see mostWater2"
   ]
  },
  {
   "cell_type": "code",
   "execution_count": 31,
   "metadata": {},
   "outputs": [],
   "source": [
    "# Palindrome Number\n",
    "class palindromeNumber:\n",
    "    def isPalindrome(self, x: int) -> bool:\n",
    "        return (str(x) == str(x)[::-1])"
   ]
  },
  {
   "cell_type": "code",
   "execution_count": 32,
   "metadata": {},
   "outputs": [],
   "source": [
    "# atoi\n",
    "class atoi:\n",
    "    def myAtoi(self, str: str) -> int:\n",
    "        if str == '':\n",
    "            return 0\n",
    "        \n",
    "        ans = 0\n",
    "        sign = 1\n",
    "        NUM = ['0', '1', '2', '3', '4', '5', '6', '7', '8', '9']\n",
    "        i = 0\n",
    "        n = len(str)\n",
    "        INT_MIN = -2**31\n",
    "        INT_MAX = 2**31 -1\n",
    "        \n",
    "        while i < n:\n",
    "            if str[i] == ' ':\n",
    "                i += 1\n",
    "            else:\n",
    "                break\n",
    "        \n",
    "        if i < n:\n",
    "            if str[i] == '-' or str[i] == '+':\n",
    "                sign = 2* int(str[i] == '+') - 1\n",
    "                i += 1\n",
    "        \n",
    "        while i < n:\n",
    "            if str[i] in NUM:\n",
    "                #print(ans, str[i])\n",
    "                ans = 10*ans + sign * int(str[i])\n",
    "                if ans < INT_MIN:\n",
    "                    return INT_MIN\n",
    "                elif ans > INT_MAX:\n",
    "                    return INT_MAX\n",
    "                i += 1\n",
    "            else:\n",
    "                break\n",
    "        \n",
    "        return ans"
   ]
  },
  {
   "cell_type": "code",
   "execution_count": 5,
   "metadata": {},
   "outputs": [],
   "source": [
    "# Container With Most Water\n",
    "class mostWater1:\n",
    "    def maxArea(self, height) -> int:\n",
    "        startlines = []\n",
    "        endlines = []\n",
    "        n = len(height)\n",
    "        \n",
    "        curMax = 0\n",
    "        for i in range(n):\n",
    "            if height[i] > curMax:\n",
    "                startlines.append((i, height[i]))\n",
    "                curMax = height[i]\n",
    "        \n",
    "        curMax = 0\n",
    "        for i in range(n-1, startlines[-1][0]-1, -1):\n",
    "            if height[i] > curMax:\n",
    "                endlines = [(i, height[i])] + endlines\n",
    "                curMax = height[i]\n",
    "        \n",
    "        #print(startlines)\n",
    "        #print(endlines)\n",
    "        \n",
    "        MaxA = 0\n",
    "        for start in startlines:\n",
    "            for end in endlines:\n",
    "                curMax = (end[0] - start[0]) * min(end[1], start[1])\n",
    "                if curMax > MaxA:\n",
    "                    MaxA = curMax\n",
    "        \n",
    "        return MaxA\n",
    "                \n",
    "                \n",
    "            \n",
    "        "
   ]
  },
  {
   "cell_type": "code",
   "execution_count": 7,
   "metadata": {},
   "outputs": [],
   "source": [
    "# Container With Most Water\n",
    "# O(n) solution\n",
    "class mostWater2:\n",
    "    def maxArea(self, height) -> int:\n",
    "        maxA = 0\n",
    "        i, j = 0, len(height) - 1\n",
    "        \n",
    "        while i < j:\n",
    "            maxA = max(maxA, (j-i) * min(height[i], height[j]))\n",
    "            if height[i] < height[j]:\n",
    "                i += 1\n",
    "            else:\n",
    "                j -= 1\n",
    "        \n",
    "        return maxA   "
   ]
  },
  {
   "cell_type": "code",
   "execution_count": 8,
   "metadata": {},
   "outputs": [],
   "source": [
    "x = mostWater2()"
   ]
  },
  {
   "cell_type": "code",
   "execution_count": 9,
   "metadata": {},
   "outputs": [
    {
     "data": {
      "text/plain": [
       "10"
      ]
     },
     "execution_count": 9,
     "metadata": {},
     "output_type": "execute_result"
    }
   ],
   "source": [
    "x.maxArea([1,2,0,3,4,5,6])"
   ]
  },
  {
   "cell_type": "markdown",
   "metadata": {},
   "source": [
    "### May 25, 2019\n",
    "- Roman to Integer\n",
    "- Integer to Roman\n",
    "- 3Sum: write 2Sum with O(n) by using a hashtable, then can do 3Sum in O(n^2)"
   ]
  },
  {
   "cell_type": "code",
   "execution_count": 8,
   "metadata": {},
   "outputs": [],
   "source": [
    "class IntToRoman:\n",
    "    def intToRoman(self, num: int) -> str:\n",
    "        vals = [(1000, 'M'), (900, 'CM'), (500, 'D'), (400, 'CD'), (100, 'C'), (90, 'XC'), (50, 'L'), (40, 'XL'), (10, 'X'), (9, 'IX'), (5, 'V'), (4, 'IV'), (1, 'I')]\n",
    "        \n",
    "        ans = ''\n",
    "        valPosition = 0\n",
    "        stack = []\n",
    "        \n",
    "        while num > 0:\n",
    "            #print(vals[valPosition][0], num)\n",
    "            if vals[valPosition][0] <= num:\n",
    "                num -= vals[valPosition][0]\n",
    "                ans += vals[valPosition][1]\n",
    "            else:\n",
    "                valPosition += 1\n",
    "        \n",
    "        return ans\n",
    "x = IntToRoman()\n",
    "            "
   ]
  },
  {
   "cell_type": "code",
   "execution_count": 10,
   "metadata": {},
   "outputs": [
    {
     "data": {
      "text/plain": [
       "'CXXXIV'"
      ]
     },
     "execution_count": 10,
     "metadata": {},
     "output_type": "execute_result"
    }
   ],
   "source": [
    "x.intToRoman(134)"
   ]
  },
  {
   "cell_type": "code",
   "execution_count": 109,
   "metadata": {},
   "outputs": [],
   "source": [
    "# 3Sum\n",
    "# O(n^2 log(n)), too damn slow\n",
    "# probably writing binary search and everything in detail is slow instead of using pre-built functions\n",
    "class ThreeSum:\n",
    "    def threeSum(self, nums):\n",
    "        nums.sort()\n",
    "        \n",
    "        ans = []\n",
    "        i = 0\n",
    "        n = len(nums)\n",
    "        #print(nums)\n",
    "        \n",
    "        while i < n:\n",
    "            if nums[i] > 0:\n",
    "                break\n",
    "            \n",
    "            #print(-nums[i], nums[i+1:])\n",
    "            ans = self.twoSum(-nums[i], nums[i+1:], ans)\n",
    "            #print(ans)\n",
    "            i += 1\n",
    "        \n",
    "        return ans\n",
    "    \n",
    "    def twoSum(self, twosum, nums, ans):\n",
    "        i = 0\n",
    "        n = len(nums)\n",
    "        \n",
    "        while i < n:\n",
    "            #print(twosum-nums[i], nums[i+1:])\n",
    "            x = self.binSearch(twosum-nums[i], nums[i+1:])\n",
    "            if x!= None and [-twosum, nums[i], x] not in ans:\n",
    "                ans.append([-twosum, nums[i], x])\n",
    "            i += 1\n",
    "        \n",
    "        return ans\n",
    "    \n",
    "    def binSearch(self, a, lst):\n",
    "        if lst == []:\n",
    "            return None\n",
    "        \n",
    "        n = len(lst)\n",
    "        left, mid, right = 0, n//2, n\n",
    "        \n",
    "        while left < right-1:\n",
    "            #print(left, mid, right)\n",
    "            if lst[mid] == a:\n",
    "                return a\n",
    "            elif lst[mid] < a:\n",
    "                left = mid\n",
    "                mid = (right + mid) // 2\n",
    "            else:\n",
    "                right = mid\n",
    "                mid = (left + mid) // 2\n",
    "        \n",
    "        if lst[mid] == a:\n",
    "            return a\n",
    "        else:\n",
    "            return None\n",
    "            \n",
    "x = ThreeSum()"
   ]
  },
  {
   "cell_type": "code",
   "execution_count": 26,
   "metadata": {},
   "outputs": [],
   "source": [
    "# 3Sum\n",
    "# Super awesome solution: learn this\n",
    "# uses hash table for 2sum which makes looking up an element in a list O(n)\n",
    "# this is also O(n^2)\n",
    "class ThreeSum2:\n",
    "    def threeSum(self, nums):\n",
    "        ans = []\n",
    "        \n",
    "        if len(nums) < 3:\n",
    "            return []\n",
    "        if nums == [0] * len(nums):\n",
    "            return [[0, 0, 0]]\n",
    "        \n",
    "        nums.sort(reverse=True)\n",
    "        \n",
    "        if nums[0] < 0:\n",
    "            return []\n",
    "        \n",
    "        while nums != []:\n",
    "            num = nums.pop()\n",
    "            if num > 0:\n",
    "                break\n",
    "            temp = self.twoSum(nums, -num)\n",
    "            if temp != []:\n",
    "                ans += temp\n",
    "\n",
    "        return list(set(ans))\n",
    "            \n",
    "        \n",
    "\n",
    "    def twoSum(self, nums, target: int):\n",
    "        dic = {}\n",
    "        ans = []\n",
    "        \n",
    "        for num in nums:\n",
    "            if num in dic:\n",
    "                ans.append((-target, num, dic[num]))\n",
    "            else:\n",
    "                dic[target - num] = num\n",
    "        return ans"
   ]
  },
  {
   "cell_type": "code",
   "execution_count": 27,
   "metadata": {},
   "outputs": [],
   "source": [
    "x = ThreeSum2()"
   ]
  },
  {
   "cell_type": "code",
   "execution_count": 28,
   "metadata": {},
   "outputs": [
    {
     "data": {
      "text/plain": [
       "[(-6, 4, 2), (-6, 3, 3)]"
      ]
     },
     "execution_count": 28,
     "metadata": {},
     "output_type": "execute_result"
    }
   ],
   "source": [
    "x.twoSum([1,2,3,0,4,3,2,1,1], 6)"
   ]
  },
  {
   "cell_type": "code",
   "execution_count": 29,
   "metadata": {},
   "outputs": [
    {
     "data": {
      "text/plain": [
       "[(-1, 0, 1), (-2, 1, 1)]"
      ]
     },
     "execution_count": 29,
     "metadata": {},
     "output_type": "execute_result"
    }
   ],
   "source": [
    "x.threeSum([1,0,1,-1,-2,4])"
   ]
  },
  {
   "cell_type": "code",
   "execution_count": null,
   "metadata": {},
   "outputs": [],
   "source": []
  }
 ],
 "metadata": {
  "kernelspec": {
   "display_name": "Python 3",
   "language": "python",
   "name": "python3"
  },
  "language_info": {
   "codemirror_mode": {
    "name": "ipython",
    "version": 3
   },
   "file_extension": ".py",
   "mimetype": "text/x-python",
   "name": "python",
   "nbconvert_exporter": "python",
   "pygments_lexer": "ipython3",
   "version": "3.6.5"
  }
 },
 "nbformat": 4,
 "nbformat_minor": 2
}
