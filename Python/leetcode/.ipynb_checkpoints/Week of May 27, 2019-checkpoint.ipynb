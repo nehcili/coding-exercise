{
 "cells": [
  {
   "cell_type": "markdown",
   "metadata": {},
   "source": [
    "# Week of May 27, 2019\n",
    "## To learn:\n",
    "1. bit operation << and >>"
   ]
  },
  {
   "cell_type": "markdown",
   "metadata": {},
   "source": [
    "### May 27, 2019\n",
    "- Valid Parentheses\n",
    "- letter combination (phone numbers to all possible combination of there associated letters)\n",
    "    - when doing recursion, the stack/result/answer can be carried as an argument\n",
    "    - use scope wisely can help a lot!\n",
    "    - note that append returns None and it mutate the list\n",
    "- Remove Nth Node From End of List\n",
    "    - method 1 RNL1: use a dictionary to store (pos : pointer to pos)\n",
    "    - method 2 RNL2: sliding window of size n (some how this is slower than RNL1)\n",
    "- merge k linked lists of ints (total N entries)\n",
    "    - heap O(N log(k))\n",
    "    - hashtable for possible values O(Nk log(Nk)) worst case, but seems to be very fast in general"
   ]
  },
  {
   "cell_type": "code",
   "execution_count": 2,
   "metadata": {},
   "outputs": [],
   "source": [
    "# letter combination, very slick solution\n",
    "class LC(object):\n",
    "    def letterCombinations(self, digits):\n",
    "        '''\n",
    "        :type digits: str\n",
    "        :rtype: List[str]\n",
    "        '''\n",
    "        phone = {'2': ['a', 'b', 'c'],\n",
    "                 '3': ['d', 'e', 'f'],\n",
    "                 '4': ['g', 'h', 'i'],\n",
    "                 '5': ['j', 'k', 'l'],\n",
    "                 '6': ['m', 'n', 'o'],\n",
    "                 '7': ['p', 'q', 'r', 's'],\n",
    "                 '8': ['t', 'u', 'v'],\n",
    "                 '9': ['w', 'x', 'y', 'z']}    \n",
    "        result = []\n",
    "        \n",
    "        def helpCombine(current, leftoverDigits):\n",
    "            if not leftoverDigits:\n",
    "                result.append(current)\n",
    "                return \n",
    "            else:\n",
    "                for char in phone[leftoverDigits[0]]:\n",
    "                    helpCombine(current + char, leftoverDigits[1:])\n",
    "        \n",
    "        if not digits:\n",
    "            return []\n",
    "        else: \n",
    "            helpCombine(\"\", digits)\n",
    "            return result"
   ]
  },
  {
   "cell_type": "code",
   "execution_count": 82,
   "metadata": {},
   "outputs": [],
   "source": [
    "# generating all permutations of n numbers\n",
    "def nperm(n : int):\n",
    "    if n == 0:\n",
    "        return []\n",
    "    \n",
    "    ans = []\n",
    "    def nperm_help(current, m):\n",
    "        if m == 0:\n",
    "            ans.append(current)\n",
    "            return\n",
    "        for i in range(n):\n",
    "            x = current.copy()\n",
    "            x.append(i)\n",
    "            nperm_help(x, m-1)\n",
    "    \n",
    "    nperm_help([], n)\n",
    "    return ans"
   ]
  },
  {
   "cell_type": "code",
   "execution_count": 107,
   "metadata": {},
   "outputs": [],
   "source": [
    "# Definition for singly-linked list.\n",
    "class ListNode:\n",
    "    def __init__(self, x):\n",
    "        self.val = x\n",
    "        self.next = None\n",
    "\n",
    "class RNL1:\n",
    "    def removeNthFromEnd(self, head: ListNode, n: int) -> ListNode:  \n",
    "        ans = head\n",
    "        dic = {}\n",
    "        length = 0\n",
    "        \n",
    "        while head != None:\n",
    "            dic[length] = head\n",
    "            length += 1\n",
    "            head = head.next\n",
    "        dic[length] = None\n",
    "\n",
    "        if length == n:\n",
    "            return dic[1]\n",
    "        else:\n",
    "            dic[length-n-1].next = dic[length-n+1]\n",
    "        \n",
    "        return ans\n",
    "            "
   ]
  },
  {
   "cell_type": "code",
   "execution_count": 108,
   "metadata": {},
   "outputs": [],
   "source": [
    "# Definition for singly-linked list.\n",
    "class RNL2:\n",
    "    def removeNthFromEnd(self, head: ListNode, n: int) -> ListNode:\n",
    "        slow = fast = head\n",
    "        \n",
    "        for i in range(n):\n",
    "            if fast:\n",
    "                fast = fast.next       \n",
    "        if not fast:\n",
    "            return head.next\n",
    "        while fast.next:\n",
    "            slow = slow.next\n",
    "            fast = fast.next\n",
    "        slow.next = slow.next.next\n",
    "            \n",
    "        return head\n",
    "            \n",
    "            "
   ]
  },
  {
   "cell_type": "code",
   "execution_count": 259,
   "metadata": {},
   "outputs": [],
   "source": [
    "# Merge k Sorted Lists\n",
    "# O(Nlog(k)) solution (in practice beats 83% of the code)\n",
    "import heapq\n",
    "#Definition for singly-linked list.\n",
    "class ListNode:\n",
    "    def __init__(self, x):\n",
    "        self.val = x\n",
    "        self.next = None\n",
    "    \n",
    "    def printList(self):\n",
    "        temp = self\n",
    "        ans = []\n",
    "        while temp != None:\n",
    "            ans.append(temp.val)\n",
    "            temp = temp.next\n",
    "        print(ans)\n",
    "\n",
    "def makeList(lst):\n",
    "    if lst == []:\n",
    "        return []\n",
    "    else:\n",
    "        ans = ListNode(lst[0])\n",
    "        temp = ans\n",
    "        for e in lst[1:]:\n",
    "            temp.next = ListNode(e)\n",
    "            temp = temp.next\n",
    "        return ans\n",
    "        \n",
    "\n",
    "class Solution:\n",
    "    def mergeKLists(self, lists):\n",
    "        ans = []\n",
    "        h = []\n",
    "        index = 0\n",
    "        for lst in lists:\n",
    "            heapq.heappush(h, (lst.val, index, lst))\n",
    "            index += 1\n",
    "        \n",
    "        \n",
    "        while h:\n",
    "            print(h)\n",
    "            min_element_pair = heapq.heappop(h)\n",
    "            #print(min_element_pair)\n",
    "            ans.append(min_element_pair[0])\n",
    "            min_element_lst = min_element_pair[2].next\n",
    "            #min_element_lst.printList()\n",
    "            if min_element_lst:\n",
    "                heapq.heappush(h, (min_element_lst.val, index, min_element_lst))\n",
    "                index += 1\n",
    "                \n",
    "        return ans\n",
    "                "
   ]
  },
  {
   "cell_type": "code",
   "execution_count": 261,
   "metadata": {},
   "outputs": [],
   "source": [
    "# Merge k Sorted Lists\n",
    "# O(Nk log(Nk)) solution (in practice very very fast, beats 99%)\n",
    "# idea: use a hashtable for the possible values in and sorted the unique values\n",
    "class Solution:\n",
    "    def mergeKLists(self, lists) -> ListNode:\n",
    "        d = {}\n",
    "        for node in lists:\n",
    "            cur = node\n",
    "            while cur:\n",
    "                if cur.val not in d:\n",
    "                    # head, tail\n",
    "                    d[cur.val] = [cur,cur]\n",
    "                else:\n",
    "                    d[cur.val][1].next = cur\n",
    "                    d[cur.val][1] = cur\n",
    "                cur = cur.next\n",
    "        sorted_keys = sorted(list(d.keys()))\n",
    "        \n",
    "        for k in range(len(sorted_keys)-1):\n",
    "            d[sorted_keys[k]][1].next = d[sorted_keys[k+1]][0]\n",
    "        if sorted_keys:\n",
    "            return d[sorted_keys[0]][0]\n",
    "        else:\n",
    "            return None"
   ]
  },
  {
   "cell_type": "markdown",
   "metadata": {},
   "source": [
    "### May 28, 2019\n",
    "- Remove Duplicates from Sorted Array\n",
    "- Divide Two Integers (always try to do log)\n",
    "- longest valid paranthesis\n",
    "    - brute force\n",
    "    - DP (LVP2)\n",
    "    - using a stack (see leetcode page, this is very smart)\n",
    "    - my approach (LVP1)"
   ]
  },
  {
   "cell_type": "code",
   "execution_count": 88,
   "metadata": {},
   "outputs": [],
   "source": [
    "# Divide Two Integers\n",
    "class DTI:\n",
    "    def divide(self, dividend: int, divisor: int) -> int:        \n",
    "        sign1 = 1 if dividend >= 0 else -1\n",
    "        sign2 = 1 if divisor >= 0 else -1\n",
    "        \n",
    "        dividend *= sign1\n",
    "        divisor *= sign2\n",
    "        \n",
    "        if divisor == 1:\n",
    "            return sign1 * sign2 * dividend\n",
    "        if dividend < divisor:\n",
    "            return 0\n",
    "        \n",
    "        stack = [divisor]\n",
    "        quotient = [1]\n",
    "        ans = 0\n",
    "        flag = True\n",
    "        while stack and dividend > 0:\n",
    "            #print(dividend, stack, quotient, ans)\n",
    "            if dividend < stack[-1]:\n",
    "                stack.pop()\n",
    "                quotient.pop()\n",
    "                if flag:\n",
    "                    ans += quotient[-1]\n",
    "                    dividend -= stack[-1]\n",
    "                    flag=  False\n",
    "            else:\n",
    "                stack.append(stack[-1] + stack[-1])\n",
    "                quotient.append(quotient[-1] + quotient[-1])\n",
    "                flag = True\n",
    "        \n",
    "        return ans\n",
    "                \n",
    "x = DTI()"
   ]
  },
  {
   "cell_type": "code",
   "execution_count": 89,
   "metadata": {},
   "outputs": [
    {
     "data": {
      "text/plain": [
       "9"
      ]
     },
     "execution_count": 89,
     "metadata": {},
     "output_type": "execute_result"
    }
   ],
   "source": [
    "x.divide(29,3)"
   ]
  },
  {
   "cell_type": "code",
   "execution_count": 90,
   "metadata": {},
   "outputs": [],
   "source": [
    "# longest value parateses fast DP (slow)\n",
    "# time O(n), space O(1)\n",
    "class LVP1:\n",
    "    def longestValidParentheses(self, s: str) -> int:\n",
    "        def helper(st, LEFT):\n",
    "            max_len = 0\n",
    "            left = 0\n",
    "            right = 0\n",
    "            for c in st:\n",
    "                if c == LEFT:\n",
    "                    left += 1\n",
    "                else:\n",
    "                    right += 1\n",
    "                print(left, right, max_len)\n",
    "\n",
    "                if left == right:\n",
    "                    max_len = max(max_len, 2*left)\n",
    "                elif left < right:\n",
    "                    left = 0\n",
    "                    right = 0 \n",
    "            return max_len\n",
    "        \n",
    "        \n",
    "        \n",
    "        return max(helper(s, '('),  helper(s[::-1], ')'))"
   ]
  },
  {
   "cell_type": "code",
   "execution_count": 91,
   "metadata": {},
   "outputs": [],
   "source": [
    "# longest value parateses fast DP\n",
    "# space and time O(n)\n",
    "class LVP2:\n",
    "    def longestValidParentheses(self, s: str) -> int:\n",
    "        n = len(s)\n",
    "        if n <= 1:\n",
    "            return 0\n",
    "        \n",
    "        dp = [0] * n\n",
    "        for i in range(1,n):\n",
    "            if s[i] == ')':\n",
    "                if s[i-1] == '(':\n",
    "                    dp[i] = dp[i-2] + 2\n",
    "                elif i -dp[i-1]-1 >= 0 and s[i-dp[i-1]-1] == '(':\n",
    "                    dp[i] = dp[i-dp[i-1]-2] + dp[i-1] + 2\n",
    "        \n",
    "        return max(dp)\n"
   ]
  },
  {
   "cell_type": "markdown",
   "metadata": {},
   "source": [
    "### May 29, 2019\n",
    "- Implement strStr()\n",
    "    - the problem is very easy, but hard to write in \"nice\" code\n",
    "    - learn the code for IS for organization and content\n",
    "- Find First and Last Position of Element in Sorted Array\n",
    "    - this is not a hard problem. but a problem where you need to know how to optimize your code\n",
    "    - check out FLP1 (my code, beats 86%) and top performing FLP2, beats just about all"
   ]
  },
  {
   "cell_type": "code",
   "execution_count": 28,
   "metadata": {},
   "outputs": [],
   "source": [
    "class IS:\n",
    "    def strStr(self, haystack: str, needle: str) -> int:\n",
    "        n = len(needle)\n",
    "        m = len(haystack)\n",
    "        if n == 0:\n",
    "            return 0\n",
    "        if n > m or m <= 0:\n",
    "            return -1\n",
    "        \n",
    "        cap = m-n+1\n",
    "        ind = 0\n",
    "        while ind < cap:\n",
    "            i = ind\n",
    "            j = 0\n",
    "            while i < m and j < n:\n",
    "                if haystack[i] == needle[j]:\n",
    "                    i += 1\n",
    "                    j += 1\n",
    "                else:\n",
    "                    break\n",
    "            if j >= n:\n",
    "                return ind\n",
    "            \n",
    "            ind += 1\n",
    "        \n",
    "        return -1\n",
    "    \n",
    "x = IS()"
   ]
  },
  {
   "cell_type": "code",
   "execution_count": 27,
   "metadata": {},
   "outputs": [
    {
     "data": {
      "text/plain": [
       "2"
      ]
     },
     "execution_count": 27,
     "metadata": {},
     "output_type": "execute_result"
    }
   ],
   "source": [
    "x.strStr('hello', 'll')"
   ]
  },
  {
   "cell_type": "code",
   "execution_count": 51,
   "metadata": {},
   "outputs": [],
   "source": [
    "# Find First and Last Position of Element in Sorted Array\n",
    "# my code\n",
    "class FLP:\n",
    "    def searchRange(self, nums, target: int):\n",
    "        if nums == []:\n",
    "            return [-1, -1]\n",
    "        \n",
    "        n = len(nums)\n",
    "        \n",
    "        left = 0\n",
    "        mid = n // 2\n",
    "        right = n\n",
    "        while left < right and nums[mid] != target:\n",
    "            if nums[mid] < target:\n",
    "                left = mid+1\n",
    "            else:\n",
    "                right = mid\n",
    "            mid = (right + left) // 2\n",
    "            #print(left, mid, right)\n",
    "            \n",
    "        if right == left:\n",
    "            return [-1, -1]\n",
    "        \n",
    "        ll = left\n",
    "        lr = mid+1\n",
    "        lm = (ll + lr) // 2\n",
    "        #print(ll, lm, lr)\n",
    "        while lr - ll > 1:\n",
    "            if nums[lm] < target:\n",
    "                ll = lm + 1\n",
    "            elif lr == lm + 1:\n",
    "                if nums[ll] != target:\n",
    "                    ll += 1\n",
    "                break\n",
    "            else:\n",
    "                lr = lm + 1\n",
    "            lm = (ll + lr) // 2\n",
    "        \n",
    "        rl = mid\n",
    "        rr = right\n",
    "        rm = (rl + rr) // 2\n",
    "        while rr - rl > 1:\n",
    "            if nums[rm] > target:\n",
    "                rr = rm\n",
    "            else:\n",
    "                rl = rm\n",
    "            rm = (rl + rr) // 2\n",
    "                \n",
    "        return [ll, rl]\n",
    "        \n",
    "x = FLP()"
   ]
  },
  {
   "cell_type": "code",
   "execution_count": 49,
   "metadata": {},
   "outputs": [
    {
     "data": {
      "text/plain": [
       "[1, 1]"
      ]
     },
     "execution_count": 49,
     "metadata": {},
     "output_type": "execute_result"
    }
   ],
   "source": [
    "x.searchRange([1,4], 4)"
   ]
  },
  {
   "cell_type": "code",
   "execution_count": 52,
   "metadata": {},
   "outputs": [],
   "source": [
    "# Find First and Last Position of Element in Sorted Array\n",
    "# fast solution to FLP\n",
    "class FLP2:\n",
    "    def searchRange(self, nums, target: int):\n",
    "        left = self.extrem_insertion_index(nums, target, True)    \n",
    "        \n",
    "        if left == len(nums) or nums[left] != target:\n",
    "            return [-1, -1]\n",
    "        \n",
    "        right = self.extrem_insertion_index(nums, target, False) - 1\n",
    "        \n",
    "        return [left, right]\n",
    "           \n",
    "            \n",
    "    \n",
    "    def extrem_insertion_index(self, nums, target, left):\n",
    "        low, high = 0, len(nums)\n",
    "        \n",
    "        while low < high:\n",
    "            mid = (low + high) // 2\n",
    "            if nums[mid] > target or (left and target == nums[mid]):\n",
    "                high = mid\n",
    "            else:\n",
    "                low = mid + 1\n",
    "        return low"
   ]
  },
  {
   "cell_type": "markdown",
   "metadata": {},
   "source": [
    "### May 30, 2019\n",
    "- Search in Rotated Sorted Array (RRSA)\n",
    "    - this is not a hard problem. The hard part is to be very precise with the if statements and make sure:\n",
    "        - each iteration causes the size of the problem to be strictly smaller\n",
    "        - be sure that all cases are considered and there is no overlap in logical if-elif-else statements\n",
    "    - a faster way to this is to find the pivot, then do binary search\n",
    "- First Missing Positive\n",
    "    - note that first n positive is 1,...,n. So can ignore all other numbers. I first thought of placing number k at k-1 position. But abandoned this since some numebrs are larger than n. Forgot to use this fact\n",
    "    - extract as much info as possible from the problem \n",
    "    - FMP1: using recursion sorta fast\n",
    "    - FMP2: slick, but somehow slow. Those theoretically O(n) time and O(1) space\n",
    "- Permutation\n",
    "    - permutation1: what I wrote, ok fast\n",
    "    - permutation2: very fast and slick. don't use list.insert()\n",
    "- max subarray:\n",
    "    - MS is slick"
   ]
  },
  {
   "cell_type": "code",
   "execution_count": 96,
   "metadata": {},
   "outputs": [],
   "source": [
    "class RRSA:\n",
    "    def search(self, nums, target: int) -> int:\n",
    "        n = len(nums)\n",
    "        \n",
    "        if n == 0:\n",
    "            return -1\n",
    "        if n == 1:\n",
    "            return (nums[0] == target)-1\n",
    "        \n",
    "        def helper(left, right, target, bdry, l, r):\n",
    "            print(left, right, target, bdry, l, r)\n",
    "            while left < right:\n",
    "                mid =  (left + right) // 2\n",
    "                print(left, mid, right)\n",
    "                if nums[mid] == target:\n",
    "                    return mid\n",
    "                elif l and nums[mid] <= bdry:\n",
    "                    right = mid\n",
    "                elif r and nums[mid] >= bdry:\n",
    "                        left = mid+1\n",
    "                elif nums[mid] < target:\n",
    "                    left = mid + 1\n",
    "                elif right == mid+1:\n",
    "                    right = mid-1\n",
    "                    if nums[right] == target:\n",
    "                        return right\n",
    "                else:\n",
    "                    right = mid\n",
    "\n",
    "            return -1\n",
    "        \n",
    "        if nums[0] < nums[-1]:\n",
    "            return helper(0, n, target, 0, False, False)\n",
    "        elif nums[0] > target and nums[-1] < target:\n",
    "            return -1\n",
    "        elif nums[0] <= target:\n",
    "            return helper(0, n, target, nums[-1], True, False)\n",
    "        else:\n",
    "            return helper(0, n, target, nums[0], False, True)\n",
    "\n",
    "x = Solution()"
   ]
  },
  {
   "cell_type": "code",
   "execution_count": 106,
   "metadata": {},
   "outputs": [],
   "source": [
    "class FMP1:\n",
    "    def firstMissingPositive(self, nums) -> int:\n",
    "        n = len(nums)\n",
    "        \n",
    "        def helper(i, base):\n",
    "            while i < n:\n",
    "                if nums[i] < base:\n",
    "                    i += 1\n",
    "                else:\n",
    "                    break\n",
    "            if i == n:\n",
    "                return base\n",
    "            \n",
    "            #print(i, nums[i], base)\n",
    "            if nums[i] == base:\n",
    "                return helper(i+1, base+1)\n",
    "            \n",
    "            nsmall = helper(i+1, base)    \n",
    "            if nsmall == nums[i]:\n",
    "                return helper(i+1, nums[i]+1)\n",
    "            \n",
    "            return nsmall\n",
    "        \n",
    "        return helper(0, 1)\n",
    "            \n",
    "x = FMP()"
   ]
  },
  {
   "cell_type": "code",
   "execution_count": 107,
   "metadata": {},
   "outputs": [
    {
     "name": "stdout",
     "output_type": "stream",
     "text": [
      "0 2 1\n",
      "1 4 1\n",
      "2 1 1\n",
      "3 3 2\n",
      "1 4 3\n",
      "3 3 3\n"
     ]
    },
    {
     "data": {
      "text/plain": [
       "5"
      ]
     },
     "execution_count": 107,
     "metadata": {},
     "output_type": "execute_result"
    }
   ],
   "source": [
    "x.firstMissingPositive([2,4,1,3])"
   ]
  },
  {
   "cell_type": "code",
   "execution_count": 114,
   "metadata": {},
   "outputs": [],
   "source": [
    "# Somehow this is very slow\n",
    "# easy to see O(n) time and O(1) space\n",
    "class FMP2:\n",
    "    def firstMissingPositive(self, nums) -> int:\n",
    "        n = len(nums)\n",
    "        i = 0\n",
    "        \n",
    "        while i < n:\n",
    "            print(nums)\n",
    "            if nums[i] > n or nums[i] < 1:\n",
    "                i += 1\n",
    "            elif nums[i] == nums[nums[i]-1]:\n",
    "                i += 1\n",
    "            else:\n",
    "                nums[i], nums[nums[i]-1] = nums[nums[i]-1], nums[i]\n",
    "        \n",
    "        for i in range(n):\n",
    "            if nums[i] != i+1:\n",
    "                return i+1\n",
    "        \n",
    "        return n+1\n",
    "                \n",
    "\n",
    "x = FMP()"
   ]
  },
  {
   "cell_type": "code",
   "execution_count": 113,
   "metadata": {},
   "outputs": [
    {
     "name": "stdout",
     "output_type": "stream",
     "text": [
      "0 3 1\n",
      "1 4 1\n",
      "3 1 1\n"
     ]
    },
    {
     "data": {
      "text/plain": [
       "2"
      ]
     },
     "execution_count": 113,
     "metadata": {},
     "output_type": "execute_result"
    }
   ],
   "source": [
    "x.firstMissingPositive([3,4,-1,1])"
   ]
  },
  {
   "cell_type": "code",
   "execution_count": 121,
   "metadata": {},
   "outputs": [],
   "source": [
    "class Permutation1:\n",
    "    def permute(self, nums):\n",
    "        n = len(nums)\n",
    "        ans = []\n",
    "        \n",
    "        def helper(current, leftover):\n",
    "            print(current)\n",
    "            if leftover == []:\n",
    "                ans.append(current)\n",
    "                return\n",
    "            else:\n",
    "                for i in range(len(current)+1):\n",
    "                    x = current.copy()\n",
    "                    x.insert(i, leftover[0])\n",
    "                    helper(x, leftover[1:])\n",
    "        \n",
    "        helper([], nums)\n",
    "        return ans\n",
    "                \n",
    "x = Solution()"
   ]
  },
  {
   "cell_type": "code",
   "execution_count": 124,
   "metadata": {},
   "outputs": [],
   "source": [
    "class Permutation2:\n",
    "    def permute(self, nums):\n",
    "        n = len(nums)\n",
    "        output = []\n",
    "        \n",
    "        def backtrack(first = 0):\n",
    "            # if all integers are used up\n",
    "            if first == n:  \n",
    "                output.append(nums[:])\n",
    "            for i in range(first, n):\n",
    "                # place i-th integer first \n",
    "                # in the current permutation\n",
    "                nums[first], nums[i] = nums[i], nums[first]\n",
    "                # use next integers to complete the permutations\n",
    "                backtrack(first + 1)\n",
    "                # backtrack\n",
    "                nums[first], nums[i] = nums[i], nums[first]\n",
    "        \n",
    "        backtrack()\n",
    "        return output"
   ]
  },
  {
   "cell_type": "code",
   "execution_count": 127,
   "metadata": {},
   "outputs": [],
   "source": [
    "class MS:\n",
    "    def maxSubArray(self, nums) -> int:\n",
    "        if nums == []:\n",
    "            return 0\n",
    "        \n",
    "        Max = nums[0]\n",
    "        Sum = Max \n",
    "        for i in nums[1:]:\n",
    "            if Sum < 0:\n",
    "                Sum = i\n",
    "            else:\n",
    "                Sum += i\n",
    "            Max = max(Max, Sum)\n",
    "        \n",
    "        return Max\n",
    "            \n",
    "        \n",
    "        \n",
    "        "
   ]
  },
  {
   "cell_type": "markdown",
   "metadata": {},
   "source": [
    "### May 31, 2019\n",
    "- Merge Two Sorted Lists\n",
    "- Valid Sudoku\n",
    "- Trapping Rain Water\n",
    "    - TRW1 : slow, python is slow with list pop and append\n",
    "    - TRW2 : fast, python is fast when mutating the list but not popping and appending. This is fastern than 99.94% on Leetcode\n",
    "    - TRW3 : some pro wrote this super fast > 99.99% short code\n",
    "        - This capitalizes on the fact that this problem is not a global problem completely. But depends on the left and right only. Just like many other 1D problems, it only depends on boundary like terms\n",
    "- Group Anagram\n",
    "    - from collections import defaultdict\n",
    "    - dic = defaultdict(list)\n",
    "    - use this to avoid base case checking (i.e. no need to if x in dic)\n",
    "- Pow(x,n) : know this algo"
   ]
  },
  {
   "cell_type": "code",
   "execution_count": 153,
   "metadata": {},
   "outputs": [],
   "source": [
    "# Definition for singly-linked list.\n",
    "class ListNode:\n",
    "    def __init__(self, x):\n",
    "        self.val = x\n",
    "        self.next = None\n",
    "    \n",
    "    def printList(self):\n",
    "        temp = self\n",
    "        ans = []\n",
    "        while temp != None:\n",
    "            ans.append(temp.val)\n",
    "            temp = temp.next\n",
    "        print(ans)\n",
    "\n",
    "def makeList(lst):\n",
    "    if lst == []:\n",
    "        return []\n",
    "    else:\n",
    "        ans = ListNode(lst[0])\n",
    "        temp = ans\n",
    "        for e in lst[1:]:\n",
    "            temp.next = ListNode(e)\n",
    "            temp = temp.next\n",
    "        return ans\n",
    "\n",
    "class MTSL:\n",
    "    def mergeTwoLists(self, l1: ListNode, l2: ListNode) -> ListNode:\n",
    "        if not l1:\n",
    "            return l2\n",
    "        if not l2:\n",
    "            return l1\n",
    "        \n",
    "        if l1.val <= l2.val:\n",
    "            prev = l1\n",
    "            l1 = l1.next\n",
    "        else:\n",
    "            prev = l2\n",
    "            l2 = l2.next\n",
    "        head = prev\n",
    "        \n",
    "        while l1 and l2:\n",
    "            #l1.printList()\n",
    "            #l2.printList()\n",
    "            if l1.val <= l2.val:\n",
    "                prev.next = l1\n",
    "                l1 = l1.next\n",
    "            else:\n",
    "                prev.next = l2\n",
    "                l2 = l2.next\n",
    "            prev = prev.next\n",
    "            \n",
    "            #head.printList()\n",
    "        \n",
    "        if l1:\n",
    "            prev.next = l1\n",
    "        else:\n",
    "            prev.next = l2\n",
    "        \n",
    "        return head\n",
    "                \n",
    "x = MTSL()"
   ]
  },
  {
   "cell_type": "code",
   "execution_count": 154,
   "metadata": {},
   "outputs": [
    {
     "name": "stdout",
     "output_type": "stream",
     "text": [
      "[1, 1, 2, 3, 4, 4]\n"
     ]
    }
   ],
   "source": [
    "x.mergeTwoLists(makeList([1,2,4]), makeList([1,3,4])).printList()"
   ]
  },
  {
   "cell_type": "code",
   "execution_count": 155,
   "metadata": {},
   "outputs": [],
   "source": [
    "# Trapping rain water\n",
    "class TRW1:\n",
    "    def trap(self, height) -> int:\n",
    "        n = len(height)\n",
    "        i = 0\n",
    "        while i < n:\n",
    "            if height[i] != 0:\n",
    "                break\n",
    "            i += 1\n",
    "        if n-i <= 1:\n",
    "            return 0\n",
    "        \n",
    "        ans = 0\n",
    "        leftStack = [height[i]]\n",
    "        i += 1\n",
    "        rightStack = []\n",
    "        \n",
    "        while i < n:\n",
    "            #print(leftStack, rightStack)\n",
    "            h = height[i]\n",
    "            if leftStack[-1] >= h:\n",
    "                leftStack.append(h)\n",
    "            elif leftStack[0] == leftStack[-1]:\n",
    "                leftStack = [h]\n",
    "            else:\n",
    "                while leftStack:\n",
    "                    rightStack.append(leftStack.pop())\n",
    "                    if h <= rightStack[-1]:\n",
    "                        break\n",
    "                \n",
    "                #print(h, leftStack, rightStack)\n",
    "                \n",
    "                if h >= rightStack[-1] and leftStack == []:\n",
    "                    level = rightStack.pop()\n",
    "                    while rightStack:\n",
    "                        ans += level - rightStack.pop()\n",
    "                else:\n",
    "                    leftStack.append(rightStack.pop())\n",
    "                    while rightStack:\n",
    "                        ans += h - rightStack.pop()\n",
    "                        leftStack.append(h)\n",
    "                leftStack.append(h)\n",
    "            \n",
    "            i += 1\n",
    "        \n",
    "        return ans\n",
    "                \n",
    "x = TRW1()         "
   ]
  },
  {
   "cell_type": "code",
   "execution_count": 156,
   "metadata": {},
   "outputs": [],
   "source": [
    "# Trapping rain water\n",
    "class TRW2:\n",
    "    def trap(self, height) -> int:\n",
    "        n = len(height)\n",
    "        \n",
    "        # peak := height of at peak+1 < height at peak or\n",
    "        # peak := height of peak-1 <= height at peak and peak = n-1\n",
    "        # find the furthest peak greater than or equal to the height h\n",
    "        # starting index i\n",
    "        # if not such peak exists, return the highest peak starting \n",
    "        # at a index i\n",
    "        # if both fails, return None\n",
    "        def helper(i, h): \n",
    "            if i >= n:\n",
    "                return None\n",
    "            \n",
    "            max_ind = i\n",
    "            while i < n:\n",
    "                if height[i] > h:\n",
    "                    return i\n",
    "                if height[i] >= height[max_ind]:\n",
    "                    max_ind = i\n",
    "                i += 1\n",
    "            \n",
    "            return max_ind\n",
    "        \n",
    "        def nextPeak(i):\n",
    "            while i+1 < n:\n",
    "                if height[i+1] < height[i]:\n",
    "                    return i\n",
    "                i += 1\n",
    "            return i\n",
    "        \n",
    "        peak = nextPeak(0)\n",
    "        if n- peak <= 2:\n",
    "            return 0\n",
    "        \n",
    "        ans = 0\n",
    "        npeak = helper(peak+2, height[peak])\n",
    "        while npeak:\n",
    "            level = min(height[peak], height[npeak])\n",
    "            for i in range(peak+1, npeak):\n",
    "                ans += max(0, level - height[i])\n",
    "            \n",
    "            #print(peak, npeak, level, ans)\n",
    "            peak = nextPeak(npeak)\n",
    "            #print(peak, npeak, level, ans)\n",
    "            npeak = helper(peak+2, height[peak])\n",
    "        \n",
    "        return ans\n",
    "   \n",
    "                \n",
    "x = TRW2()         "
   ]
  },
  {
   "cell_type": "code",
   "execution_count": 157,
   "metadata": {},
   "outputs": [
    {
     "data": {
      "text/plain": [
       "10"
      ]
     },
     "execution_count": 157,
     "metadata": {},
     "output_type": "execute_result"
    }
   ],
   "source": [
    "x.trap([5,5,4,7,8,2,6,9,4,5])"
   ]
  },
  {
   "cell_type": "code",
   "execution_count": 158,
   "metadata": {},
   "outputs": [],
   "source": [
    "class TRW3:\n",
    "    def trap(self, height) -> int:\n",
    "        L = len(height)\n",
    "        if L < 3:\n",
    "            return 0\n",
    "\n",
    "        l, r = 0, L - 1\n",
    "        maxL, maxR = height[l], height[r]\n",
    "        trapped = 0\n",
    "        while l < r:\n",
    "                trapped += maxL - height[l] + maxR - height[r]\n",
    "            if height[l] > height[r]:\n",
    "                r -= 1\n",
    "            else:\n",
    "                l += 1\n",
    "            if height[l] > maxL:\n",
    "                maxL = height[l]\n",
    "            if height[r] > maxR: \n",
    "                maxR = height[r]\n",
    "\n",
    "        return trapped"
   ]
  },
  {
   "cell_type": "code",
   "execution_count": null,
   "metadata": {},
   "outputs": [],
   "source": [
    "# Group anagram\n",
    "class GA:\n",
    "    def groupAnagrams(self, strs: List[str]) -> List[List[str]]:\n",
    "        ans = []\n",
    "        categories = {}\n",
    "        table = [2, 3, 5, 7, 11, 13, 17, 19, 23, 29, 31, 37, 41, 43, 47, 53, 59, 61, 67, 71, 73, 79, 83, 89, 97, 101]\n",
    "        i = 0\n",
    "        \n",
    "        for word in strs:\n",
    "            num = 1\n",
    "            for c in word:\n",
    "                num *= table[ord(c) - 97]\n",
    "            if num in categories:\n",
    "                ans[categories[num]].append(word)\n",
    "            else:\n",
    "                categories[num] = i\n",
    "                ans.append([word])\n",
    "                i += 1\n",
    "        \n",
    "        return ans"
   ]
  },
  {
   "cell_type": "code",
   "execution_count": 180,
   "metadata": {},
   "outputs": [],
   "source": [
    "class PowXN:\n",
    "    def myPow(self, x: float, n: int) -> float:\n",
    "        if n == 0:\n",
    "            return 1\n",
    "        elif x == 0 and n < 0:\n",
    "            return float('inf')\n",
    "        elif x == 0:\n",
    "            return 0\n",
    "        elif n < 0:\n",
    "            x = 1/x\n",
    "            n = -n\n",
    "        \n",
    "        y = 1\n",
    "        while n > 1:\n",
    "            print(x,y, n)\n",
    "            if n % 2 == 1:\n",
    "                y = x * y\n",
    "            n //= 2\n",
    "            x = x * x\n",
    "        return x * y\n",
    "    \n",
    "x = PowXN()"
   ]
  },
  {
   "cell_type": "code",
   "execution_count": 181,
   "metadata": {},
   "outputs": [
    {
     "name": "stdout",
     "output_type": "stream",
     "text": [
      "2 1 10\n",
      "4 1 5\n",
      "16 4 2\n"
     ]
    },
    {
     "data": {
      "text/plain": [
       "1024"
      ]
     },
     "execution_count": 181,
     "metadata": {},
     "output_type": "execute_result"
    }
   ],
   "source": [
    "x.myPow(2,10)"
   ]
  },
  {
   "cell_type": "code",
   "execution_count": 16,
   "metadata": {},
   "outputs": [],
   "source": [
    "def test(nums): # assume that nums is non empty\n",
    "    left = 0\n",
    "    right = len(nums)\n",
    "    right_target= nums[right-1]\n",
    "    while left < right:\n",
    "        mid = (left + right)//2\n",
    "        print(left, mid, right)\n",
    "        if nums[mid] > right_target:\n",
    "            left = mid + 1\n",
    "        elif mid == 0 or nums[mid-1] > nums[mid]:\n",
    "            break\n",
    "        else:\n",
    "            right = mid\n",
    "    #print(left, mid, right)\n",
    "    return mid"
   ]
  },
  {
   "cell_type": "code",
   "execution_count": 17,
   "metadata": {
    "scrolled": false
   },
   "outputs": [
    {
     "name": "stdout",
     "output_type": "stream",
     "text": [
      "0 1 2\n",
      "0 0 1\n"
     ]
    },
    {
     "data": {
      "text/plain": [
       "0"
      ]
     },
     "execution_count": 17,
     "metadata": {},
     "output_type": "execute_result"
    }
   ],
   "source": [
    "test([1,3])"
   ]
  },
  {
   "cell_type": "code",
   "execution_count": null,
   "metadata": {},
   "outputs": [],
   "source": []
  }
 ],
 "metadata": {
  "kernelspec": {
   "display_name": "Python 3",
   "language": "python",
   "name": "python3"
  },
  "language_info": {
   "codemirror_mode": {
    "name": "ipython",
    "version": 3
   },
   "file_extension": ".py",
   "mimetype": "text/x-python",
   "name": "python",
   "nbconvert_exporter": "python",
   "pygments_lexer": "ipython3",
   "version": "3.6.5"
  }
 },
 "nbformat": 4,
 "nbformat_minor": 2
}
