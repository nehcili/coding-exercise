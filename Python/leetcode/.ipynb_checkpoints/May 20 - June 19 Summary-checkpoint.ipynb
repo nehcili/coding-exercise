{
 "cells": [
  {
   "cell_type": "markdown",
   "metadata": {},
   "source": [
    "# Summary of Techniques"
   ]
  },
  {
   "cell_type": "markdown",
   "metadata": {},
   "source": [
    "## Binary Search\n",
    "- Find First and Last Position of Element in Sorted Array\n",
    "    - find the left and right end index individually with a helper function\n",
    "- Search in Rotated Sorted Array\n",
    "    - find pivot first\n",
    "    - when finding pivot, use split = (nums[0] + nums[-1])/2. Since all nums are integers, split is never in nums\n",
    "- Search Insert Position"
   ]
  },
  {
   "cell_type": "markdown",
   "metadata": {},
   "source": [
    "## Dynamical Programming\n",
    "1. longest palindromic substring\n",
    "    - Use stack P[i][j] = True if s[i:j+1] is a palindrome else False\n",
    "    - First population P[i][i] and P[i][i+1]\n",
    "    - Then fill the rest by considering all substrings of length 3,4,5,...\n",
    "    - The other fast way is Manacher's algo\n",
    "2. longest valid paranthesis\n",
    "    - dp[i] = length of longest valid paranthesis upto and including position i\n",
    "    - do induction on dp[i]"
   ]
  },
  {
   "cell_type": "markdown",
   "metadata": {},
   "source": [
    "## Narrowing Window\n",
    "1. Container With Most Water\n",
    "    - This is O(n) by narrowing window.\n",
    "    - Initialize i = 0, j = len(height)-1. if height[i] < height[j]: i+= 1\\ else: j-= 1\n",
    "    - prove by indution it works\n",
    "2. Trapping Rain Water (greedy)\n",
    "    - need 2 pointers left and right\n",
    "    - need 2 values maxL and maxR (max height on the left and right as the pointers left and right move to narrow the window, we update then)\n",
    "    - initialize left = 0 and right = len(heights)-1, maxL = height[left], maxR = height[right]\n",
    "    - update trapped += maxL - height[l] + maxR - height[r]\n",
    "    - narrows the window by narrowing/moving the height with smaller height\n",
    "    - update maxL and maxR"
   ]
  },
  {
   "cell_type": "markdown",
   "metadata": {},
   "source": [
    "## Moving Window\n",
    "1. Remove Nth Node From End of List\n",
    "2. Minimum Window Substring\n",
    "    - use a dict to count all the characters in t and remain_missing to count characters in t\n",
    "    - first populate dict\n",
    "    - then go through s, dict[ch] -= 1 regardless of what character it is and remain_missing -= 1 if dict[ch] > 0\n",
    "    - when remain_missing == 0, throw away redundant ch to make shortest current substring"
   ]
  },
  {
   "cell_type": "markdown",
   "metadata": {},
   "source": [
    "## Slow and fast/Two pointers\n",
    "1. Remove Duplicates from Sorted Array\n",
    "    - one pointer is at the position where there is no duplicates before that pointer\n",
    "    - the other pointer look for unique entries"
   ]
  },
  {
   "cell_type": "markdown",
   "metadata": {},
   "source": [
    "## Sorting\n",
    "1. Merge Intervals\n",
    "    - sort the lower end point of the interval first\n",
    "    - use iteration and unpack each interval in res as a,b = res[-1]"
   ]
  },
  {
   "cell_type": "markdown",
   "metadata": {},
   "source": [
    "## Use of powers\n",
    "1. Divide Two Integers. Can do this log fast"
   ]
  },
  {
   "cell_type": "markdown",
   "metadata": {},
   "source": [
    "## Greedy\n",
    "1. Integer to Roman\n",
    "    - left to right, largest acceptable letter/pair (i.e. IX or IV) possible\n"
   ]
  },
  {
   "cell_type": "markdown",
   "metadata": {},
   "source": [
    "## Heap\n",
    "1. Merge k Sorted Lists (this is not as fast as using a dict)"
   ]
  },
  {
   "cell_type": "markdown",
   "metadata": {},
   "source": [
    "## Hashtable\n",
    "1. 2Sum\n",
    "    - can be done O(n)\n",
    "    - Store dict[target - num] = num\n",
    "2. 3Sum\n",
    "    - use 2Sum\n",
    "3. Merge k Sorted Lists\n",
    "    - use a table such that dict[node.val] = [head, tail] where head is the pointer to the linked list consisting of all node.val and tail is that last node in that linked list\n",
    "    - sort the table by value and concatenate tail to head\n",
    "4. Group Anagrams\n",
    "    - either use primes to encode the anagram class or use str(sorted(anagram_str))\n",
    "5. Minimum Window Substring (see moving window)\n",
    "6. Binary Tree Level Order Traversal\n",
    "7. Decode Ways (dynamical programming)\n",
    "    - use a dic = { str(i-64):chr(i) for i in range( ord('A'), ord('Z') + 1) }\n",
    "    - At position n, we need the number of ways to decode for positions n-1 and n-2 to compute the number of ways to decode at position n. This is implemented in DW2 as dp2 and dp1, respectively."
   ]
  },
  {
   "cell_type": "markdown",
   "metadata": {},
   "source": [
    "## Stack/Backtracking/Recursion\n",
    "1. Valid parantheses\n",
    "2. Word Search\n",
    "3. Wildcard Matching (don't need a stack, but can use pointers to be the \"stack\" in O(1) space)\n",
    "    - record the location where '*' is seen, then whenever no match is possible, return to '*''s position\n",
    "    - do not match '*' until have to, match all others first\n",
    "    \n",
    "-------------------------------\n",
    "Reviewed\n",
    "\n",
    "-------------------------------\n",
    "\n",
    "4. Basic Calculator II\n",
    "    - all multiplication and divition should be evaluated on the fly\n",
    "    - if you see +, add the num to stack, if you see - add -num to the stack\n",
    "    - then just sum the stack at the end   \n",
    "    - use 2 variables: 1 for operator and another for the current number\n",
    "5. Basic Calculator\n",
    "6. Kth Smallest Element in a BST. 2 solutions:\n",
    "    - recursion on helper(root, size), where helper(root, size) returns the pair (A, B) such that A = True if the kth smallest element is in root and this element's value is B or A = False and then B is the number of element in root\n",
    "    - nonrecursive solution uses a stack which contains (A, B) where A = current root and B = True = to explore and B= False = explored already and move on (i.e. size -= 1)\n",
    "7. Binary Tree Inorder Traversal\n",
    "    - recursive solution is trivial. Iterative solution is the same as kSEBST2. Both solution uses O(n) space\n",
    "    - Morris Traversal - if a root has a left child, put root as the right child of the right most child of root.left. time O(n) and space O(1)\n",
    "8. Validate Binary Search Tree: recursion on the tree and keep 2 local variable for upper and lower bound\n",
    "9. Populating Next Right Pointers in Each Node\n",
    "    - recursion on left and right subtree"
   ]
  },
  {
   "cell_type": "markdown",
   "metadata": {},
   "source": [
    "## Deque\n",
    "1. Binary Tree Zigzag Level Order Traversal"
   ]
  },
  {
   "cell_type": "markdown",
   "metadata": {},
   "source": [
    "## Binary Tree\n",
    "1. Binary Tree Level Order Traversal\n",
    "    - use a defaultdict to collect all the nods in a level\n",
    "    - use a local var level to indicate which level it is\n",
    "2. Binary Tree Zigzag Level Order Traversal\n",
    "    - use a deque"
   ]
  },
  {
   "cell_type": "markdown",
   "metadata": {},
   "source": [
    "## Graph Algo\n",
    "1. Word Ladder\n",
    "    - the idea is to \"use a currency instead of trading commodity\"\n",
    "    - all neighboring words can be one of word[:i] + '*' + word[i+1:]. This is the currency. We can use this because all words are the same length!\n",
    "    - make a dict to contain all the currencies."
   ]
  },
  {
   "cell_type": "markdown",
   "metadata": {},
   "source": [
    "## Global stack recursion\n",
    "Python executes this type of recursion very fast. For fast performance, do:\n",
    "- use of nonlocal variable if needed\n",
    "- when doing recursion on list, append current[:] at the end and do: current.append(...), recursion, current.pop()\n",
    "- use a global stack res = [] as a global variable\n",
    "\n",
    "Examples:\n",
    "</br>\n",
    "1. Letter Combinations of a Phone Number\n",
    "2. Permutations\n",
    "3. Combination Sum and Combination Sum II\n",
    "    - it is faster to divide the solution set by first letters than the very first element in candidates and the rest of the elements"
   ]
  },
  {
   "cell_type": "markdown",
   "metadata": {},
   "source": [
    "## Miscellaneous\n",
    "1. First Missing Positive\n",
    " - if the input list has size n, then the first missing positive integer is in {1,...,n}\n",
    " - the idea is to place the integer i at the i-1 th position should i be encountered while keeping all the original numbers in the list unmodified (they can be moved, but not modified). otherwise skip:\n",
    "     - if nums[i] is in {1,...,n}, check if nums[i] == nums[nums[i]-1], then continue, else, make this equality true by swapping nums[i] and nums[nums[i]-1]\n",
    " - the first slot where nums[i] != i+1 gives the first missing positive integer i\n",
    "2. Maximum Subarray\n",
    "    - if sum < 0, sum = nums[i]\n",
    "    - else sum += nums[i] and update max\n",
    "3. Pow(x,n)\n",
    "    - y = 1\n",
    "    - if n % 2 == 1: y =x *y; n //= 2; x = x ** 2\n",
    "4. Sort Colors\n",
    "    - can do 1 pass only since there are only 3 colors. If 2 colors are sorted, the last color is automatically sorted as well\n",
    "\n",
    "        "
   ]
  },
  {
   "cell_type": "markdown",
   "metadata": {},
   "source": [
    "## Problem Solving Techniques\n",
    "1. Never over kill things: if there is a powerful preprogrammed method to do many things and one of the thing is what you need. Don't use it, it slows down your code\n",
    "2. When the problem is very hard (i.e. container with most water), instead of coming up with a rigorous method. Try an intuitive solution and prove the solution works.\n",
    "3. For harder problems, you really have to explore and extract ALL of its properties\n",
    "4. When doing iteration/induction, make sure the next iteration is smaller in some measure so that the code terminates\n",
    "5. Make sure your if-elif-else statements are mutually exclusive\n",
    "6. It is faster to do if-elif-else, then to do if-else and leave the common case out at the end (see Sort Colors)"
   ]
  },
  {
   "cell_type": "markdown",
   "metadata": {},
   "source": [
    "## Coding style specific question\n",
    "1. Implement strStr() \n",
    "    - put if haystack[i] == needle[j] inside the while loop. ie. go stratigh into while loop then check agreement\n",
    "2. Find First and Last Position of Element in Sorted Array\n",
    "    - find each position individually using binary search\n",
    "3. Search in Rotated Sorted Array\n",
    "    - find pivot first\n",
    "4. 2Sum\n",
    "5. Sort Colors\n",
    "6. Wildcard Matching\n",
    "7. Basic Calculator and Basic Calculator II\n"
   ]
  },
  {
   "cell_type": "markdown",
   "metadata": {},
   "source": [
    "## Problem specific logic heavy/algorithm specific questions\n",
    "1. Maximum Subarray\n",
    "2. First Missing Positive\n",
    "3. Container With Most Water\n",
    "4. Trapping Rain Water\n",
    "5. Pow(x,n)\n",
    "6. Jump Game and Jump Game II\n",
    "7. Unique path (a closed form solution exists)\n",
    "8. Wildcard Matching\n",
    "9. Decode Ways\n",
    "10. Binary Tree Inorder Traversal\n",
    "    - nonrecursive solution: Morris Traversal - if a root has a left child, put root as the right child of the right most child of root.left. time O(n) and space O(1)\n",
    "11. Longest Palindromic Substring\n",
    "    - Manacher's algo"
   ]
  },
  {
   "cell_type": "code",
   "execution_count": null,
   "metadata": {},
   "outputs": [],
   "source": []
  }
 ],
 "metadata": {
  "kernelspec": {
   "display_name": "Python 3",
   "language": "python",
   "name": "python3"
  },
  "language_info": {
   "codemirror_mode": {
    "name": "ipython",
    "version": 3
   },
   "file_extension": ".py",
   "mimetype": "text/x-python",
   "name": "python",
   "nbconvert_exporter": "python",
   "pygments_lexer": "ipython3",
   "version": "3.6.5"
  }
 },
 "nbformat": 4,
 "nbformat_minor": 2
}
