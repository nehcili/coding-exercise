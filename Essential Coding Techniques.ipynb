{
 "cells": [
  {
   "cell_type": "markdown",
   "metadata": {},
   "source": [
    "# 4 Essential Techniques\n",
    "## 1. Sliding Window"
   ]
  },
  {
   "cell_type": "markdown",
   "metadata": {},
   "source": [
    "You are given a list of integers. Find the longest sublist with sum less or equal to n"
   ]
  },
  {
   "cell_type": "code",
   "execution_count": 4,
   "metadata": {},
   "outputs": [],
   "source": [
    "def maxLenSublistLessN(alist, N):\n",
    "    start = 0\n",
    "    end = 0\n",
    "    size = len(alist)\n",
    "    max_len = 0\n",
    "    cur_len = 0\n",
    "    cur_sum = 0\n",
    "    \n",
    "    while end < size:\n",
    "        cur_sum += alist[end]\n",
    "        cur_len += 1\n",
    "        end += 1\n",
    "        \n",
    "        if (cur_sum <= N) and (cur_len > max_len):\n",
    "            max_len = cur_len\n",
    "        \n",
    "        while cur_sum > N:\n",
    "            cur_sum -= alist[start]\n",
    "            cur_len -= 1\n",
    "            start += 1\n",
    "    \n",
    "    return max_len"
   ]
  },
  {
   "cell_type": "code",
   "execution_count": 13,
   "metadata": {},
   "outputs": [
    {
     "data": {
      "text/plain": [
       "1"
      ]
     },
     "execution_count": 13,
     "metadata": {},
     "output_type": "execute_result"
    }
   ],
   "source": [
    "maxLenSublistLessN([1,4,2],4)"
   ]
  },
  {
   "cell_type": "code",
   "execution_count": null,
   "metadata": {},
   "outputs": [],
   "source": []
  }
 ],
 "metadata": {
  "kernelspec": {
   "display_name": "Python 3",
   "language": "python",
   "name": "python3"
  },
  "language_info": {
   "codemirror_mode": {
    "name": "ipython",
    "version": 3
   },
   "file_extension": ".py",
   "mimetype": "text/x-python",
   "name": "python",
   "nbconvert_exporter": "python",
   "pygments_lexer": "ipython3",
   "version": "3.6.5"
  }
 },
 "nbformat": 4,
 "nbformat_minor": 2
}
