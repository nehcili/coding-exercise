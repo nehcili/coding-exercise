{
 "cells": [
  {
   "cell_type": "code",
   "execution_count": 1,
   "metadata": {},
   "outputs": [],
   "source": [
    "# 10.2 Group Anagrams: Write a method to sort an array of strings so that all the anagrams are next to\n",
    "# each other."
   ]
  },
  {
   "cell_type": "code",
   "execution_count": 30,
   "metadata": {},
   "outputs": [],
   "source": [
    "def make_anagram_dict(s):\n",
    "    ans = {}\n",
    "    \n",
    "    for c in s:\n",
    "        if c in ans:\n",
    "            ans[c] += 1\n",
    "        else:\n",
    "            ans[c] = 1\n",
    "    \n",
    "    return ans\n",
    "\n",
    "def is_equiv_to_anagram_dict(s, d):\n",
    "    s_dict = make_anagram_dict(s)\n",
    "    return s_dict == d\n",
    "\n",
    "def group_anagram(slist):\n",
    "    n = len(slist)\n",
    "    if n > 1:\n",
    "        current_class = make_anagram_dict(slist[0])\n",
    "        i = 1\n",
    "        \n",
    "    while i < n:\n",
    "        for j in range(i, n):\n",
    "            if is_equiv_to_anagram_dict(slist[j], current_class):\n",
    "                if i != j:\n",
    "                    slist[i], slist[j] = slist[j], slist[i]\n",
    "                i += 1\n",
    "        \n",
    "        if i < n:        \n",
    "            current_class = make_anagram_dict(slist[i])\n",
    "            i += 1"
   ]
  },
  {
   "cell_type": "code",
   "execution_count": 31,
   "metadata": {},
   "outputs": [],
   "source": [
    "def test():\n",
    "    x = ['abc', 'xxx', 'bca', 'xxx', 'bac', 'cab', 'xxx']\n",
    "    group_anagram(x)\n",
    "    print(x)\n",
    "    \n",
    "    x = ['1', '2', '3']\n",
    "    group_anagram(x)\n",
    "    print(x)\n",
    "    \n",
    "    x = ['a', 'a', 'a']\n",
    "    group_anagram(x)\n",
    "    print(x)\n",
    "    \n",
    "    x = ['a', 'a', 'a', 'b', 'b', 'a']\n",
    "    group_anagram(x)\n",
    "    print(x)\n",
    "    \n",
    "    x = ['a', 'a', 'a', 'b', 'b', 'a'] + ['abc', 'xxx', 'bca', 'xxx', 'bac', 'cab', 'xxx'] + ['a', 'a', 'a', 'b', 'b', 'a']\n",
    "    group_anagram(x)\n",
    "    print(x)"
   ]
  },
  {
   "cell_type": "code",
   "execution_count": 32,
   "metadata": {},
   "outputs": [
    {
     "name": "stdout",
     "output_type": "stream",
     "text": [
      "['abc', 'bca', 'bac', 'cab', 'xxx', 'xxx', 'xxx']\n",
      "['1', '2', '3']\n",
      "['a', 'a', 'a']\n",
      "['a', 'a', 'a', 'a', 'b', 'b']\n",
      "['a', 'a', 'a', 'a', 'a', 'a', 'a', 'a', 'bca', 'bac', 'cab', 'abc', 'xxx', 'xxx', 'xxx', 'b', 'b', 'b', 'b']\n"
     ]
    }
   ],
   "source": [
    "test()"
   ]
  },
  {
   "cell_type": "code",
   "execution_count": null,
   "metadata": {},
   "outputs": [],
   "source": []
  }
 ],
 "metadata": {
  "kernelspec": {
   "display_name": "Python 3",
   "language": "python",
   "name": "python3"
  },
  "language_info": {
   "codemirror_mode": {
    "name": "ipython",
    "version": 3
   },
   "file_extension": ".py",
   "mimetype": "text/x-python",
   "name": "python",
   "nbconvert_exporter": "python",
   "pygments_lexer": "ipython3",
   "version": "3.6.5"
  }
 },
 "nbformat": 4,
 "nbformat_minor": 2
}
