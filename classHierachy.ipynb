{
 "cells": [
  {
   "cell_type": "markdown",
   "metadata": {},
   "source": [
    "# Python Class Hierachy Practice\n",
    "\n",
    "The goal of the excercise is to write a class for logical circuits. The visual map of the hierachy is as follows:\n",
    "\n",
    "- LogicGate\n",
    "    - BinaryGate, a gate with 2 inputs/pins (is-a LogicGate)\n",
    "        - AndGate (is-a UnaryGate)\n",
    "        - XorGate (is-a UnaryGate)\n",
    "        - NandGate (is-a UnaryGate)\n",
    "        - NorGate (is-a UnaryGate)\n",
    "    - UnaryGate (is-a LogicGate)\n",
    "        - NotGate (is-a UnaryGate)\n",
    "        - TermGate, terminal gate for input (is-a UnaryGate)\n",
    "\n",
    "- Connector (has 2 LogicGates): this connects two LogicGates and faciliates signal propagation\n",
    "    "
   ]
  },
  {
   "cell_type": "markdown",
   "metadata": {},
   "source": [
    "## Parent LogicGate"
   ]
  },
  {
   "cell_type": "code",
   "execution_count": 1,
   "metadata": {},
   "outputs": [],
   "source": [
    "class LogicGate:\n",
    "    \n",
    "    def __init__(self, n):\n",
    "        self.label = n\n",
    "        self.output = None\n",
    "        \n",
    "    def getName(self):\n",
    "        return self.label\n",
    "    \n",
    "    def getOutput(self):\n",
    "        self.output = self.performGateLogic()\n",
    "        return self.output"
   ]
  },
  {
   "cell_type": "markdown",
   "metadata": {},
   "source": [
    "## Child Binary/UnaryGate"
   ]
  },
  {
   "cell_type": "code",
   "execution_count": 2,
   "metadata": {},
   "outputs": [],
   "source": [
    "class BinaryGate(LogicGate):\n",
    "    \n",
    "    def __init__(self, n):\n",
    "        LogicGate.__init__(self, n)\n",
    "        \n",
    "        self.pinA = None\n",
    "        self.pinB = None\n",
    "        \n",
    "    def getPinA(self):\n",
    "        if self.pinA == None:\n",
    "            return input(\"Enter Pin A input for gate \" + self.getName()+\"-->\")\n",
    "        else:\n",
    "            return self.pinA.getFrom().getOutput()\n",
    "    \n",
    "    def getPinB(self):\n",
    "        if self.pinB == None:\n",
    "            return input(\"Enter Pin B input for gate \" + self.getName()+\"-->\")\n",
    "        else:\n",
    "            return self.pinB.getFrom().getOutput()\n",
    "    \n",
    "    def setNextPin(self,source):\n",
    "        if self.pinA == None:\n",
    "            self.pinA = source\n",
    "        else:\n",
    "            if self.pinB == None:\n",
    "                self.pinB = source\n",
    "            else:\n",
    "                raise RuntimeError(\"Error: NO EMPTY PINS\")\n",
    "\n",
    "class UnaryGate(LogicGate):\n",
    "    \n",
    "    def __init__(self, n):\n",
    "        LogicGate.__init__(self, n)\n",
    "        \n",
    "        self.pin = None\n",
    "        \n",
    "    def getPin(self):\n",
    "        if self.pin == None:\n",
    "            return int(input('Enter Pin input for gate ' + self.getName() + ' -->'))\n",
    "        else:\n",
    "            return self.pin.getFrom().getOutput()\n",
    "    \n",
    "    def setNextPin(self,source):\n",
    "        if self.pin == None:\n",
    "            self.pin = source\n",
    "        else:\n",
    "            raise RuntimeError(\"Error: NO EMPTY PINS\")"
   ]
  },
  {
   "cell_type": "markdown",
   "metadata": {},
   "source": [
    "## Individual Specific gates\n",
    "These gates only reall need the performGateLogic() method to be specified. All other attributes/methods are recycled from the parents"
   ]
  },
  {
   "cell_type": "code",
   "execution_count": 3,
   "metadata": {},
   "outputs": [],
   "source": [
    "class AndGate(BinaryGate):\n",
    "    \n",
    "    def __init__(self, n):\n",
    "        BinaryGate.__init__(self, n)\n",
    "        \n",
    "    def performGateLogic(self):\n",
    "        \n",
    "        a = int(self.getPinA())\n",
    "        b = int(self.getPinB())\n",
    "        \n",
    "        #print(a)\n",
    "        #print(b)\n",
    "        #print((a==1) and (b==1))\n",
    "        return 1 if (a==1) and (b==1) else 0\n",
    "    \n",
    "class OrGate(BinaryGate):\n",
    "    \n",
    "    def __init__(self, n):\n",
    "        BinaryGate.__init__(self, n)\n",
    "        \n",
    "    def performGateLogic(self):\n",
    "        \n",
    "        a = int(self.getPinA())\n",
    "        b = int(self.getPinB())\n",
    "        \n",
    "        return 0 if (a==0) and (b==0) else 1\n",
    "    \n",
    "class NotGate(UnaryGate):\n",
    "    \n",
    "    def __init__(self, n):\n",
    "        UnaryGate.__init__(self, n)\n",
    "        \n",
    "    def performGateLogic(self):\n",
    "        \n",
    "        a = int(self.getPin())\n",
    "        \n",
    "        return 0 if a==1 else 1\n",
    "    \n",
    "class NandGate(BinaryGate):\n",
    "    \n",
    "    def __init__(self, n):\n",
    "        BinaryGate.__init__(self, n)\n",
    "        \n",
    "    def performGateLogic(self):\n",
    "        \n",
    "        a = int(self.getPinA())\n",
    "        b = int(self.getPinB())\n",
    "        \n",
    "        return 0 if (a==1) and (b==1) else 1\n",
    "\n",
    "class NorGate(BinaryGate):\n",
    "    \n",
    "    def __init__(self, n):\n",
    "        BinaryGate.__init__(self, n)\n",
    "        \n",
    "    def performGateLogic(self):\n",
    "        \n",
    "        a = int(self.getPinA())\n",
    "        b = int(self.getPinB())\n",
    "        \n",
    "        return 1 if (a==0) and (b==0) else 0\n",
    "\n",
    "class XorGate(BinaryGate):\n",
    "    \n",
    "    def __init__(self, n):\n",
    "        BinaryGate.__init__(self, n)\n",
    "        \n",
    "    def performGateLogic(self):\n",
    "        \n",
    "        a = int(self.getPinA())\n",
    "        b = int(self.getPinB())\n",
    "        \n",
    "        return 0 if a==b else 1\n",
    "\n",
    "class TermGate(UnaryGate):\n",
    "    \n",
    "    def __init__(self, n):\n",
    "        UnaryGate.__init__(self, n)\n",
    "        self.data = None\n",
    "        \n",
    "    def performGateLogic(self):\n",
    "        if self.data == None:\n",
    "            self.data = int(self.getPin())\n",
    "        \n",
    "        return self.data"
   ]
  },
  {
   "cell_type": "markdown",
   "metadata": {},
   "source": [
    "## Connector, connects 2 gates"
   ]
  },
  {
   "cell_type": "code",
   "execution_count": 4,
   "metadata": {},
   "outputs": [],
   "source": [
    "class Connector:\n",
    "\n",
    "    def __init__(self, fgate, tgate):\n",
    "        self.fromgate = fgate\n",
    "        self.togate = tgate\n",
    "\n",
    "        tgate.setNextPin(self)\n",
    "\n",
    "    def getFrom(self):\n",
    "        return self.fromgate\n",
    "\n",
    "    def getTo(self):\n",
    "        return self.togate"
   ]
  },
  {
   "cell_type": "markdown",
   "metadata": {},
   "source": [
    "## Simple example use gates are used to add 2 one-bit numbers\n",
    "The return is a list [S, C] where the answer of adding x + y is 2*C+S. Here C stands for carry"
   ]
  },
  {
   "cell_type": "code",
   "execution_count": 5,
   "metadata": {},
   "outputs": [],
   "source": [
    "def half_adder():\n",
    "    g1 = AndGate('And')\n",
    "    g2 = XorGate('Xor')\n",
    "    g3 = TermGate('Input 1')\n",
    "    g4 = TermGate('Input 2')\n",
    "    Connector(g3, g1)\n",
    "    Connector(g3, g2)\n",
    "    Connector(g4, g1)\n",
    "    Connector(g4, g2)\n",
    "    \n",
    "    C = g1.getOutput()\n",
    "    S = g2.getOutput()\n",
    "    \n",
    "    return [S, C]\n"
   ]
  },
  {
   "cell_type": "code",
   "execution_count": 76,
   "metadata": {},
   "outputs": [
    {
     "name": "stdout",
     "output_type": "stream",
     "text": [
      "Enter Pin input for gate Input 1 -->1\n",
      "Enter Pin input for gate Input 2 -->1\n"
     ]
    },
    {
     "data": {
      "text/plain": [
       "[0, 1]"
      ]
     },
     "execution_count": 76,
     "metadata": {},
     "output_type": "execute_result"
    }
   ],
   "source": [
    "half_adder()"
   ]
  },
  {
   "cell_type": "markdown",
   "metadata": {},
   "source": [
    "## Slightly more sophiscated 8-bit adder"
   ]
  },
  {
   "cell_type": "code",
   "execution_count": 14,
   "metadata": {},
   "outputs": [],
   "source": [
    "def eight_bit_adder():\n",
    "    l1gates = [[],[]]\n",
    "    l2gates = []\n",
    "    terms = [[], []]\n",
    "    ans = []\n",
    "    \n",
    "    for i in range(8):\n",
    "        terms[0].append(TermGate('{}-th bit of 1st number'.format(i)))\n",
    "        terms[1].append(TermGate('{}-th bit of 2nd number'.format(i)))\n",
    "        l1gates[0].append(XorGate('XorGate {}'.format(i)))\n",
    "        l1gates[1].append(AndGate('AndGate {}'.format(i)))\n",
    "        \n",
    "        for a in range(2):\n",
    "            for b in range(2):\n",
    "                Connector(terms[a][i], l1gates[b][i])\n",
    "    \n",
    "    ans.append(l1gates[0][0].getOutput())\n",
    "    \n",
    "    for i in range(7):\n",
    "        l2gates.append(XorGate('{}-th bit of outer later'.format(i)))\n",
    "        Connector(l1gates[1][i], l2gates[i])\n",
    "        Connector(l1gates[0][i+1], l2gates[i])\n",
    "    \n",
    "    for i in range(7):\n",
    "        ans.append(l2gates[i].getOutput())\n",
    "    \n",
    "    ans.append(l1gates[1][7].getOutput())\n",
    "    \n",
    "    return ans\n"
   ]
  },
  {
   "cell_type": "code",
   "execution_count": 25,
   "metadata": {},
   "outputs": [
    {
     "name": "stdout",
     "output_type": "stream",
     "text": [
      "Enter Pin input for gate 0-th bit of 1st number -->1\n",
      "Enter Pin input for gate 0-th bit of 2nd number -->1\n",
      "Enter Pin input for gate 1-th bit of 1st number -->1\n",
      "Enter Pin input for gate 1-th bit of 2nd number -->1\n",
      "Enter Pin input for gate 2-th bit of 1st number -->0\n",
      "Enter Pin input for gate 2-th bit of 2nd number -->0\n",
      "Enter Pin input for gate 3-th bit of 1st number -->0\n",
      "Enter Pin input for gate 3-th bit of 2nd number -->0\n",
      "Enter Pin input for gate 4-th bit of 1st number -->0\n",
      "Enter Pin input for gate 4-th bit of 2nd number -->0\n",
      "Enter Pin input for gate 5-th bit of 1st number -->0\n",
      "Enter Pin input for gate 5-th bit of 2nd number -->0\n",
      "Enter Pin input for gate 6-th bit of 1st number -->0\n",
      "Enter Pin input for gate 6-th bit of 2nd number -->0\n",
      "Enter Pin input for gate 7-th bit of 1st number -->0\n",
      "Enter Pin input for gate 7-th bit of 2nd number -->0\n",
      "6\n",
      "Enter Pin input for gate 0-th bit of 1st number -->1\n",
      "Enter Pin input for gate 0-th bit of 2nd number -->1\n",
      "Enter Pin input for gate 1-th bit of 1st number -->0\n",
      "Enter Pin input for gate 1-th bit of 2nd number -->0\n",
      "Enter Pin input for gate 2-th bit of 1st number -->0\n",
      "Enter Pin input for gate 2-th bit of 2nd number -->0\n",
      "Enter Pin input for gate 3-th bit of 1st number -->0\n",
      "Enter Pin input for gate 3-th bit of 2nd number -->0\n",
      "Enter Pin input for gate 4-th bit of 1st number -->0\n",
      "Enter Pin input for gate 4-th bit of 2nd number -->0\n",
      "Enter Pin input for gate 5-th bit of 1st number -->0\n",
      "Enter Pin input for gate 5-th bit of 2nd number -->0\n",
      "Enter Pin input for gate 6-th bit of 1st number -->0\n",
      "Enter Pin input for gate 6-th bit of 2nd number -->0\n",
      "Enter Pin input for gate 7-th bit of 1st number -->0\n",
      "Enter Pin input for gate 7-th bit of 2nd number -->0\n",
      "2\n"
     ]
    }
   ],
   "source": [
    "def lst_to_num(lst):\n",
    "    ans = 0\n",
    "    \n",
    "    for i in range(len(lst)):\n",
    "        ans += (2 ** i) * lst[i]\n",
    "    \n",
    "    return ans\n",
    "\n",
    "print(lst_to_num(eight_bit_adder()))\n",
    "print(lst_to_num(eight_bit_adder()))"
   ]
  }
 ],
 "metadata": {
  "kernelspec": {
   "display_name": "Python 3",
   "language": "python",
   "name": "python3"
  },
  "language_info": {
   "codemirror_mode": {
    "name": "ipython",
    "version": 3
   },
   "file_extension": ".py",
   "mimetype": "text/x-python",
   "name": "python",
   "nbconvert_exporter": "python",
   "pygments_lexer": "ipython3",
   "version": "3.6.5"
  }
 },
 "nbformat": 4,
 "nbformat_minor": 2
}
