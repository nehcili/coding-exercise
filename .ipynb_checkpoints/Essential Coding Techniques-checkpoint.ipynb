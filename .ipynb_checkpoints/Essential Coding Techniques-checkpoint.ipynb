{
 "cells": [
  {
   "cell_type": "markdown",
   "metadata": {},
   "source": [
    "# 4 Essential Techniques\n",
    "## 1. Sliding Window"
   ]
  },
  {
   "cell_type": "markdown",
   "metadata": {},
   "source": [
    "You are given a list of integers. Find the longest sublist with sum less or equal to n"
   ]
  },
  {
   "cell_type": "code",
   "execution_count": 4,
   "metadata": {},
   "outputs": [],
   "source": [
    "def maxLenSublistLessN(alist, N):\n",
    "    start = 0\n",
    "    end = 0\n",
    "    size = len(alist)\n",
    "    max_len = 0\n",
    "    cur_len = 0\n",
    "    cur_sum = 0\n",
    "    \n",
    "    while end < size:\n",
    "        cur_sum += alist[end]\n",
    "        cur_len += 1\n",
    "        end += 1\n",
    "        \n",
    "        if (cur_sum <= N) and (cur_len > max_len):\n",
    "            max_len = cur_len\n",
    "        \n",
    "        while cur_sum > N:\n",
    "            cur_sum -= alist[start]\n",
    "            cur_len -= 1\n",
    "            start += 1\n",
    "    \n",
    "    return max_len"
   ]
  },
  {
   "cell_type": "code",
   "execution_count": 13,
   "metadata": {},
   "outputs": [
    {
     "data": {
      "text/plain": [
       "1"
      ]
     },
     "execution_count": 13,
     "metadata": {},
     "output_type": "execute_result"
    }
   ],
   "source": [
    "maxLenSublistLessN([1,4,2],4)"
   ]
  },
  {
   "cell_type": "markdown",
   "metadata": {},
   "source": [
    "# 2. Nested Interval\n",
    "\n",
    "## 2.1 Merge Time Intervals\n",
    "\n",
    "Given a list of start and end times, return a a list of merged time\n",
    "eg. [[1, 6], [2, 8], [10, 20]] -> [[1, 8], [10, 20]]"
   ]
  },
  {
   "cell_type": "code",
   "execution_count": 59,
   "metadata": {},
   "outputs": [],
   "source": [
    "# mergeIntervals: list, list --> list (or None), bool\n",
    "# return 1) a merged list if mergable else return None\n",
    "# and 2) success of merging True = merged, False = not mergable\n",
    "# it is assumed a[0] <= b[0]\n",
    "def mergeIntervals(a,b):\n",
    "    if a == []:\n",
    "        return b, True\n",
    "    elif a[1] < b[0]:\n",
    "        return a, False\n",
    "    elif b[1] <= a[1]:\n",
    "        return a, True\n",
    "    else:\n",
    "        return [a[0], b[1]], True\n",
    "    \n",
    "\n",
    "def mergeIntervalList(alist):\n",
    "    intervals = sorted(alist, key=lambda lst: lst[0])\n",
    "    \n",
    "    stack = []\n",
    "    ans = []\n",
    "    \n",
    "    for interval in intervals:\n",
    "        stack, merged = mergeIntervals(stack, interval)\n",
    "        if not merged:\n",
    "            ans += [stack]\n",
    "            stack = interval\n",
    "    \n",
    "    ans += [stack]\n",
    "            \n",
    "    \n",
    "    return ans\n"
   ]
  },
  {
   "cell_type": "code",
   "execution_count": 60,
   "metadata": {},
   "outputs": [],
   "source": [
    "def test_mergeIntervals():\n",
    "    print(mergeIntervals([],[3,4]))\n",
    "    print(mergeIntervals([1,2],[3,4]))\n",
    "    print(mergeIntervals([1,3],[2,4]))\n",
    "    print(mergeIntervals([1,5],[3,4]))"
   ]
  },
  {
   "cell_type": "code",
   "execution_count": 61,
   "metadata": {},
   "outputs": [],
   "source": [
    "def test_mergeIntervalList():\n",
    "    print(mergeIntervalList([[1, 6], [2, 8], [10, 20]]))\n",
    "    print(mergeIntervalList([[1, 2], [2, 3], [3, 4]]))\n",
    "    print(mergeIntervalList([[1, 2], [2, 3], [3, 4], [0,1]]))\n",
    "    print(mergeIntervalList([[1, 2], [2, 3], [3, 4], [0,1], [5,9],[7,8]]))\n",
    "    print(mergeIntervalList([[100,101], [1, 2], [2, 3], [3, 4], [0,1], [5,9],[7,8]]))\n",
    "    print(mergeIntervalList([[10, 11], [100,101], [1, 2], [2, 3], [3, 4], [0,1], [5,9],[7,8]]))\n",
    "    print(mergeIntervalList([[100,101], [1, 102]]))"
   ]
  },
  {
   "cell_type": "code",
   "execution_count": 62,
   "metadata": {},
   "outputs": [
    {
     "name": "stdout",
     "output_type": "stream",
     "text": [
      "[[1, 8], [10, 20]]\n",
      "[[1, 4]]\n",
      "[[0, 4]]\n",
      "[[0, 4], [5, 9]]\n",
      "[[0, 4], [5, 9], [100, 101]]\n",
      "[[0, 4], [5, 9], [10, 11], [100, 101]]\n",
      "[[1, 102]]\n"
     ]
    }
   ],
   "source": [
    "test_mergeIntervalList()"
   ]
  },
  {
   "cell_type": "markdown",
   "metadata": {},
   "source": [
    "## 2.2 Binary Tree Serialization"
   ]
  },
  {
   "cell_type": "code",
   "execution_count": 84,
   "metadata": {},
   "outputs": [],
   "source": [
    "def isValidSerialization(preorder):\n",
    "    tokens = preorder.split(',')\n",
    "\n",
    "    stack = []\n",
    "\n",
    "    while tokens != []:\n",
    "        c = tokens.pop()\n",
    "        \n",
    "        if c == '#':\n",
    "            stack.append(c)\n",
    "        else:\n",
    "            if len(stack) < 2:\n",
    "                return False\n",
    "            \n",
    "            x = stack.pop()\n",
    "            y = stack.pop()\n",
    "            \n",
    "            if (x == '#') and (y == '#'):\n",
    "                stack.append('#')\n",
    "            else:\n",
    "                return False\n",
    "            \n",
    "    if stack == ['#']:\n",
    "        return True\n",
    "    else:\n",
    "        return False"
   ]
  },
  {
   "cell_type": "code",
   "execution_count": 85,
   "metadata": {},
   "outputs": [
    {
     "data": {
      "text/plain": [
       "True"
      ]
     },
     "execution_count": 85,
     "metadata": {},
     "output_type": "execute_result"
    }
   ],
   "source": [
    "isValidSerialization(\"9,3,4,#,#,1,#,#,2,#,6,#,#\")"
   ]
  },
  {
   "cell_type": "markdown",
   "metadata": {},
   "source": [
    "# 3. Recursion/Depth-First-Search (DFS)"
   ]
  },
  {
   "cell_type": "markdown",
   "metadata": {},
   "source": [
    "# 3.1 Find word in 2d grid"
   ]
  },
  {
   "cell_type": "markdown",
   "metadata": {},
   "source": [
    "Given a 2d grid, return whether if the input word exists in the grid. NSEW are allowed only"
   ]
  },
  {
   "cell_type": "code",
   "execution_count": 86,
   "metadata": {},
   "outputs": [],
   "source": [
    "# returns True if word is find starting at (x,y)\n",
    "# return False otherwise\n",
    "# if a word is found turns all the word\n",
    "def dfs_search(x, y, word, board, X, Y):\n",
    "    if word == '':\n",
    "        return True\n",
    "    elif (x < 0) or (x >= X) or (y >= Y) or (y < 0):\n",
    "        return False\n",
    "    elif board[x][y] != word[0]:\n",
    "        return False\n",
    "    else:\n",
    "        word = word[1:]\n",
    "        \n",
    "        board[x][y] += '_'\n",
    "        \n",
    "        ans = (dfs_search(x+1, y, word, board, X, Y)) or \\\n",
    "                (dfs_search(x, y+1, word, board, X, Y)) or \\\n",
    "                (dfs_search(x-1, y, word, board, X, Y)) or \\\n",
    "                (dfs_search(x, y-1, word, board, X, Y))\n",
    "        \n",
    "        board[x][y] = board[x][y][0]\n",
    "        \n",
    "        return ans \n",
    "        \n",
    "def hasWord(word, board):\n",
    "    X = len(board)\n",
    "    Y = len(board[0])\n",
    "    \n",
    "    for x in range(X):\n",
    "        for y in range(Y):\n",
    "            if dfs_search(x, y, word, board, X, Y):\n",
    "                return True\n",
    "    \n",
    "    return False"
   ]
  },
  {
   "cell_type": "code",
   "execution_count": 109,
   "metadata": {},
   "outputs": [],
   "source": [
    "def test_hasWord():\n",
    "    board1 = [['a', 'b','c'],['b', 'w', 'm'], ['l', 'e', 'o']]\n",
    "    print(board1, '\\nable', hasWord('able', board1))\n",
    "    \n",
    "    board1 = [['a', 'a','a'],['a', 'w', 'a'], ['a', 'a', 'a']]\n",
    "    print(board1, '\\naaaaaaaa', hasWord('aaaaaaaa', board1))\n",
    "    \n",
    "    board1 = [['a', 'a','a'],['a', 'w', 'a'], ['a', 'a', 'a']]\n",
    "    print(board1, '\\naaaaaaaaa', hasWord('aaaaaaaaa', board1))\n",
    "    \n",
    "    board1 = [['a', 'a','a'],['a', 'a', 'a'], ['a', 'a', 'a']]\n",
    "    print(board1, '\\naaaaaaaaa', hasWord('aaaaaaaaa', board1))\n",
    "    \n",
    "    board1 = [['a', 'a','a', 'x'],['a', 'a', 'a', 'y'], ['a', 'a', 'a', 'z'], ['a','a','b', 'a']]\n",
    "    print(board1, '\\nxyzab', hasWord('xyzab', board1))"
   ]
  },
  {
   "cell_type": "code",
   "execution_count": 110,
   "metadata": {},
   "outputs": [
    {
     "name": "stdout",
     "output_type": "stream",
     "text": [
      "[['a', 'b', 'c'], ['b', 'w', 'm'], ['l', 'e', 'o']] \n",
      "able True\n",
      "[['a', 'a', 'a'], ['a', 'w', 'a'], ['a', 'a', 'a']] \n",
      "aaaaaaaa True\n",
      "[['a', 'a', 'a'], ['a', 'w', 'a'], ['a', 'a', 'a']] \n",
      "aaaaaaaaa False\n",
      "[['a', 'a', 'a'], ['a', 'a', 'a'], ['a', 'a', 'a']] \n",
      "aaaaaaaaa True\n",
      "[['a', 'a', 'a', 'x'], ['a', 'a', 'a', 'y'], ['a', 'a', 'a', 'z'], ['a', 'a', 'b', 'a']] \n",
      "xyzab True\n"
     ]
    }
   ],
   "source": [
    "test_hasWord()"
   ]
  },
  {
   "cell_type": "markdown",
   "metadata": {},
   "source": [
    "## 3.2 Inversions in an Integer Array\n",
    "Given an integer array, count the number of inversions in it (number of inversions = smallest number of swaps in order to sort the array =  number of occurace of A[i] > A[j] but i < j)"
   ]
  },
  {
   "cell_type": "code",
   "execution_count": null,
   "metadata": {},
   "outputs": [],
   "source": []
  }
 ],
 "metadata": {
  "kernelspec": {
   "display_name": "Python 3",
   "language": "python",
   "name": "python3"
  },
  "language_info": {
   "codemirror_mode": {
    "name": "ipython",
    "version": 3
   },
   "file_extension": ".py",
   "mimetype": "text/x-python",
   "name": "python",
   "nbconvert_exporter": "python",
   "pygments_lexer": "ipython3",
   "version": "3.6.5"
  }
 },
 "nbformat": 4,
 "nbformat_minor": 2
}
