{
 "cells": [
  {
   "cell_type": "code",
   "execution_count": 37,
   "metadata": {},
   "outputs": [],
   "source": [
    "# The excercise:\n",
    "# A list of words is called circular if they can be arranged in an order such that,\n",
    "# 1) (except for the first word) for each word, its first letter is equal to the last\n",
    "#    letter of the word in front of it\n",
    "# 2) the last letter of the last word is equal to the first letter of the first word\n",
    "# Given a list of words, determine if it is circular.\n",
    "#\n",
    "# Idea of solution: \n",
    "# We note that if a list is circular, it doesn't matter which word is the first word\n",
    "\n",
    "class state(object):\n",
    "    def __init__(self, node, nbhd, rest):\n",
    "        self.node = node\n",
    "        self.nbhd = nbhd\n",
    "        self.rest = rest\n",
    "    \n",
    "    # removeNoneNb : self --> void\n",
    "    # removes all none neighbors in nbhd of node until a neighbor is seen\n",
    "    # starting at position nbhd[-1] and move to lower index\n",
    "    # a neighbor N to a node A is one such that\n",
    "    # A[-1] = N[0] i.e. first letter of N is last letter of A\n",
    "    def removeNoneNb(self):\n",
    "        while self.nbhd != []:\n",
    "            if self.node[-1] == self.nbhd[-1][0]:\n",
    "                break\n",
    "            self.nbhd.pop()\n",
    "\n",
    "    def nextNb(self):\n",
    "        self.removeNoneNb()\n",
    "        if self.nbhd != []:\n",
    "            return self.nbhd[-1]\n",
    "        else:\n",
    "            return False\n",
    "    \n",
    "    # popNextNb : self --> void\n",
    "    # remove all none neighbors of node in nbhd\n",
    "    # then pop the first neighbor seen\n",
    "    def popNextNb(self):\n",
    "        self.removeNoneNb()\n",
    "        if self.nbhd != []:\n",
    "            self.nbhd.pop()\n",
    "    \n",
    "    # removeFromRestAndCopy : self, str --> state\n",
    "    # removes ANode from self.rest\n",
    "    # make a copy of the result and returns it\n",
    "    def removeFromRestAndCopy(self, ANode):\n",
    "        n = self.rest[:]\n",
    "        n.remove(ANode)\n",
    "        return n\n",
    "    \n",
    "    # nextState : self --> state\n",
    "    # make a state that consists of\n",
    "    # (a, A, A')\n",
    "    # where a is the next negihbor in self.nbhd\n",
    "    # and A and A' are independent copies of self.rest\n",
    "    # with a removed from A\n",
    "    # if no next neighbor exists, return False\n",
    "    def nextState(self):\n",
    "        self.removeNoneNb()\n",
    "\n",
    "        if self.nbhd != []:\n",
    "            newNode = self.nbhd[-1]\n",
    "            self.nbhd.pop()\n",
    "            return state(newNode, \n",
    "                         self.removeFromRestAndCopy(newNode), \n",
    "                         self.removeFromRestAndCopy(newNode))\n",
    "        else:\n",
    "            return False\n",
    "    \n",
    "    # print_state : self --> void\n",
    "    # print the state\n",
    "    def print_state(self):\n",
    "        print(self.node)\n",
    "        print(self.nbhd)\n",
    "        print(self.rest)\n",
    "        print('a')\n",
    "\n",
    "# hasCircularWord : lst of string --> Bool\n",
    "# determine if lstOfStr has is circular\n",
    "def hasCircularWord(lstOfStr):\n",
    "    l = len(lstOfStr)\n",
    "    \n",
    "    # base case when the length of lstOfStr is 1\n",
    "    if l == 1:\n",
    "        if lstOfStr[0] == '':\n",
    "            return True\n",
    "        return lstOfStr[0][0] == lstOfStr[0][-1]\n",
    "\n",
    "    # initialize\n",
    "    lst = lstOfStr[:]\n",
    "    lst.remove(lstOfStr[-1])\n",
    "    lst2 = lst[:]\n",
    "    \n",
    "    # circle is the stack in which we do our checking/backtracking\n",
    "    # if circle is built with l individual states that form a cycle,\n",
    "    # then return True, else False\n",
    "    circle = [state(lstOfStr[-1], lst, lst2)]\n",
    "    i = 0 # current index of the circle\n",
    "    \n",
    "    #print(circle[0].print_state())\n",
    "\n",
    "    while circle != []:\n",
    "        \n",
    "        newNb = circle[i].nextNb()\n",
    "        # if there is a next neighbor\n",
    "        if newNb != False:\n",
    "            circle.append(circle[i].nextState())\n",
    "            i += 1\n",
    "        # if all elements of lst are exhasted and a last letter of last word\n",
    "        # is first letter of first word\n",
    "        elif (i == l-1) & (circle[-1].node[-1] == circle[0].node[0]):\n",
    "            return True\n",
    "        elif i == 0:\n",
    "            return False\n",
    "        # backtrack\n",
    "        else:\n",
    "            i -= 1\n",
    "            if circle[i].nextNb() != False:\n",
    "                circle[i].popNextNb()\n",
    "            else:\n",
    "                circle.pop()\n"
   ]
  },
  {
   "cell_type": "code",
   "execution_count": 38,
   "metadata": {},
   "outputs": [
    {
     "data": {
      "text/plain": [
       "False"
      ]
     },
     "execution_count": 38,
     "metadata": {},
     "output_type": "execute_result"
    }
   ],
   "source": [
    "hasCircularWord(['aa', 'ab', 'ba'])"
   ]
  },
  {
   "cell_type": "code",
   "execution_count": 19,
   "metadata": {},
   "outputs": [],
   "source": [
    "x = state(2,[2,3],[3,4])"
   ]
  },
  {
   "cell_type": "code",
   "execution_count": 20,
   "metadata": {},
   "outputs": [
    {
     "name": "stdout",
     "output_type": "stream",
     "text": [
      "2\n",
      "[2, 3]\n",
      "[3, 4]\n"
     ]
    }
   ],
   "source": [
    "x.print_state()"
   ]
  },
  {
   "cell_type": "code",
   "execution_count": null,
   "metadata": {},
   "outputs": [],
   "source": []
  }
 ],
 "metadata": {
  "kernelspec": {
   "display_name": "Python 3",
   "language": "python",
   "name": "python3"
  },
  "language_info": {
   "codemirror_mode": {
    "name": "ipython",
    "version": 3
   },
   "file_extension": ".py",
   "mimetype": "text/x-python",
   "name": "python",
   "nbconvert_exporter": "python",
   "pygments_lexer": "ipython3",
   "version": "3.6.5"
  }
 },
 "nbformat": 4,
 "nbformat_minor": 2
}
