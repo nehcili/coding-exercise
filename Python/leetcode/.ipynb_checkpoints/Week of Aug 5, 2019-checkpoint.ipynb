{
 "cells": [
  {
   "cell_type": "markdown",
   "metadata": {},
   "source": [
    "# Week of July 8, 2019\n",
    "## Focus of the week: \n",
    "- pencil and paper\n",
    "\n",
    "## Review:\n",
    "- Insert Delete GetRandom O(1)\n",
    "    - use an arr to do the random getting\n",
    "    - use a dict with val = entry and key = index in the arr\n",
    "- Next Permutation\n",
    "    - find the last element nums[i] such that nums[i] < nums[i+1]\n",
    "    - find the last j > i such that num[i] < nums[j]\n",
    "    - swap i and j element\n",
    "    - reverse nums[i+1:]\n",
    "    - a nice way to reverse a list is in # Coding style ## reverse list\n"
   ]
  },
  {
   "cell_type": "markdown",
   "metadata": {},
   "source": [
    "# Coding Style"
   ]
  },
  {
   "cell_type": "markdown",
   "metadata": {},
   "source": [
    "## Reverse list"
   ]
  },
  {
   "cell_type": "code",
   "execution_count": 1,
   "metadata": {},
   "outputs": [],
   "source": [
    "# reverse lst[start:end]\n",
    "# this way, you don't have to keep track of the annoying indices i.e. if you do lst[start+k], lst[end-k-1] = ...\n",
    "def reverse(lst, start, end): \n",
    "    while start < end:\n",
    "        lst[start], lst[end] = lst[end], lst[start]\n",
    "        start += 1\n",
    "        end -= 1\n",
    "        "
   ]
  },
  {
   "cell_type": "markdown",
   "metadata": {},
   "source": [
    "## July 6\n",
    "- Regular Expression Matching\n",
    "    - my code beats 100% of all other submissions.\n",
    "    - or use dynamical programing d[i][j] = 1 if p[:i] matches s[:j]"
   ]
  },
  {
   "cell_type": "code",
   "execution_count": 1,
   "metadata": {},
   "outputs": [],
   "source": [
    "class REM:\n",
    "    def isMatch(self, s: str, p: str) -> bool:\n",
    "        n, m =  len(p), len(s)\n",
    "        stars = []\n",
    "        i = j = 0\n",
    "        \n",
    "        if n == 0 and m > 0:\n",
    "            return False\n",
    "        \n",
    "        while j < m:\n",
    "            if i + 1 < n and p[i+1] == '*':\n",
    "                if p[i] == '.':\n",
    "                    stars = []\n",
    "                elif stars and p[i] == stars[-1][-1] and p[i] == s[j]:\n",
    "                    stars.pop()\n",
    "                    \n",
    "                if p[i] == s[j] or p[i] == '.':\n",
    "                    stars.append([i, j+1, p[i]])\n",
    "                i += 2\n",
    "            elif i < n and (p[i] == s[j] or p[i] == '.'):\n",
    "                i += 1\n",
    "                j += 1\n",
    "            elif stars:\n",
    "                if stars[-1][1] > m:\n",
    "                    stars.pop()\n",
    "                if stars:\n",
    "                    i, j, _ = stars.pop()\n",
    "                else:\n",
    "                    return False\n",
    "            else:\n",
    "                return False\n",
    "            #print(i, j, stars)\n",
    "        \n",
    "        while i + 1 < n and p[i+1] == '*':\n",
    "            i += 2\n",
    "        \n",
    "        if i < n:\n",
    "            return False\n",
    "        else:\n",
    "            return True\n",
    "        \n",
    "rem = REM()"
   ]
  },
  {
   "cell_type": "code",
   "execution_count": 3,
   "metadata": {},
   "outputs": [],
   "source": [
    "s = \"\"\"In January 2002, Tuzzo, Muscarella, and Gigante were indicted on federal racketeering, conspiracy and extortion charges. The Genovese family had gained control of International Longshoremen's Association (ILA) locals in New York, New Jersey, and Miami, Florida. They used this power to extort money from shipping container repair companies and other waterfront-related businesses.[3] Additional charges against the defendants also brought in evidence of extorting the Laborer International Union of North America, Teamsters Local 32B/J of the Building Services Workers Union and the Mason Tenders District Council of Greater New York. On April 7, 2003, Tuzzo pleaded guilty to extortion conspiracy. He was later sentenced to five years in prison.[1][3] Tuzzo was released from prison on February 2, 2006.[4] As part of his plea agreement, Tuzzo is prohibited from participating in the ILA or any waterfront-related business.\"\"\""
   ]
  },
  {
   "cell_type": "code",
   "execution_count": 5,
   "metadata": {},
   "outputs": [],
   "source": [
    "p = 'In .*'"
   ]
  },
  {
   "cell_type": "code",
   "execution_count": 6,
   "metadata": {},
   "outputs": [
    {
     "data": {
      "text/plain": [
       "True"
      ]
     },
     "execution_count": 6,
     "metadata": {},
     "output_type": "execute_result"
    }
   ],
   "source": [
    "rem.isMatch(s,p)"
   ]
  },
  {
   "cell_type": "code",
   "execution_count": null,
   "metadata": {},
   "outputs": [],
   "source": []
  }
 ],
 "metadata": {
  "kernelspec": {
   "display_name": "Python 3",
   "language": "python",
   "name": "python3"
  },
  "language_info": {
   "codemirror_mode": {
    "name": "ipython",
    "version": 3
   },
   "file_extension": ".py",
   "mimetype": "text/x-python",
   "name": "python",
   "nbconvert_exporter": "python",
   "pygments_lexer": "ipython3",
   "version": "3.6.5"
  }
 },
 "nbformat": 4,
 "nbformat_minor": 2
}
