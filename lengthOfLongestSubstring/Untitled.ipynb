{
 "cells": [
  {
   "cell_type": "code",
   "execution_count": 33,
   "metadata": {},
   "outputs": [],
   "source": [
    "\n",
    "# returns the index where the lst[start:end] has no repeatition\n",
    "# assuming lst has no repeated entries\n",
    "def check(lst, start, end, c):\n",
    "    i = start\n",
    "    \n",
    "    \n",
    "    \n",
    "    while i < end:\n",
    "        if lst[i] == c:\n",
    "            return i + 1\n",
    "        i += 1\n",
    "    \n",
    "    return start\n",
    "        \n",
    "\n",
    "def lengthOfLongestSubstring(s):\n",
    "    start , end = 0, 1\n",
    "    maxlen = 0\n",
    "    \n",
    "    try:\n",
    "        c = s[start]\n",
    "        maxlen = 1\n",
    "    except IndexError:\n",
    "        return maxlen\n",
    "    \n",
    "    while True:\n",
    "        try:\n",
    "            c = s[end]\n",
    "        except IndexError:\n",
    "            if end - start > maxlen:\n",
    "                maxlen = end - start\n",
    "            return maxlen\n",
    "        \n",
    "        new_start = check(s, start, end, c)\n",
    "        if new_start != start:\n",
    "            maxlen = end - start if (end - start) > maxlen else maxlen\n",
    "            start = new_start\n",
    "        \n",
    "        end += 1\n",
    "            \n",
    "            \n",
    "        "
   ]
  },
  {
   "cell_type": "code",
   "execution_count": 42,
   "metadata": {},
   "outputs": [],
   "source": [
    "def test_check():\n",
    "    print(check(\"abcdezg\", 2, 7, '1'))\n",
    "    print(lengthOfLongestSubstring('12345'))\n",
    "    print(lengthOfLongestSubstring('11111'))\n",
    "    print(lengthOfLongestSubstring('11211'))\n",
    "    print(lengthOfLongestSubstring('112123123412345'))"
   ]
  },
  {
   "cell_type": "code",
   "execution_count": 43,
   "metadata": {},
   "outputs": [
    {
     "name": "stdout",
     "output_type": "stream",
     "text": [
      "2\n",
      "5\n",
      "1\n",
      "2\n",
      "5\n"
     ]
    }
   ],
   "source": [
    "test_check()"
   ]
  },
  {
   "cell_type": "code",
   "execution_count": null,
   "metadata": {},
   "outputs": [],
   "source": []
  }
 ],
 "metadata": {
  "kernelspec": {
   "display_name": "Python 3",
   "language": "python",
   "name": "python3"
  },
  "language_info": {
   "codemirror_mode": {
    "name": "ipython",
    "version": 3
   },
   "file_extension": ".py",
   "mimetype": "text/x-python",
   "name": "python",
   "nbconvert_exporter": "python",
   "pygments_lexer": "ipython3",
   "version": "3.6.5"
  }
 },
 "nbformat": 4,
 "nbformat_minor": 2
}
