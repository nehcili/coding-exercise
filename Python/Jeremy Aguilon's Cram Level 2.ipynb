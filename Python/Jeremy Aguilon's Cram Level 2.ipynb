{
 "cells": [
  {
   "cell_type": "markdown",
   "metadata": {},
   "source": [
    "# 1 Range Sum Query Mutable \n",
    "Given a mutable array of integers, find the sum of elements between i and j"
   ]
  },
  {
   "cell_type": "code",
   "execution_count": 3,
   "metadata": {},
   "outputs": [],
   "source": [
    "class tree(object):\n",
    "    def __init__(self, l, r, cur_sum=0):\n",
    "        self.sum = cur_sum\n",
    "        self.l = l\n",
    "        self.r = r\n",
    "\n",
    "\n",
    "class NumArray(object):\n",
    "    def __init__(self, nums):\n",
    "        self.nums = nums\n",
    "        self.n = len(nums)\n",
    "        \n",
    "        def buildTree(l, r):\n",
    "            if l >= r:\n",
    "                return None\n",
    "            elif l == r-1:\n",
    "                return tree(None, None, cur_sum=nums[l])\n",
    "            else:\n",
    "                \n",
    "                mid = (l+r) // 2\n",
    "                \n",
    "                #print(l,mid,r)\n",
    "                lChild = buildTree(l, mid)\n",
    "                rChild = buildTree(mid, r)\n",
    "                cur_sum = lChild.sum + rChild.sum\n",
    "                return tree(lChild, rChild, cur_sum=cur_sum)\n",
    "            \n",
    "        self.tree = buildTree(0, self.n)\n",
    "        \n",
    "    def update_(self, i, diff, t, start, end):\n",
    "        if t != None:\n",
    "            t.sum += diff\n",
    "            mid = (start + end) // 2\n",
    "            \n",
    "            if i < mid:\n",
    "                self.update_(i, diff, t.l, start, mid)\n",
    "            else:\n",
    "                self.update_(i, diff, t.r, mid, end)\n",
    "    \n",
    "    def update(self, i, val):\n",
    "        self.update_(i, val - self.nums[i], self.tree, 0, self.n)\n",
    "        self.nums[i] = val\n",
    "\n",
    "\n",
    "    def sumRange(self, i, j):\n",
    "        def sumRange_(i, j, start, end, t):\n",
    "            ans = 0\n",
    "            mid = (start + end)//2\n",
    "            \n",
    "            if j <= i:\n",
    "                return 0\n",
    "            elif (i == start) and (j == end):\n",
    "                return t.sum\n",
    "            elif j < start:\n",
    "                return 0\n",
    "            elif i > end:\n",
    "                return 0\n",
    "            elif i < start:\n",
    "                return sumRange_(start, j, start, end, t)\n",
    "            elif j <= end:\n",
    "                mid = (start + end) // 2\n",
    "                #print(start, mid, end)\n",
    "                return sumRange_(i, j, start, mid, t.l) + sumRange_(i, j, mid, end, t.r)\n",
    "            else:\n",
    "                return sumRange_(i, end, start, end, t)\n",
    "        \n",
    "        return sumRange_(i, j+1, 0, self.n, self.tree)"
   ]
  },
  {
   "cell_type": "code",
   "execution_count": 4,
   "metadata": {},
   "outputs": [
    {
     "name": "stdout",
     "output_type": "stream",
     "text": [
      "7\n",
      "7\n",
      "True\n",
      "True\n",
      "True\n",
      "True\n",
      "True\n",
      "2\n",
      "2\n",
      "True\n",
      "True\n",
      "True\n",
      "True\n",
      "True\n"
     ]
    }
   ],
   "source": [
    "y = [7,2,7,2,0]\n",
    "x = NumArray([7,2,7,2,0])\n",
    "#for i in range(x.n):\n",
    "#    print(x.sumRange(0,i) == sum(y[0:i+1]))\n",
    "\n",
    "print(x.tree.l.l.sum)\n",
    "\n",
    "x.update(4,6)\n",
    "y = [7,2,7,2,6]\n",
    "#for i in range(x.n):\n",
    "#    print(x.sumRange(0,i) == sum(y[0:i+1]))\n",
    "\n",
    "print(x.tree.l.l.sum)\n",
    "    \n",
    "x.update(0,2)\n",
    "y = [2,2,7,2,6]\n",
    "for i in range(x.n):\n",
    "    print(x.sumRange(0,i) == sum(y[0:i+1]))\n",
    "\n",
    "print(x.tree.l.l.sum)\n",
    "    \n",
    "x.update(0,9)\n",
    "print(x.tree.r.r.l.sum)\n",
    "y = [9,2,7,2,6]\n",
    "for i in range(x.n):\n",
    "    print(x.sumRange(0,i) == sum(y[0:i+1]))"
   ]
  },
  {
   "cell_type": "markdown",
   "metadata": {},
   "source": [
    "# 2. Task Scheduler \n",
    "Given a char array representing tasks CPU need to do. It contains capital letters A to Z where different letters represent different tasks. Tasks could be done without original order. Each task could be done in one interval. For each interval, CPU could finish one task or just be idle.\n",
    "\n",
    "However, there is a non-negative cooling interval n that means between two same tasks, there must be at least n intervals that CPU are doing different tasks or just be idle.\n",
    "\n",
    "You need to return the least number of intervals the CPU will take to finish all the given tasks."
   ]
  },
  {
   "cell_type": "code",
   "execution_count": 118,
   "metadata": {},
   "outputs": [],
   "source": [
    "# version 1\n",
    "class Solution1(object):\n",
    "    import heapq\n",
    "    \n",
    "    def leastInterval(self, tasks, n):\n",
    "        n += 1\n",
    "        temp = {}\n",
    "        num_task = len(tasks)\n",
    "        \n",
    "        for task in tasks:\n",
    "            if task in temp:\n",
    "                temp[task] += 1\n",
    "            else:\n",
    "                temp[task] = 1\n",
    "        \n",
    "        pq = []\n",
    "        for task in temp:\n",
    "            heapq.heappush(pq, (-temp[task], task))\n",
    "        \n",
    "        total_count = 0\n",
    "        queue = []\n",
    "        \n",
    "        while num_task > 0:\n",
    "            #print(total_count, pq, \" :: \", queue)\n",
    "            \n",
    "        \n",
    "            if len(queue) >= n:\n",
    "                temp = queue.pop(0)\n",
    "                if temp:\n",
    "                    heapq.heappush(pq, temp)\n",
    "                \n",
    "            if pq == []:\n",
    "                queue.append(None)\n",
    "            else:\n",
    "                count, task = heapq.heappop(pq)\n",
    "                if count + 1 < 0:\n",
    "                    queue.append((count+1, task))\n",
    "                else:\n",
    "                    queue.append(None)\n",
    "                num_task -= 1\n",
    "                \n",
    "            total_count += 1\n",
    "            \n",
    "            #print(total_count, pq, \" :: \", queue, '\\n')\n",
    "        \n",
    "        return total_count\n",
    "            \n",
    "            \n",
    "\n"
   ]
  },
  {
   "cell_type": "code",
   "execution_count": 121,
   "metadata": {},
   "outputs": [],
   "source": [
    "x = Solution1()\n",
    "y = x.leastInterval([\"A\", \"B\", \"C\", \"D\", \"E\", \"A\"], 3)"
   ]
  },
  {
   "cell_type": "code",
   "execution_count": 122,
   "metadata": {},
   "outputs": [
    {
     "data": {
      "text/plain": [
       "6"
      ]
     },
     "execution_count": 122,
     "metadata": {},
     "output_type": "execute_result"
    }
   ],
   "source": [
    "y"
   ]
  },
  {
   "cell_type": "code",
   "execution_count": 136,
   "metadata": {},
   "outputs": [],
   "source": [
    "# version 2\n",
    "class Solution2(object):\n",
    "    import heapq\n",
    "    \n",
    "    def leastInterval(self, tasks, n):\n",
    "        n += 1\n",
    "        temp = {}\n",
    "        num_task = len(tasks)\n",
    "        \n",
    "        for task in tasks:\n",
    "            if task in temp:\n",
    "                temp[task] += 1\n",
    "            else:\n",
    "                temp[task] = 1\n",
    "        \n",
    "        pq = []\n",
    "        for task in temp:\n",
    "            heapq.heappush(pq, (-temp[task], task))\n",
    "        \n",
    "        total_count = 0\n",
    "        \n",
    "        while num_task > 0:\n",
    "            dos = min(len(pq), n)\n",
    "            \n",
    "            #print(pq)\n",
    "            \n",
    "            temp = []\n",
    "            for i in range(dos):\n",
    "                count, task = heapq.heappop(pq)\n",
    "                if count < -1:\n",
    "                    temp.append((count+1, task))\n",
    "            \n",
    "            while temp != []:\n",
    "                heapq.heappush(pq, temp.pop())\n",
    "            \n",
    "            if num_task > dos:\n",
    "                total_count += n\n",
    "                num_task -= dos\n",
    "            else:\n",
    "                return total_count + dos       \n",
    "            \n",
    "            \n",
    "            \n",
    "\n"
   ]
  },
  {
   "cell_type": "code",
   "execution_count": 137,
   "metadata": {},
   "outputs": [
    {
     "name": "stdout",
     "output_type": "stream",
     "text": [
      "[(-2, 'A'), (-1, 'B'), (-1, 'C'), (-1, 'D'), (-1, 'E')]\n",
      "[(-1, 'A'), (-1, 'E')]\n",
      "6\n"
     ]
    }
   ],
   "source": [
    "x = Solution2()\n",
    "print(x.leastInterval([\"A\", \"B\", \"C\", \"D\", \"E\", \"A\"], 3))"
   ]
  },
  {
   "cell_type": "markdown",
   "metadata": {},
   "source": [
    "# 3. Non-overlapping Intervals\n",
    "Given a collection of intervals, find the minimum number of intervals you need to remove to make the rest of the intervals non-overlapping."
   ]
  },
  {
   "cell_type": "code",
   "execution_count": 36,
   "metadata": {},
   "outputs": [],
   "source": [
    "# Definition for an interval.\n",
    "class Interval(object):\n",
    "    def __init__(self, s=0, e=0):\n",
    "        self.start = s\n",
    "        self.end = e\n",
    "\n",
    "class Solution(object):\n",
    "    def eraseOverlapIntervals(self, intervals):\n",
    "        n = len(intervals)\n",
    "        \n",
    "        intervals = sorted(intervals, key=lambda x : x.end)\n",
    "        \n",
    "        ans = []\n",
    "        \n",
    "        while intervals != []:\n",
    "            x = intervals.pop()\n",
    "            \n",
    "            while intervals != []:\n",
    "                y = intervals.pop()\n",
    "                if y.end == x.end:\n",
    "                    if y.start > x.start:\n",
    "                        x = y\n",
    "                elif y.start > x.start:\n",
    "                    x = y\n",
    "                elif y.end <= x.start:\n",
    "                    intervals.append(y)\n",
    "                    break\n",
    "            \n",
    "            ans.append(x)\n",
    "                \n",
    " \n",
    "        \n",
    "        return n - len(ans)\n",
    "        "
   ]
  },
  {
   "cell_type": "code",
   "execution_count": 37,
   "metadata": {},
   "outputs": [],
   "source": [
    "x = Solution()\n",
    "y = x.eraseOverlapIntervals([Interval(1,5), Interval(3,4), Interval(0,1)])"
   ]
  },
  {
   "cell_type": "code",
   "execution_count": 38,
   "metadata": {},
   "outputs": [
    {
     "data": {
      "text/plain": [
       "1"
      ]
     },
     "execution_count": 38,
     "metadata": {},
     "output_type": "execute_result"
    }
   ],
   "source": [
    "y"
   ]
  },
  {
   "cell_type": "code",
   "execution_count": null,
   "metadata": {},
   "outputs": [],
   "source": []
  }
 ],
 "metadata": {
  "kernelspec": {
   "display_name": "Python 3",
   "language": "python",
   "name": "python3"
  },
  "language_info": {
   "codemirror_mode": {
    "name": "ipython",
    "version": 3
   },
   "file_extension": ".py",
   "mimetype": "text/x-python",
   "name": "python",
   "nbconvert_exporter": "python",
   "pygments_lexer": "ipython3",
   "version": "3.6.5"
  }
 },
 "nbformat": 4,
 "nbformat_minor": 2
}
