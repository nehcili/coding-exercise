{
 "cells": [
  {
   "cell_type": "markdown",
   "metadata": {},
   "source": [
    "# Week of July 22 and 29, 2019\n",
    "## Focus of the week: \n",
    "- 3 days graph\n",
    "- 3 days bit manipulation\n",
    "\n",
    "## Review:\n",
    "Graph\n",
    "- Evaluate Division\n",
    "- Regions Cut By Slashes\n",
    "    - do this with DSU/union find\n",
    "- Redundant Connection\n",
    "\n",
    "## Notes:\n",
    "- Learn union-find\n"
   ]
  },
  {
   "cell_type": "markdown",
   "metadata": {},
   "source": [
    "### July 23, 2019\n",
    "- Evaluate Division\n",
    "    - Make a trees of N+1 elements with one \"center\" of degree N and all other nodes are leaves"
   ]
  },
  {
   "cell_type": "code",
   "execution_count": 50,
   "metadata": {},
   "outputs": [],
   "source": [
    "class ED:\n",
    "    def calcEquation(self, equations, values, queries):\n",
    "        def InsertToGraph(G, equation, value):\n",
    "            x, y = equation\n",
    "            \n",
    "            if x == y:\n",
    "                return True if x in G else False\n",
    "            elif x in G:\n",
    "                G[y] = G[x] / value\n",
    "                return True\n",
    "            elif y in G:\n",
    "                G[x] = G[y] * value\n",
    "                return True\n",
    "            else:\n",
    "                return False\n",
    "        \n",
    "        def MergeGraphs(G1, G2, equation):\n",
    "            x, y = equation\n",
    "            \n",
    "            if G2[x] != 0:\n",
    "                ratio = G1[x] / G2[x]\n",
    "            else:\n",
    "                ratio = G1[y] / G2[y]\n",
    "                \n",
    "            for vertex in G2:\n",
    "                G1[vertex] = G2[vertex] * ratio\n",
    "            \n",
    "            return\n",
    "            \n",
    "        n = len(equations)\n",
    "        G = []\n",
    "        i = 0\n",
    "        while i < n:\n",
    "            inserted = -1\n",
    "            equation, value = equations[i], values[i]\n",
    "            for j in range(len(G)):\n",
    "                if InsertToGraph(G[j], equation, value):\n",
    "                    if inserted > -1:\n",
    "                        MergeGraphs(G[inserted], G[j], equation)\n",
    "                        G.pop(j)\n",
    "                        break\n",
    "                    inserted = j\n",
    "            i += 1\n",
    "            \n",
    "            if inserted == -1:\n",
    "                x, y = equation\n",
    "                G.append({y: 1, x: value})\n",
    "        \n",
    "        res = []\n",
    "        for x, y in queries:\n",
    "            res.append(-1)\n",
    "            for g in G:\n",
    "                if x in g and y in g:\n",
    "                    res.pop()\n",
    "                    if x == y:\n",
    "                        res.append(2*int(g[x] != 0)-1)\n",
    "                    else:\n",
    "                        res.append(g[x] / g[y])\n",
    "                    break\n",
    "        \n",
    "        return res"
   ]
  },
  {
   "cell_type": "code",
   "execution_count": 47,
   "metadata": {},
   "outputs": [],
   "source": [
    "x = ED()"
   ]
  },
  {
   "cell_type": "code",
   "execution_count": 49,
   "metadata": {},
   "outputs": [
    {
     "data": {
      "text/plain": [
       "[6.0, 0.5, -1, 1, -1]"
      ]
     },
     "execution_count": 49,
     "metadata": {},
     "output_type": "execute_result"
    }
   ],
   "source": [
    "x.calcEquation([[\"a\",\"b\"],[\"b\",\"c\"]], [2.0,3.0], [[\"a\",\"c\"],[\"b\",\"a\"],[\"a\",\"e\"],[\"a\",\"a\"],[\"x\",\"x\"]])"
   ]
  },
  {
   "cell_type": "markdown",
   "metadata": {},
   "source": [
    "### July 29, 2019\n",
    "- Regions Cut By Slashes\n",
    "    - read DSU/union find\n",
    "- Redundant Connection"
   ]
  },
  {
   "cell_type": "code",
   "execution_count": 70,
   "metadata": {},
   "outputs": [],
   "source": [
    "# Regions Cut By Slashes\n",
    "class RCBS:\n",
    "    def regionsBySlashes(self, grid) -> int:\n",
    "        self.n = len(grid)\n",
    "        self.grid = [list(s) for s in grid]\n",
    "        \n",
    "\n",
    "        res = 0\n",
    "        for i in range(self.n):\n",
    "            for j in range(self.n):\n",
    "                if self.grid[i][j][0] != '*':\n",
    "                    self.FillComponent(i, j, 'r')\n",
    "                    res += 1\n",
    "                #print(self.grid)\n",
    "                if self.grid[i][j][-1] != '*':\n",
    "                    self.FillComponent(i, j, 'l')\n",
    "                    res += 1\n",
    "                #print(self.grid)\n",
    "        \n",
    "        return res\n",
    "    \n",
    "    def FillComponent(self, i, j, direction):\n",
    "        #print(i,j,direction,self.grid)\n",
    "        if i < 0 or j < 0 or i > self.n-1 or j > self.n-1 or self.grid[i][j] == '*':\n",
    "            return \n",
    "        elif self.grid[i][j] == '*\\\\' and (direction == 'u' or direction == 'r'):\n",
    "            return \n",
    "        elif self.grid[i][j] == '\\\\*' and (direction == 'l' or direction == 'd'):\n",
    "            return \n",
    "        elif self.grid[i][j] == '/*' and (direction == 'u' or direction == 'l'):\n",
    "            return \n",
    "        elif self.grid[i][j] == '*/' and (direction == 'r' or direction == 'd'):\n",
    "            return \n",
    "        elif self.grid[i][j] == '*/*' or self.grid[i][j] == '*\\\\*':\n",
    "            return \n",
    "\n",
    "        \n",
    "\n",
    "        if self.grid[i][j] == ' ':\n",
    "            self.grid[i][j] = '*'\n",
    "            self.FillComponent(i-1, j, 'u')\n",
    "            self.FillComponent(i+1, j, 'd')\n",
    "            self.FillComponent(i, j+1, 'r')\n",
    "            self.FillComponent(i, j-1, 'l')\n",
    "        elif '\\\\' in self.grid[i][j]:\n",
    "            if direction == 'u' or direction == 'r':\n",
    "                self.grid[i][j] = '*' + self.grid[i][j]\n",
    "                self.FillComponent(i+1, j, 'd')\n",
    "                self.FillComponent(i, j-1, 'l')\n",
    "            else:\n",
    "                self.grid[i][j] = self.grid[i][j] + '*'\n",
    "                self.FillComponent(i-1, j, 'u')\n",
    "                self.FillComponent(i, j+1, 'r')\n",
    "        else: # '/' in self.grid\n",
    "            if direction == 'd' or direction == 'r':\n",
    "                self.grid[i][j] = '*' + self.grid[i][j]\n",
    "                self.FillComponent(i-1, j, 'u')\n",
    "                self.FillComponent(i, j-1, 'l')\n",
    "            else: # l or u\n",
    "                self.grid[i][j] = self.grid[i][j] + '*'\n",
    "                self.FillComponent(i+1, j, 'd')\n",
    "                self.FillComponent(i, j+1, 'r')\n",
    "\n",
    "                    \n",
    "x = RCBS()              "
   ]
  },
  {
   "cell_type": "code",
   "execution_count": 1,
   "metadata": {},
   "outputs": [],
   "source": [
    "# Redundant Connection\n",
    "class RC:\n",
    "    def find(self, x):\n",
    "        if self.p[x] != x:\n",
    "            self.p[x] = self.find(self.p[x])\n",
    "        return self.p[x]\n",
    "        \n",
    "    def findRedundantConnection(self, edges):\n",
    "        n = len(edges)\n",
    "        self.p = list(range(n))\n",
    "        self.rank = [0] * n\n",
    "        \n",
    "        res = []\n",
    "        for e in edges:\n",
    "            xr = self.find(e[0]-1)\n",
    "            yr = self.find(e[1]-1)\n",
    "            if xr == yr:\n",
    "                res = e\n",
    "            elif self.rank[xr] < self.rank[yr]:\n",
    "                self.p[xr] = yr\n",
    "            elif self.rank[xr] > self.rank[yr]:\n",
    "                self.p[yr] = xr\n",
    "            else:\n",
    "                self.p[xr] = yr\n",
    "                self.rank[yr] += 1.\n",
    "                \n",
    "        \n",
    "        return res\n",
    "        "
   ]
  },
  {
   "cell_type": "markdown",
   "metadata": {},
   "source": [
    "### July 31, 2019\n",
    "- Clone Graph\n",
    "    - DFS + hashtable"
   ]
  },
  {
   "cell_type": "code",
   "execution_count": null,
   "metadata": {},
   "outputs": [],
   "source": []
  }
 ],
 "metadata": {
  "kernelspec": {
   "display_name": "Python 3",
   "language": "python",
   "name": "python3"
  },
  "language_info": {
   "codemirror_mode": {
    "name": "ipython",
    "version": 3
   },
   "file_extension": ".py",
   "mimetype": "text/x-python",
   "name": "python",
   "nbconvert_exporter": "python",
   "pygments_lexer": "ipython3",
   "version": "3.6.5"
  }
 },
 "nbformat": 4,
 "nbformat_minor": 2
}
