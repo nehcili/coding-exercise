{
 "cells": [
  {
   "cell_type": "markdown",
   "metadata": {},
   "source": [
    "# 4 Essential Techniques\n",
    "## 1. Sliding Window"
   ]
  },
  {
   "cell_type": "markdown",
   "metadata": {},
   "source": [
    "You are given a list of integers. Find the longest sublist with sum less or equal to n"
   ]
  },
  {
   "cell_type": "code",
   "execution_count": 1,
   "metadata": {},
   "outputs": [],
   "source": [
    "def maxLenSublistLessN(alist, N):\n",
    "    start = 0\n",
    "    end = 0\n",
    "    size = len(alist)\n",
    "    max_len = 0\n",
    "    cur_len = 0\n",
    "    cur_sum = 0\n",
    "    \n",
    "    while end < size:\n",
    "        cur_sum += alist[end]\n",
    "        cur_len += 1\n",
    "        end += 1\n",
    "        \n",
    "        if (cur_sum <= N) and (cur_len > max_len):\n",
    "            max_len = cur_len\n",
    "        \n",
    "        while cur_sum > N:\n",
    "            cur_sum -= alist[start]\n",
    "            cur_len -= 1\n",
    "            start += 1\n",
    "    \n",
    "    return max_len"
   ]
  },
  {
   "cell_type": "code",
   "execution_count": 2,
   "metadata": {},
   "outputs": [
    {
     "data": {
      "text/plain": [
       "1"
      ]
     },
     "execution_count": 2,
     "metadata": {},
     "output_type": "execute_result"
    }
   ],
   "source": [
    "maxLenSublistLessN([1,4,2],4)"
   ]
  },
  {
   "cell_type": "markdown",
   "metadata": {},
   "source": [
    "# 2. Nested Interval\n",
    "\n",
    "## 2.1 Merge Time Intervals\n",
    "\n",
    "Given a list of start and end times, return a a list of merged time\n",
    "eg. [[1, 6], [2, 8], [10, 20]] -> [[1, 8], [10, 20]]"
   ]
  },
  {
   "cell_type": "code",
   "execution_count": 3,
   "metadata": {},
   "outputs": [],
   "source": [
    "# mergeIntervals: list, list --> list (or None), bool\n",
    "# return 1) a merged list if mergable else return None\n",
    "# and 2) success of merging True = merged, False = not mergable\n",
    "# it is assumed a[0] <= b[0]\n",
    "def mergeIntervals(a,b):\n",
    "    if a == []:\n",
    "        return b, True\n",
    "    elif a[1] < b[0]:\n",
    "        return a, False\n",
    "    elif b[1] <= a[1]:\n",
    "        return a, True\n",
    "    else:\n",
    "        return [a[0], b[1]], True\n",
    "    \n",
    "\n",
    "def mergeIntervalList(alist):\n",
    "    intervals = sorted(alist, key=lambda lst: lst[0])\n",
    "    \n",
    "    stack = []\n",
    "    ans = []\n",
    "    \n",
    "    for interval in intervals:\n",
    "        stack, merged = mergeIntervals(stack, interval)\n",
    "        if not merged:\n",
    "            ans += [stack]\n",
    "            stack = interval\n",
    "    \n",
    "    ans += [stack]\n",
    "            \n",
    "    \n",
    "    return ans\n"
   ]
  },
  {
   "cell_type": "code",
   "execution_count": 4,
   "metadata": {},
   "outputs": [],
   "source": [
    "def test_mergeIntervals():\n",
    "    print(mergeIntervals([],[3,4]))\n",
    "    print(mergeIntervals([1,2],[3,4]))\n",
    "    print(mergeIntervals([1,3],[2,4]))\n",
    "    print(mergeIntervals([1,5],[3,4]))"
   ]
  },
  {
   "cell_type": "code",
   "execution_count": 5,
   "metadata": {},
   "outputs": [],
   "source": [
    "def test_mergeIntervalList():\n",
    "    print(mergeIntervalList([[1, 6], [2, 8], [10, 20]]))\n",
    "    print(mergeIntervalList([[1, 2], [2, 3], [3, 4]]))\n",
    "    print(mergeIntervalList([[1, 2], [2, 3], [3, 4], [0,1]]))\n",
    "    print(mergeIntervalList([[1, 2], [2, 3], [3, 4], [0,1], [5,9],[7,8]]))\n",
    "    print(mergeIntervalList([[100,101], [1, 2], [2, 3], [3, 4], [0,1], [5,9],[7,8]]))\n",
    "    print(mergeIntervalList([[10, 11], [100,101], [1, 2], [2, 3], [3, 4], [0,1], [5,9],[7,8]]))\n",
    "    print(mergeIntervalList([[100,101], [1, 102]]))"
   ]
  },
  {
   "cell_type": "code",
   "execution_count": 6,
   "metadata": {},
   "outputs": [
    {
     "name": "stdout",
     "output_type": "stream",
     "text": [
      "[[1, 8], [10, 20]]\n",
      "[[1, 4]]\n",
      "[[0, 4]]\n",
      "[[0, 4], [5, 9]]\n",
      "[[0, 4], [5, 9], [100, 101]]\n",
      "[[0, 4], [5, 9], [10, 11], [100, 101]]\n",
      "[[1, 102]]\n"
     ]
    }
   ],
   "source": [
    "test_mergeIntervalList()"
   ]
  },
  {
   "cell_type": "markdown",
   "metadata": {},
   "source": [
    "## 2.2 Binary Tree Serialization"
   ]
  },
  {
   "cell_type": "code",
   "execution_count": 7,
   "metadata": {},
   "outputs": [],
   "source": [
    "def isValidSerialization(preorder):\n",
    "    tokens = preorder.split(',')\n",
    "\n",
    "    stack = []\n",
    "\n",
    "    while tokens != []:\n",
    "        c = tokens.pop()\n",
    "        \n",
    "        if c == '#':\n",
    "            stack.append(c)\n",
    "        else:\n",
    "            if len(stack) < 2:\n",
    "                return False\n",
    "            \n",
    "            x = stack.pop()\n",
    "            y = stack.pop()\n",
    "            \n",
    "            if (x == '#') and (y == '#'):\n",
    "                stack.append('#')\n",
    "            else:\n",
    "                return False\n",
    "            \n",
    "    if stack == ['#']:\n",
    "        return True\n",
    "    else:\n",
    "        return False"
   ]
  },
  {
   "cell_type": "code",
   "execution_count": 8,
   "metadata": {},
   "outputs": [
    {
     "data": {
      "text/plain": [
       "True"
      ]
     },
     "execution_count": 8,
     "metadata": {},
     "output_type": "execute_result"
    }
   ],
   "source": [
    "isValidSerialization(\"9,3,4,#,#,1,#,#,2,#,6,#,#\")"
   ]
  },
  {
   "cell_type": "markdown",
   "metadata": {},
   "source": [
    "# 3. Recursion/Depth-First-Search (DFS)"
   ]
  },
  {
   "cell_type": "markdown",
   "metadata": {},
   "source": [
    "# 3.1 Find word in 2d grid"
   ]
  },
  {
   "cell_type": "markdown",
   "metadata": {},
   "source": [
    "Given a 2d grid, return whether if the input word exists in the grid. NSEW are allowed only"
   ]
  },
  {
   "cell_type": "code",
   "execution_count": 9,
   "metadata": {},
   "outputs": [],
   "source": [
    "# returns True if word is find starting at (x,y)\n",
    "# return False otherwise\n",
    "# if a word is found turns all the word\n",
    "def dfs_search(x, y, word, board, X, Y):\n",
    "    if word == '':\n",
    "        return True\n",
    "    elif (x < 0) or (x >= X) or (y >= Y) or (y < 0):\n",
    "        return False\n",
    "    elif board[x][y] != word[0]:\n",
    "        return False\n",
    "    else:\n",
    "        word = word[1:]\n",
    "        \n",
    "        board[x][y] += '_'\n",
    "        \n",
    "        ans = (dfs_search(x+1, y, word, board, X, Y)) or \\\n",
    "                (dfs_search(x, y+1, word, board, X, Y)) or \\\n",
    "                (dfs_search(x-1, y, word, board, X, Y)) or \\\n",
    "                (dfs_search(x, y-1, word, board, X, Y))\n",
    "        \n",
    "        board[x][y] = board[x][y][0]\n",
    "        \n",
    "        return ans \n",
    "        \n",
    "def hasWord(word, board):\n",
    "    X = len(board)\n",
    "    Y = len(board[0])\n",
    "    \n",
    "    for x in range(X):\n",
    "        for y in range(Y):\n",
    "            if dfs_search(x, y, word, board, X, Y):\n",
    "                return True\n",
    "    \n",
    "    return False"
   ]
  },
  {
   "cell_type": "code",
   "execution_count": 10,
   "metadata": {},
   "outputs": [],
   "source": [
    "def test_hasWord():\n",
    "    board1 = [['a', 'b','c'],['b', 'w', 'm'], ['l', 'e', 'o']]\n",
    "    print(board1, '\\nable', hasWord('able', board1))\n",
    "    \n",
    "    board1 = [['a', 'a','a'],['a', 'w', 'a'], ['a', 'a', 'a']]\n",
    "    print(board1, '\\naaaaaaaa', hasWord('aaaaaaaa', board1))\n",
    "    \n",
    "    board1 = [['a', 'a','a'],['a', 'w', 'a'], ['a', 'a', 'a']]\n",
    "    print(board1, '\\naaaaaaaaa', hasWord('aaaaaaaaa', board1))\n",
    "    \n",
    "    board1 = [['a', 'a','a'],['a', 'a', 'a'], ['a', 'a', 'a']]\n",
    "    print(board1, '\\naaaaaaaaa', hasWord('aaaaaaaaa', board1))\n",
    "    \n",
    "    board1 = [['a', 'a','a', 'x'],['a', 'a', 'a', 'y'], ['a', 'a', 'a', 'z'], ['a','a','b', 'a']]\n",
    "    print(board1, '\\nxyzab', hasWord('xyzab', board1))"
   ]
  },
  {
   "cell_type": "code",
   "execution_count": 11,
   "metadata": {},
   "outputs": [
    {
     "name": "stdout",
     "output_type": "stream",
     "text": [
      "[['a', 'b', 'c'], ['b', 'w', 'm'], ['l', 'e', 'o']] \n",
      "able True\n",
      "[['a', 'a', 'a'], ['a', 'w', 'a'], ['a', 'a', 'a']] \n",
      "aaaaaaaa True\n",
      "[['a', 'a', 'a'], ['a', 'w', 'a'], ['a', 'a', 'a']] \n",
      "aaaaaaaaa False\n",
      "[['a', 'a', 'a'], ['a', 'a', 'a'], ['a', 'a', 'a']] \n",
      "aaaaaaaaa True\n",
      "[['a', 'a', 'a', 'x'], ['a', 'a', 'a', 'y'], ['a', 'a', 'a', 'z'], ['a', 'a', 'b', 'a']] \n",
      "xyzab True\n"
     ]
    }
   ],
   "source": [
    "test_hasWord()"
   ]
  },
  {
   "cell_type": "markdown",
   "metadata": {},
   "source": [
    "## 3.2 Inversions in an Integer Array\n",
    "Given an integer array, count the number of inversions in it (number of inversions = smallest number of swaps in order to sort the array =  number of occurace of A[i] > A[j] but i < j)"
   ]
  },
  {
   "cell_type": "code",
   "execution_count": 12,
   "metadata": {},
   "outputs": [],
   "source": [
    "# insertAndCount: list of int, int, list of int, int --> list of int, int\n",
    "# assumes arr1 and arr2 are sorted\n",
    "# inv1 = # of inversions in arr1 before its was sorted\n",
    "# inv2 = # of inversions in arr1 before its was sorted\n",
    "# returns a sorted arr, A, by inserting arr1 and arr2 and # of inversions\n",
    "# of the sorted array, A, before sorting\n",
    "def insertAndCount(arr1, inv1, arr2, inv2):\n",
    "    inv = 0\n",
    "    ans = []\n",
    "    \n",
    "    while (arr1 != []) and (arr2 != []):\n",
    "        if arr1[0] <= arr2[0]:\n",
    "            ans.append(arr1.pop(0))\n",
    "        else:\n",
    "            ans.append(arr2.pop(0))\n",
    "            inv += len(arr1)\n",
    "    \n",
    "    ans += arr1 + arr2\n",
    "    \n",
    "    return ans, inv + inv1 + inv2\n",
    "\n",
    "def countInversions(arr):\n",
    "    if arr == []:\n",
    "        return [], 0\n",
    "    elif len(arr) == 1:\n",
    "        return arr, 0\n",
    "    else:\n",
    "        mid = len(arr) // 2\n",
    "        left, inv1 = countInversions(arr[:mid])\n",
    "        right, inv2 = countInversions(arr[mid:])\n",
    "        ans, inv = insertAndCount(left, inv1, right, inv2)\n",
    "        \n",
    "        return ans, inv\n",
    "    \n",
    "    "
   ]
  },
  {
   "cell_type": "code",
   "execution_count": 13,
   "metadata": {},
   "outputs": [],
   "source": [
    "def test_countInverses():\n",
    "    print(countInversions([]))\n",
    "    print(countInversions([1]))\n",
    "    print(countInversions([1,2,3]))\n",
    "    print(countInversions([1,3,2]))\n",
    "    print(countInversions([3,2,1]))\n",
    "    print(countInversions([x for x in range(10,0,-1)]))\n",
    "    print(countInversions([1,7,2,6,3,5,4]))"
   ]
  },
  {
   "cell_type": "code",
   "execution_count": 14,
   "metadata": {},
   "outputs": [
    {
     "name": "stdout",
     "output_type": "stream",
     "text": [
      "([], 0)\n",
      "([1], 0)\n",
      "([1, 2, 3], 0)\n",
      "([1, 2, 3], 1)\n",
      "([1, 2, 3], 3)\n",
      "([1, 2, 3, 4, 5, 6, 7, 8, 9, 10], 45)\n",
      "([1, 2, 3, 4, 5, 6, 7], 9)\n"
     ]
    }
   ],
   "source": [
    "test_countInverses()"
   ]
  },
  {
   "cell_type": "markdown",
   "metadata": {},
   "source": [
    "# 4 Dynamical Programming (Note: works as permutation, not combination)\n",
    "## 4.1 Optimize Fibonacci"
   ]
  },
  {
   "cell_type": "code",
   "execution_count": 18,
   "metadata": {},
   "outputs": [],
   "source": [
    "cache_fibonacci = {0 : 1, 1 : 1}\n",
    "\n",
    "def fibonacci(n):\n",
    "    if n <= 1:\n",
    "        return 1\n",
    "    else:\n",
    "        if n-2 in cache_fibonacci:\n",
    "            return cache_fibonacci[n-2] + fibonacci(n-1)\n",
    "        elif n-1 in cache_fibonacci:\n",
    "            return fibonacci(n-2) + cache_fibonacci[n-1]\n",
    "        else:\n",
    "            return fibonacci(n-1) + fibonacci(n-2)"
   ]
  },
  {
   "cell_type": "code",
   "execution_count": 19,
   "metadata": {},
   "outputs": [],
   "source": [
    "def test_fibonacci():\n",
    "    for i in range(0,20):\n",
    "        print(fibonacci(i))"
   ]
  },
  {
   "cell_type": "code",
   "execution_count": 20,
   "metadata": {},
   "outputs": [
    {
     "name": "stdout",
     "output_type": "stream",
     "text": [
      "1\n",
      "1\n",
      "2\n",
      "3\n",
      "5\n",
      "8\n",
      "13\n",
      "21\n",
      "34\n",
      "55\n",
      "89\n",
      "144\n",
      "233\n",
      "377\n",
      "610\n",
      "987\n",
      "1597\n",
      "2584\n",
      "4181\n",
      "6765\n"
     ]
    }
   ],
   "source": [
    "test_fibonacci()"
   ]
  },
  {
   "cell_type": "markdown",
   "metadata": {},
   "source": [
    "## 4.2 Jumping Stairs\n",
    "How many ways can Jim jump up n stairs if he can jump 1, 2, or 3 steps at a time?"
   ]
  },
  {
   "cell_type": "code",
   "execution_count": 21,
   "metadata": {},
   "outputs": [],
   "source": [
    "cache_jim = {}\n",
    "\n",
    "def numJumps(n):\n",
    "    if n == 0:\n",
    "        return 1\n",
    "    elif n < 0:\n",
    "        return 0\n",
    "    elif n in cache_jim:\n",
    "        return cache_jim[n]\n",
    "    else:\n",
    "        total = 0\n",
    "        \n",
    "        for i in range(1,4):\n",
    "            total += numJumps(n-i)\n",
    "        \n",
    "        cache_jim[n] = total\n",
    "        \n",
    "        return total"
   ]
  },
  {
   "cell_type": "code",
   "execution_count": 22,
   "metadata": {},
   "outputs": [],
   "source": [
    "def test_numJumps():\n",
    "    for i in range(0,10):\n",
    "        print(i,numJumps(i))"
   ]
  },
  {
   "cell_type": "code",
   "execution_count": 23,
   "metadata": {},
   "outputs": [
    {
     "name": "stdout",
     "output_type": "stream",
     "text": [
      "0 1\n",
      "1 1\n",
      "2 2\n",
      "3 4\n",
      "4 7\n",
      "5 13\n",
      "6 24\n",
      "7 44\n",
      "8 81\n",
      "9 149\n"
     ]
    }
   ],
   "source": [
    "test_numJumps()"
   ]
  },
  {
   "cell_type": "markdown",
   "metadata": {},
   "source": [
    "## 4.3 Max Path\n",
    "Given a N*N matrix with all distinct int entires. Find the max length (starting at any cell) path such that all cells along the path are in increasing order with a difference of 1. traverse NSEW"
   ]
  },
  {
   "cell_type": "code",
   "execution_count": 31,
   "metadata": {},
   "outputs": [],
   "source": [
    "def neighbors(x,y,N):\n",
    "    ans = []\n",
    "    \n",
    "    if (x+1) < N:\n",
    "        ans.append((x+1,y))\n",
    "    if 0 <= (x -1):\n",
    "        ans.append((x-1,y))\n",
    "    if (y+1) < N:\n",
    "        ans.append((x,y+1))\n",
    "    if 0 <= (y-1):\n",
    "        ans.append((x,y-1))\n",
    "    \n",
    "    return ans\n",
    "                   \n",
    "                   \n",
    "def maxLenFromCell(x,y, mat, N, cache_maxPath):\n",
    "    if (x,y) in cache_maxPath:\n",
    "        return cache_maxPath[(x,y)]\n",
    "    \n",
    "    maxLens = [1]\n",
    "\n",
    "    for i,j in neighbors(x,y,N):\n",
    "        if mat[i][j] - mat[x][y] == 1:\n",
    "            if (i,j) in cache_maxPath:\n",
    "                maxLens.append(1+cache_maxPath[(i,j)])\n",
    "            else:\n",
    "                maxLens.append(1+maxLenFromCell(i,j, mat, N, cache_maxPath))\n",
    "    \n",
    "    maxLen = max(maxLens)\n",
    "    \n",
    "    cache_maxPath[(x,y)] = maxLen\n",
    "    \n",
    "    return maxLen\n",
    "            \n",
    "            \n",
    "            \n",
    "def countMaxLen(mat):\n",
    "    cache_maxPath = {}\n",
    "    \n",
    "    N = len(mat) \n",
    "    maxLen = 0\n",
    "    \n",
    "    for x in range(0,N):\n",
    "        for y in range(0, N):\n",
    "            temp = maxLenFromCell(x,y,mat, N, cache_maxPath)\n",
    "            if temp > maxLen:\n",
    "                maxLen = temp\n",
    "    \n",
    "    #print(cache_maxPath)\n",
    "    \n",
    "    return maxLen"
   ]
  },
  {
   "cell_type": "code",
   "execution_count": 33,
   "metadata": {},
   "outputs": [
    {
     "name": "stdout",
     "output_type": "stream",
     "text": [
      "1\n",
      "1\n",
      "4\n",
      "3\n",
      "9\n"
     ]
    }
   ],
   "source": [
    "def test_countMaxLen():\n",
    "    print(countMaxLen([[]]))\n",
    "    print(countMaxLen([[2]]))\n",
    "    print(countMaxLen([[4,3],[1,2]]))\n",
    "    print(countMaxLen([[1,2,3],[4,5,6],[7,8,9]]))\n",
    "    print(countMaxLen([[9,8,7],[4,5,6],[3,2,1]]))\n",
    "\n",
    "test_countMaxLen()"
   ]
  }
 ],
 "metadata": {
  "kernelspec": {
   "display_name": "Python 3",
   "language": "python",
   "name": "python3"
  },
  "language_info": {
   "codemirror_mode": {
    "name": "ipython",
    "version": 3
   },
   "file_extension": ".py",
   "mimetype": "text/x-python",
   "name": "python",
   "nbconvert_exporter": "python",
   "pygments_lexer": "ipython3",
   "version": "3.6.5"
  }
 },
 "nbformat": 4,
 "nbformat_minor": 2
}
