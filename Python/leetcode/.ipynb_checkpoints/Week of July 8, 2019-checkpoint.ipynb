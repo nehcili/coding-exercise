{
 "cells": [
  {
   "cell_type": "markdown",
   "metadata": {},
   "source": [
    "# Week of July 8, 2019\n",
    "## Review\n",
    "\n",
    "\n",
    "## Note:\n",
    "- Check solutions to Candy (the solution page won't load during the week)\n",
    "- I did merge sort for Sort List. Try implementing quicksort for review\n",
    "- learn how to write comparison function in list.sort() or sorted. Use cmd_to_key: from functools import cmp_to_key\n",
    "- learn counting sort O(n+k) (k = base)\n",
    "- learn radix sort O(d(n+k)) (k = base, d = max length of digits)\n",
    "- learn bucket sort\n"
   ]
  },
  {
   "cell_type": "markdown",
   "metadata": {},
   "source": [
    "### July 8, 2019\n",
    "- Assign Cookies\n",
    "- Reorganize String\n",
    "    - count the number of each letter\n",
    "    - then use a heap to sort desending and add the letter with largest number left"
   ]
  },
  {
   "cell_type": "code",
   "execution_count": 5,
   "metadata": {},
   "outputs": [],
   "source": [
    "from heapq import heappush, heappop, heapify\n",
    "from collections import defaultdict\n",
    "class RS1:\n",
    "    def reorganizeString(self, S: str) -> str:\n",
    "        d = defaultdict(int)\n",
    "        for s in S:\n",
    "            d[s] -= 1\n",
    "        \n",
    "        h = [[d[x], x] for x in d]\n",
    "        heapify(h)\n",
    "        res = ''\n",
    "        carry = None\n",
    "        while h:\n",
    "            temp = heappop(h)\n",
    "            if carry:\n",
    "                heappush(h, carry)\n",
    "            res = res + temp[1]\n",
    "            temp[0] += 1\n",
    "            carry = temp if temp[0] else None\n",
    "        \n",
    "        if carry:\n",
    "            return ''\n",
    "        return res\n",
    "            \n",
    "x = RS1()   "
   ]
  },
  {
   "cell_type": "code",
   "execution_count": 6,
   "metadata": {},
   "outputs": [
    {
     "data": {
      "text/plain": [
       "'aba'"
      ]
     },
     "execution_count": 6,
     "metadata": {},
     "output_type": "execute_result"
    }
   ],
   "source": [
    "x.reorganizeString('aab')"
   ]
  },
  {
   "cell_type": "markdown",
   "metadata": {},
   "source": [
    "### July 9, 2019\n",
    "- Candy\n",
    "    - Candy1: my first attempt"
   ]
  },
  {
   "cell_type": "code",
   "execution_count": 108,
   "metadata": {},
   "outputs": [],
   "source": [
    "class Candy1:\n",
    "    def candy(self, ratings) -> int:\n",
    "        n = len(ratings)\n",
    "        if n < 2:\n",
    "            return n\n",
    "        \n",
    "        count = 0\n",
    "        sign = ratings[1] - ratings[0]\n",
    "        heights = []\n",
    "        end = 1\n",
    "        while end < n:\n",
    "            if sign*(ratings[end] - ratings[end-1]) > 0:\n",
    "                if sign > 0:\n",
    "                    count += 1\n",
    "                else:\n",
    "                    count -= 1\n",
    "                end += 1\n",
    "            elif sign == 0:\n",
    "                end += 1\n",
    "                if end > n-1:\n",
    "                    break\n",
    "                sign = ratings[end] - ratings[end-1]\n",
    "                if heights and heights[-1]:\n",
    "                    heights.append(0)\n",
    "            else:\n",
    "                heights.append(count)\n",
    "                count = 0\n",
    "                sign = ratings[end] - ratings[end-1]\n",
    "        if count:\n",
    "            heights.append(count)\n",
    "        \n",
    "        #print(heights)\n",
    "        \n",
    "        res = 0\n",
    "        i, m = 0, len(heights)\n",
    "        while i+1 < m:\n",
    "            a, b = heights[i], heights[i+1]\n",
    "            if a == 0:\n",
    "                i += 1\n",
    "            elif a < 0:\n",
    "                res += (-a) * (-a+1) // 2\n",
    "                i += 1\n",
    "            elif b == 0:\n",
    "                res += a * (a+1) // 2\n",
    "                i += 2\n",
    "            elif b < 0 and a < -b:\n",
    "                res += (a-1) * a // 2 + (-b) * (-b+1) // 2\n",
    "                i += 2\n",
    "            else:\n",
    "                res += a * (a+1) // 2 + (-b-1) * (-b) // 2\n",
    "                i += 2\n",
    "        if i < m:\n",
    "            res += abs(heights[i]) * (abs(heights[i])+1) // 2\n",
    "        \n",
    "        return res + n\n",
    "            \n",
    "x = Candy1()            "
   ]
  },
  {
   "cell_type": "code",
   "execution_count": 109,
   "metadata": {},
   "outputs": [
    {
     "name": "stdout",
     "output_type": "stream",
     "text": [
      "[1, -3]\n"
     ]
    },
    {
     "data": {
      "text/plain": [
       "11"
      ]
     },
     "execution_count": 109,
     "metadata": {},
     "output_type": "execute_result"
    }
   ],
   "source": [
    "x.candy([1,5,4,3,2])"
   ]
  },
  {
   "cell_type": "markdown",
   "metadata": {},
   "source": [
    "### July 10, 2019 - Start sorting\n",
    "- Sort List\n",
    "- Insertion sort list\n",
    "- Intersection of Two Arrays\n",
    "- Valid Anagram: learn from collections import Counter"
   ]
  },
  {
   "cell_type": "code",
   "execution_count": 1,
   "metadata": {},
   "outputs": [],
   "source": [
    "# Definition for singly-linked list.\n",
    "class ListNode:\n",
    "    def __init__(self, x):\n",
    "        self.val = x\n",
    "        self.next = None\n",
    "    \n",
    "    def printList(self):\n",
    "        temp = self\n",
    "        ans = []\n",
    "        while temp != None:\n",
    "            ans.append(temp.val)\n",
    "            temp = temp.next\n",
    "        print(ans)\n",
    "\n",
    "def makeList(lst):\n",
    "    if lst == []:\n",
    "        return []\n",
    "    else:\n",
    "        ans = ListNode(lst[0])\n",
    "        temp = ans\n",
    "        for e in lst[1:]:\n",
    "            temp.next = ListNode(e)\n",
    "            temp = temp.next\n",
    "        return ans"
   ]
  },
  {
   "cell_type": "code",
   "execution_count": 35,
   "metadata": {},
   "outputs": [],
   "source": [
    "# Definition for singly-linked list.\n",
    "# class ListNode:\n",
    "#     def __init__(self, x):\n",
    "#         self.val = x\n",
    "#         self.next = None\n",
    "\n",
    "class SL1:\n",
    "    def sortList(self, head: ListNode) -> ListNode:\n",
    "        left, right = self.split(head)\n",
    "        if not left:\n",
    "            return right\n",
    "        if not right:\n",
    "            return left\n",
    "        \n",
    "        #print('Left:')\n",
    "        #left.printList()\n",
    "        #print('Right:')\n",
    "        #right.printList()\n",
    "        return self.merge(self.sortList(left), self.sortList(right))\n",
    "        \n",
    "    \n",
    "    def split(self, head):\n",
    "        if not head or not head.next:\n",
    "            return head, None\n",
    "        \n",
    "        slow = head\n",
    "        fast = head.next.next\n",
    "        \n",
    "        while fast and fast.next:\n",
    "            fast = fast.next.next\n",
    "            slow = slow.next\n",
    "        slow.next, slow = None, slow.next\n",
    "        \n",
    "        return head, slow\n",
    "    \n",
    "    def merge(self, lst1, lst2):\n",
    "        if not lst1:\n",
    "            return lst2\n",
    "        if not lst2:\n",
    "            return lst1\n",
    "        \n",
    "        if lst1.val < lst2.val:\n",
    "            head = lst1\n",
    "            lst1 = lst1.next\n",
    "        else:\n",
    "            head = lst2\n",
    "            lst2 = lst2.next\n",
    "            \n",
    "        pre = head\n",
    "        while lst1 and lst2:\n",
    "            #print('lst1 and lst2:')\n",
    "            #lst1.printList()\n",
    "            #lst2.printList()\n",
    "            if lst1.val < lst2.val:\n",
    "                pre.next = lst1\n",
    "                pre, lst1 = lst1, lst1.next\n",
    "            else:\n",
    "                pre.next = lst2\n",
    "                pre, lst2 = lst2, lst2.next\n",
    "        \n",
    "        if lst1:\n",
    "            pre.next = lst1\n",
    "        else:\n",
    "            pre.next = lst2\n",
    "        \n",
    "        return head\n",
    "x = SL1()        "
   ]
  },
  {
   "cell_type": "code",
   "execution_count": 37,
   "metadata": {},
   "outputs": [
    {
     "name": "stdout",
     "output_type": "stream",
     "text": [
      "[1, 2, 3, 4]\n"
     ]
    }
   ],
   "source": [
    "x.sortList(makeList([4,2,1,3])).printList()"
   ]
  },
  {
   "cell_type": "code",
   "execution_count": 98,
   "metadata": {},
   "outputs": [],
   "source": [
    "class ISL1:\n",
    "    def insertionSortList(self, head: ListNode) -> ListNode:\n",
    "        if not head:\n",
    "            return None\n",
    "        prehead = ListNode(float('-inf'))\n",
    "        prehead.next = head\n",
    "        \n",
    "        end = prehead\n",
    "        cur = prehead\n",
    "        while end.next:\n",
    "            if end.val < end.next.val:\n",
    "                end = end.next\n",
    "                continue\n",
    "            #print('head and tail:')\n",
    "            #prehead.printList()\n",
    "            #end.printList()\n",
    "            while cur.next.val < end.next.val:\n",
    "                cur = cur.next\n",
    "            if cur != end:\n",
    "                cur.next, end.next.next, end.next = end.next, cur.next, end.next.next\n",
    "            else:\n",
    "                end = end.next\n",
    "            cur = prehead\n",
    "            \n",
    "            \n",
    "        \n",
    "        return prehead.next\n",
    "x = ISL1()"
   ]
  },
  {
   "cell_type": "code",
   "execution_count": 99,
   "metadata": {},
   "outputs": [
    {
     "name": "stdout",
     "output_type": "stream",
     "text": [
      "[1, 2, 3, 4]\n"
     ]
    }
   ],
   "source": [
    "x.insertionSortList(makeList([4,2,1,3])).printList()"
   ]
  },
  {
   "cell_type": "markdown",
   "metadata": {},
   "source": [
    "### July 11, 2019\n",
    "- Largest Number\n",
    "    - convert n to 0.nnnnnnn for key when doing sorting\n",
    "    - or use key = lambda x,y : x+y > y+x\n",
    "- Maximum Gap (do in linear time)"
   ]
  },
  {
   "cell_type": "code",
   "execution_count": 9,
   "metadata": {},
   "outputs": [],
   "source": [
    "from math import log, floor\n",
    "class LN1:\n",
    "    def largestNumber(self, nums) -> str:\n",
    "        def getKey(n):\n",
    "            if n:\n",
    "                return n / (10 ** len(str(n)) - 1)\n",
    "            return 0\n",
    "            \n",
    "        nums = sorted(nums, key=getKey, reverse=True)\n",
    "        print(nums)\n",
    "        if nums and nums[0] == 0:\n",
    "            return '0'\n",
    "        return ''.join(map(str, nums))\n",
    "    \n",
    "x = LN1()"
   ]
  },
  {
   "cell_type": "code",
   "execution_count": 10,
   "metadata": {},
   "outputs": [
    {
     "name": "stdout",
     "output_type": "stream",
     "text": [
      "[9609, 938, 824, 8247, 6973, 5703, 5607, 4398, 1399]\n"
     ]
    },
    {
     "data": {
      "text/plain": [
       "'9609938824824769735703560743981399'"
      ]
     },
     "execution_count": 10,
     "metadata": {},
     "output_type": "execute_result"
    }
   ],
   "source": [
    "x.largestNumber([824,938,1399,5607,6973,5703,9609,4398,8247])"
   ]
  },
  {
   "cell_type": "markdown",
   "metadata": {},
   "source": [
    "### July 12, 2019\n",
    "- Max Gap (Implement the Buckets and The Pigeonhole Principle)\n",
    "- K Closest Points to Origin (quick sort idea, but this is so slow)\n",
    "- Contains Duplicate III\n",
    "    - use buckets\n",
    "    - use hashtable\n",
    "- Merge Sorted Array\n",
    "    - insert the max at the back of nums1"
   ]
  },
  {
   "cell_type": "code",
   "execution_count": 1,
   "metadata": {},
   "outputs": [],
   "source": [
    "class KCPO1:\n",
    "    def kClosest(self, points, K: int):\n",
    "        \n",
    "        # first k pt in start <= x < end\n",
    "        # k always > 0\n",
    "        # start < end always\n",
    "        def helper(start, end, k): \n",
    "            print(points[start:end])\n",
    "            if end - start < 2:\n",
    "                return points[start:end]\n",
    "            \n",
    "            i = j = start + 1\n",
    "            while j < end:\n",
    "                if points[j][0]**2 + points[j][1]**2 > points[start][0]**2 + points[start][1]**2:\n",
    "                    j += 1\n",
    "                else:\n",
    "                    points[i], points[j] = points[j], points[i]\n",
    "                    i += 1\n",
    "                    j += 1\n",
    "            \n",
    "            \n",
    "            if i - start == k:\n",
    "                return points[start:i]\n",
    "            elif i == end:\n",
    "                points[start], points[end-1] = points[end-1], points[start]\n",
    "                return helper(start, end, k)\n",
    "            elif i - start < k:\n",
    "                return points[start:i] + helper(i, end, k - i + start)\n",
    "            else:\n",
    "                return helper(start, i, k)\n",
    "        \n",
    "        return helper(0, len(points), K)\n",
    "x = KCPO1()"
   ]
  },
  {
   "cell_type": "code",
   "execution_count": 2,
   "metadata": {},
   "outputs": [
    {
     "name": "stdout",
     "output_type": "stream",
     "text": [
      "[[1, 3], [-2, 2]]\n",
      "[[-2, 2], [1, 3]]\n"
     ]
    },
    {
     "data": {
      "text/plain": [
       "[[-2, 2]]"
      ]
     },
     "execution_count": 2,
     "metadata": {},
     "output_type": "execute_result"
    }
   ],
   "source": [
    "x.kClosest([[1,3],[-2,2]], 1)"
   ]
  },
  {
   "cell_type": "code",
   "execution_count": null,
   "metadata": {},
   "outputs": [],
   "source": []
  }
 ],
 "metadata": {
  "kernelspec": {
   "display_name": "Python 3",
   "language": "python",
   "name": "python3"
  },
  "language_info": {
   "codemirror_mode": {
    "name": "ipython",
    "version": 3
   },
   "file_extension": ".py",
   "mimetype": "text/x-python",
   "name": "python",
   "nbconvert_exporter": "python",
   "pygments_lexer": "ipython3",
   "version": "3.6.5"
  }
 },
 "nbformat": 4,
 "nbformat_minor": 2
}
